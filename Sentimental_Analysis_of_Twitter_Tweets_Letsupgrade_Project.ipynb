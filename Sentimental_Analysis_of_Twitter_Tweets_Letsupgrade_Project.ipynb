{
  "nbformat": 4,
  "nbformat_minor": 0,
  "metadata": {
    "kernelspec": {
      "display_name": "Python 3",
      "language": "python",
      "name": "python3"
    },
    "language_info": {
      "codemirror_mode": {
        "name": "ipython",
        "version": 3
      },
      "file_extension": ".py",
      "mimetype": "text/x-python",
      "name": "python",
      "nbconvert_exporter": "python",
      "pygments_lexer": "ipython3",
      "version": "3.8.5"
    },
    "colab": {
      "name": "Sentimental Analysis of Twitter Tweets Letsupgrade Project",
      "provenance": []
    }
  },
  "cells": [
    {
      "cell_type": "markdown",
      "metadata": {
        "id": "CaU-moVGnoy1"
      },
      "source": [
        "# **Sentimental Analysis of Twitter tweets**\n",
        "Project for Letsupgarde -Bale Veeresh Siva Sai"
      ]
    },
    {
      "cell_type": "code",
      "metadata": {
        "id": "40_ZLy0BnZU_"
      },
      "source": [
        "import numpy as np\n",
        "import pandas as pd\n",
        "import warnings\n",
        "warnings.filterwarnings('ignore')\n",
        "import json"
      ],
      "execution_count": 1,
      "outputs": []
    },
    {
      "cell_type": "code",
      "metadata": {
        "id": "3aNP4NlmnZVA"
      },
      "source": [
        "import tweepy\n",
        "import openpyxl\n",
        "from tweepy import OAuthHandler"
      ],
      "execution_count": 2,
      "outputs": []
    },
    {
      "cell_type": "code",
      "metadata": {
        "id": "L6cyytgInZVA"
      },
      "source": [
        "# credentials\n",
        "\n",
        "consumer_key = \"nucwiQk9GtsJfWFSGQjXFicnq\"\n",
        "consumer_secret = \"psbIvsTINgr6eEu89jMe2FwsOM28Cs3KaVLWUfBjADkAfFfhZV\"\n",
        "access_token = \"296102538-4rqAPJBZSl2dQW2Wd1qvciWfkNKFpv9GZ3IBp5t7\"\n",
        "access_token_secret = \"FoCmyrWsWVeyxjksdRwqujVyzQGT9tZVjRGqJoav021MU\""
      ],
      "execution_count": 3,
      "outputs": []
    },
    {
      "cell_type": "markdown",
      "metadata": {
        "id": "EsOfCQeuqCQH"
      },
      "source": [
        "**Authenticating with Twitter API**"
      ]
    },
    {
      "cell_type": "code",
      "metadata": {
        "id": "tV_fXY-snZVA"
      },
      "source": [
        "# call API\n",
        "auth = tweepy.OAuthHandler(consumer_key, consumer_secret)\n",
        "auth.set_access_token(access_token, access_token_secret)\n",
        "api = tweepy.API(auth)"
      ],
      "execution_count": 4,
      "outputs": []
    },
    {
      "cell_type": "markdown",
      "metadata": {
        "id": "HWN0NKJHqdo3"
      },
      "source": [
        "**Collecting Latest Tweets about Covid Vaccine using tweepy**"
      ]
    },
    {
      "cell_type": "code",
      "metadata": {
        "id": "7jclj_g7nZVB"
      },
      "source": [
        "# Lets provide the query which I need to search\n",
        "\n",
        "query = \"Covid Vaccine India\"\n",
        "\n",
        "# Fetch tweets\n",
        "\n",
        "Tweets = api.search(query, count=10, lang= 'en', exclude= 'retweets', tweet_mode= 'extended')\n",
        "\n",
        "for tweet in Tweets:\n",
        "    print(tweet)\n",
        "    print(\"=================================================\")"
      ],
      "execution_count": null,
      "outputs": []
    },
    {
      "cell_type": "markdown",
      "metadata": {
        "id": "NJyTDununZVB"
      },
      "source": [
        "# Getting the Tweets and some of its related Attributes"
      ]
    },
    {
      "cell_type": "code",
      "metadata": {
        "id": "VWZ6XttpnZVC",
        "colab": {
          "base_uri": "https://localhost:8080/",
          "height": 49
        },
        "outputId": "53474198-e19a-4596-b4c5-c9093e56ec8b"
      },
      "source": [
        "df = pd.DataFrame(columns=[\n",
        "    'Tweets', 'User', 'User_statuses_count',\n",
        "    'user_followers', 'User_location', 'User_verified',\n",
        "    'fav_count', 'rt_count', 'tweet_date'\n",
        "])\n",
        "df"
      ],
      "execution_count": 6,
      "outputs": [
        {
          "output_type": "execute_result",
          "data": {
            "text/html": [
              "<div>\n",
              "<style scoped>\n",
              "    .dataframe tbody tr th:only-of-type {\n",
              "        vertical-align: middle;\n",
              "    }\n",
              "\n",
              "    .dataframe tbody tr th {\n",
              "        vertical-align: top;\n",
              "    }\n",
              "\n",
              "    .dataframe thead th {\n",
              "        text-align: right;\n",
              "    }\n",
              "</style>\n",
              "<table border=\"1\" class=\"dataframe\">\n",
              "  <thead>\n",
              "    <tr style=\"text-align: right;\">\n",
              "      <th></th>\n",
              "      <th>Tweets</th>\n",
              "      <th>User</th>\n",
              "      <th>User_statuses_count</th>\n",
              "      <th>user_followers</th>\n",
              "      <th>User_location</th>\n",
              "      <th>User_verified</th>\n",
              "      <th>fav_count</th>\n",
              "      <th>rt_count</th>\n",
              "      <th>tweet_date</th>\n",
              "    </tr>\n",
              "  </thead>\n",
              "  <tbody>\n",
              "  </tbody>\n",
              "</table>\n",
              "</div>"
            ],
            "text/plain": [
              "Empty DataFrame\n",
              "Columns: [Tweets, User, User_statuses_count, user_followers, User_location, User_verified, fav_count, rt_count, tweet_date]\n",
              "Index: []"
            ]
          },
          "metadata": {
            "tags": []
          },
          "execution_count": 6
        }
      ]
    },
    {
      "cell_type": "code",
      "metadata": {
        "id": "naEn1pLNnZVD"
      },
      "source": [
        "def stream(data, file_name):\n",
        "    i=0\n",
        "    for tweet in tweepy.Cursor(api.search, q=data, count=100, lang='en').items():\n",
        "        print(i, end='\\r')\n",
        "        df.loc[i, 'Tweets'] = tweet.text\n",
        "        df.loc[i, 'User'] = tweet.user.name\n",
        "        df.loc[i, 'User_statuses_count'] = tweet.user.statuses_count\n",
        "        df.loc[i, 'user_followers'] = tweet.user.followers_count\n",
        "        df.loc[i, 'User_location'] = tweet.user.location\n",
        "        df.loc[i, 'User_verified'] = tweet.user.verified\n",
        "        df.loc[i, 'fav_count'] = tweet.favorite_count\n",
        "        df.loc[i, 'rt_count'] = tweet.retweet_count\n",
        "        df.loc[i, 'tweet_date'] = tweet.created_at\n",
        "        df.to_excel('{}.xlsx'.format(file_name))\n",
        "        i = i+1\n",
        "        if i == 1000:\n",
        "            break\n",
        "        else:\n",
        "            pass"
      ],
      "execution_count": 7,
      "outputs": []
    },
    {
      "cell_type": "code",
      "metadata": {
        "scrolled": true,
        "id": "MZZB9ClxnZVD",
        "colab": {
          "base_uri": "https://localhost:8080/"
        },
        "outputId": "fa1a9579-9557-49ef-99b4-bdf6320f427c"
      },
      "source": [
        "stream(data=[\"Covid Vaccine India\"], file_name='my_tweets')"
      ],
      "execution_count": 9,
      "outputs": [
        {
          "output_type": "stream",
          "text": [
            ""
          ],
          "name": "stdout"
        }
      ]
    },
    {
      "cell_type": "code",
      "metadata": {
        "id": "ZkQNGEGYnZVE",
        "colab": {
          "base_uri": "https://localhost:8080/",
          "height": 287
        },
        "outputId": "c3ac9869-6040-41fe-ea9d-bedaac8544b6"
      },
      "source": [
        "df.head()"
      ],
      "execution_count": 10,
      "outputs": [
        {
          "output_type": "execute_result",
          "data": {
            "text/html": [
              "<div>\n",
              "<style scoped>\n",
              "    .dataframe tbody tr th:only-of-type {\n",
              "        vertical-align: middle;\n",
              "    }\n",
              "\n",
              "    .dataframe tbody tr th {\n",
              "        vertical-align: top;\n",
              "    }\n",
              "\n",
              "    .dataframe thead th {\n",
              "        text-align: right;\n",
              "    }\n",
              "</style>\n",
              "<table border=\"1\" class=\"dataframe\">\n",
              "  <thead>\n",
              "    <tr style=\"text-align: right;\">\n",
              "      <th></th>\n",
              "      <th>Tweets</th>\n",
              "      <th>User</th>\n",
              "      <th>User_statuses_count</th>\n",
              "      <th>user_followers</th>\n",
              "      <th>User_location</th>\n",
              "      <th>User_verified</th>\n",
              "      <th>fav_count</th>\n",
              "      <th>rt_count</th>\n",
              "      <th>tweet_date</th>\n",
              "    </tr>\n",
              "  </thead>\n",
              "  <tbody>\n",
              "    <tr>\n",
              "      <th>0</th>\n",
              "      <td>RT @HardeepSPuri: 🔬 Government further scales ...</td>\n",
              "      <td>Beinginformed.in</td>\n",
              "      <td>18915</td>\n",
              "      <td>293</td>\n",
              "      <td>My Country India</td>\n",
              "      <td>False</td>\n",
              "      <td>0</td>\n",
              "      <td>44</td>\n",
              "      <td>2021-07-04 17:46:31</td>\n",
              "    </tr>\n",
              "    <tr>\n",
              "      <th>1</th>\n",
              "      <td>RT @HardeepSPuri: 🔬 Government further scales ...</td>\n",
              "      <td>Mohsin Shaikh🇮🇳</td>\n",
              "      <td>13722</td>\n",
              "      <td>1805</td>\n",
              "      <td>Pune, Maharashtra</td>\n",
              "      <td>False</td>\n",
              "      <td>0</td>\n",
              "      <td>44</td>\n",
              "      <td>2021-07-04 17:44:42</td>\n",
              "    </tr>\n",
              "    <tr>\n",
              "      <th>2</th>\n",
              "      <td>RT @FaheemYounus: Great News:\\n\\nPfizer, Moder...</td>\n",
              "      <td>Ibn Anjar™</td>\n",
              "      <td>35074</td>\n",
              "      <td>874</td>\n",
              "      <td>ÜT: -6.2130817,107.0288138</td>\n",
              "      <td>False</td>\n",
              "      <td>0</td>\n",
              "      <td>1539</td>\n",
              "      <td>2021-07-04 17:44:26</td>\n",
              "    </tr>\n",
              "    <tr>\n",
              "      <th>3</th>\n",
              "      <td>RT @HardeepSPuri: 🔬 Government further scales ...</td>\n",
              "      <td>VISHWANATH ACHARYA</td>\n",
              "      <td>26857</td>\n",
              "      <td>546</td>\n",
              "      <td>Pune, Maharashtra, India</td>\n",
              "      <td>False</td>\n",
              "      <td>0</td>\n",
              "      <td>44</td>\n",
              "      <td>2021-07-04 17:44:19</td>\n",
              "    </tr>\n",
              "    <tr>\n",
              "      <th>4</th>\n",
              "      <td>RT @HardeepSPuri: 🔬 Government further scales ...</td>\n",
              "      <td>Astro-कुमकुम 🇮🇳</td>\n",
              "      <td>41656</td>\n",
              "      <td>1218</td>\n",
              "      <td>New Delhi, India</td>\n",
              "      <td>False</td>\n",
              "      <td>0</td>\n",
              "      <td>44</td>\n",
              "      <td>2021-07-04 17:44:07</td>\n",
              "    </tr>\n",
              "  </tbody>\n",
              "</table>\n",
              "</div>"
            ],
            "text/plain": [
              "                                              Tweets  ...           tweet_date\n",
              "0  RT @HardeepSPuri: 🔬 Government further scales ...  ...  2021-07-04 17:46:31\n",
              "1  RT @HardeepSPuri: 🔬 Government further scales ...  ...  2021-07-04 17:44:42\n",
              "2  RT @FaheemYounus: Great News:\\n\\nPfizer, Moder...  ...  2021-07-04 17:44:26\n",
              "3  RT @HardeepSPuri: 🔬 Government further scales ...  ...  2021-07-04 17:44:19\n",
              "4  RT @HardeepSPuri: 🔬 Government further scales ...  ...  2021-07-04 17:44:07\n",
              "\n",
              "[5 rows x 9 columns]"
            ]
          },
          "metadata": {
            "tags": []
          },
          "execution_count": 10
        }
      ]
    },
    {
      "cell_type": "code",
      "metadata": {
        "id": "3ICLbrXrnZVE",
        "colab": {
          "base_uri": "https://localhost:8080/"
        },
        "outputId": "8c82c5d3-8e12-422a-a183-4c35b2b71835"
      },
      "source": [
        "df.shape"
      ],
      "execution_count": 11,
      "outputs": [
        {
          "output_type": "execute_result",
          "data": {
            "text/plain": [
              "(1000, 9)"
            ]
          },
          "metadata": {
            "tags": []
          },
          "execution_count": 11
        }
      ]
    },
    {
      "cell_type": "code",
      "metadata": {
        "id": "I4bKYhuEnZVE"
      },
      "source": [
        "from textblob import TextBlob"
      ],
      "execution_count": 12,
      "outputs": []
    },
    {
      "cell_type": "raw",
      "metadata": {
        "id": "eBsfXm2inZVE"
      },
      "source": [
        "Textblob has built-in sentiment property\n",
        "\n",
        "Sentiment(polarity, subjectivity)\n",
        "\n",
        "Polarity: It is a float score withan a range [-1, 1]\n",
        "\n",
        "Subjectivity: It is a float value in the range [0,1] where  0 means very Objective and 1 means very Subjective."
      ]
    },
    {
      "cell_type": "code",
      "metadata": {
        "id": "_2CVUzfinZVF"
      },
      "source": [
        "import re\n",
        "def clean_tweet(tweet):\n",
        "    return ' '.join(re.sub('(@[A-Za-z0-9]+)|([^0-9A-Za-z \\t])|(\\w+:\\/\\/\\S+)', ' ', tweet).split())"
      ],
      "execution_count": 13,
      "outputs": []
    },
    {
      "cell_type": "code",
      "metadata": {
        "id": "bSUxbujwnZVF"
      },
      "source": [
        "def analyze_sentiment(tweet):\n",
        "    analysis = TextBlob(tweet)\n",
        "    if analysis.sentiment.polarity>0:\n",
        "        return 'Positive'\n",
        "    elif analysis.sentiment.polarity==0:\n",
        "        return 'Neutral'\n",
        "    else:\n",
        "        return 'Negative'"
      ],
      "execution_count": 14,
      "outputs": []
    },
    {
      "cell_type": "code",
      "metadata": {
        "id": "GkWINyyGnZVF"
      },
      "source": [
        "df['clean_tweet'] = df['Tweets'].apply(lambda x: clean_tweet(x))"
      ],
      "execution_count": 15,
      "outputs": []
    },
    {
      "cell_type": "code",
      "metadata": {
        "id": "EGwT1KqcnZVF",
        "colab": {
          "base_uri": "https://localhost:8080/",
          "height": 203
        },
        "outputId": "2955ff65-e794-4360-c706-12d4a6e119e6"
      },
      "source": [
        "df[['Tweets','clean_tweet']].head()"
      ],
      "execution_count": 16,
      "outputs": [
        {
          "output_type": "execute_result",
          "data": {
            "text/html": [
              "<div>\n",
              "<style scoped>\n",
              "    .dataframe tbody tr th:only-of-type {\n",
              "        vertical-align: middle;\n",
              "    }\n",
              "\n",
              "    .dataframe tbody tr th {\n",
              "        vertical-align: top;\n",
              "    }\n",
              "\n",
              "    .dataframe thead th {\n",
              "        text-align: right;\n",
              "    }\n",
              "</style>\n",
              "<table border=\"1\" class=\"dataframe\">\n",
              "  <thead>\n",
              "    <tr style=\"text-align: right;\">\n",
              "      <th></th>\n",
              "      <th>Tweets</th>\n",
              "      <th>clean_tweet</th>\n",
              "    </tr>\n",
              "  </thead>\n",
              "  <tbody>\n",
              "    <tr>\n",
              "      <th>0</th>\n",
              "      <td>RT @HardeepSPuri: 🔬 Government further scales ...</td>\n",
              "      <td>RT Government further scales up India s Vaccin...</td>\n",
              "    </tr>\n",
              "    <tr>\n",
              "      <th>1</th>\n",
              "      <td>RT @HardeepSPuri: 🔬 Government further scales ...</td>\n",
              "      <td>RT Government further scales up India s Vaccin...</td>\n",
              "    </tr>\n",
              "    <tr>\n",
              "      <th>2</th>\n",
              "      <td>RT @FaheemYounus: Great News:\\n\\nPfizer, Moder...</td>\n",
              "      <td>RT Great News Pfizer Moderna J J and AZ COVID ...</td>\n",
              "    </tr>\n",
              "    <tr>\n",
              "      <th>3</th>\n",
              "      <td>RT @HardeepSPuri: 🔬 Government further scales ...</td>\n",
              "      <td>RT Government further scales up India s Vaccin...</td>\n",
              "    </tr>\n",
              "    <tr>\n",
              "      <th>4</th>\n",
              "      <td>RT @HardeepSPuri: 🔬 Government further scales ...</td>\n",
              "      <td>RT Government further scales up India s Vaccin...</td>\n",
              "    </tr>\n",
              "  </tbody>\n",
              "</table>\n",
              "</div>"
            ],
            "text/plain": [
              "                                              Tweets                                        clean_tweet\n",
              "0  RT @HardeepSPuri: 🔬 Government further scales ...  RT Government further scales up India s Vaccin...\n",
              "1  RT @HardeepSPuri: 🔬 Government further scales ...  RT Government further scales up India s Vaccin...\n",
              "2  RT @FaheemYounus: Great News:\\n\\nPfizer, Moder...  RT Great News Pfizer Moderna J J and AZ COVID ...\n",
              "3  RT @HardeepSPuri: 🔬 Government further scales ...  RT Government further scales up India s Vaccin...\n",
              "4  RT @HardeepSPuri: 🔬 Government further scales ...  RT Government further scales up India s Vaccin..."
            ]
          },
          "metadata": {
            "tags": []
          },
          "execution_count": 16
        }
      ]
    },
    {
      "cell_type": "code",
      "metadata": {
        "id": "8kh9CfZOnZVF"
      },
      "source": [
        "df['Sentiment'] = df['clean_tweet'].apply(lambda x: analyze_sentiment(x))"
      ],
      "execution_count": 17,
      "outputs": []
    },
    {
      "cell_type": "code",
      "metadata": {
        "id": "FDMiXH6enZVG",
        "colab": {
          "base_uri": "https://localhost:8080/",
          "height": 203
        },
        "outputId": "db25bb95-6d33-48ed-ad59-63c9730ce8e5"
      },
      "source": [
        "df[['clean_tweet','Sentiment']].head()"
      ],
      "execution_count": 18,
      "outputs": [
        {
          "output_type": "execute_result",
          "data": {
            "text/html": [
              "<div>\n",
              "<style scoped>\n",
              "    .dataframe tbody tr th:only-of-type {\n",
              "        vertical-align: middle;\n",
              "    }\n",
              "\n",
              "    .dataframe tbody tr th {\n",
              "        vertical-align: top;\n",
              "    }\n",
              "\n",
              "    .dataframe thead th {\n",
              "        text-align: right;\n",
              "    }\n",
              "</style>\n",
              "<table border=\"1\" class=\"dataframe\">\n",
              "  <thead>\n",
              "    <tr style=\"text-align: right;\">\n",
              "      <th></th>\n",
              "      <th>clean_tweet</th>\n",
              "      <th>Sentiment</th>\n",
              "    </tr>\n",
              "  </thead>\n",
              "  <tbody>\n",
              "    <tr>\n",
              "      <th>0</th>\n",
              "      <td>RT Government further scales up India s Vaccin...</td>\n",
              "      <td>Neutral</td>\n",
              "    </tr>\n",
              "    <tr>\n",
              "      <th>1</th>\n",
              "      <td>RT Government further scales up India s Vaccin...</td>\n",
              "      <td>Neutral</td>\n",
              "    </tr>\n",
              "    <tr>\n",
              "      <th>2</th>\n",
              "      <td>RT Great News Pfizer Moderna J J and AZ COVID ...</td>\n",
              "      <td>Positive</td>\n",
              "    </tr>\n",
              "    <tr>\n",
              "      <th>3</th>\n",
              "      <td>RT Government further scales up India s Vaccin...</td>\n",
              "      <td>Neutral</td>\n",
              "    </tr>\n",
              "    <tr>\n",
              "      <th>4</th>\n",
              "      <td>RT Government further scales up India s Vaccin...</td>\n",
              "      <td>Neutral</td>\n",
              "    </tr>\n",
              "  </tbody>\n",
              "</table>\n",
              "</div>"
            ],
            "text/plain": [
              "                                         clean_tweet Sentiment\n",
              "0  RT Government further scales up India s Vaccin...   Neutral\n",
              "1  RT Government further scales up India s Vaccin...   Neutral\n",
              "2  RT Great News Pfizer Moderna J J and AZ COVID ...  Positive\n",
              "3  RT Government further scales up India s Vaccin...   Neutral\n",
              "4  RT Government further scales up India s Vaccin...   Neutral"
            ]
          },
          "metadata": {
            "tags": []
          },
          "execution_count": 18
        }
      ]
    },
    {
      "cell_type": "code",
      "metadata": {
        "id": "JX_ga0FsnZVG"
      },
      "source": [
        "pd.set_option('display.max_rows', 500)\n",
        "pd.set_option('display.max_columns', 500)\n",
        "pd.set_option('display.width', 1000)"
      ],
      "execution_count": 19,
      "outputs": []
    },
    {
      "cell_type": "code",
      "metadata": {
        "id": "lYufxWXInZVG",
        "colab": {
          "base_uri": "https://localhost:8080/",
          "height": 203
        },
        "outputId": "95608a35-8f96-4ae4-8956-ee0a8d6f56db"
      },
      "source": [
        "df[['clean_tweet','Sentiment']].head()"
      ],
      "execution_count": 20,
      "outputs": [
        {
          "output_type": "execute_result",
          "data": {
            "text/html": [
              "<div>\n",
              "<style scoped>\n",
              "    .dataframe tbody tr th:only-of-type {\n",
              "        vertical-align: middle;\n",
              "    }\n",
              "\n",
              "    .dataframe tbody tr th {\n",
              "        vertical-align: top;\n",
              "    }\n",
              "\n",
              "    .dataframe thead th {\n",
              "        text-align: right;\n",
              "    }\n",
              "</style>\n",
              "<table border=\"1\" class=\"dataframe\">\n",
              "  <thead>\n",
              "    <tr style=\"text-align: right;\">\n",
              "      <th></th>\n",
              "      <th>clean_tweet</th>\n",
              "      <th>Sentiment</th>\n",
              "    </tr>\n",
              "  </thead>\n",
              "  <tbody>\n",
              "    <tr>\n",
              "      <th>0</th>\n",
              "      <td>RT Government further scales up India s Vaccin...</td>\n",
              "      <td>Neutral</td>\n",
              "    </tr>\n",
              "    <tr>\n",
              "      <th>1</th>\n",
              "      <td>RT Government further scales up India s Vaccin...</td>\n",
              "      <td>Neutral</td>\n",
              "    </tr>\n",
              "    <tr>\n",
              "      <th>2</th>\n",
              "      <td>RT Great News Pfizer Moderna J J and AZ COVID ...</td>\n",
              "      <td>Positive</td>\n",
              "    </tr>\n",
              "    <tr>\n",
              "      <th>3</th>\n",
              "      <td>RT Government further scales up India s Vaccin...</td>\n",
              "      <td>Neutral</td>\n",
              "    </tr>\n",
              "    <tr>\n",
              "      <th>4</th>\n",
              "      <td>RT Government further scales up India s Vaccin...</td>\n",
              "      <td>Neutral</td>\n",
              "    </tr>\n",
              "  </tbody>\n",
              "</table>\n",
              "</div>"
            ],
            "text/plain": [
              "                                         clean_tweet Sentiment\n",
              "0  RT Government further scales up India s Vaccin...   Neutral\n",
              "1  RT Government further scales up India s Vaccin...   Neutral\n",
              "2  RT Great News Pfizer Moderna J J and AZ COVID ...  Positive\n",
              "3  RT Government further scales up India s Vaccin...   Neutral\n",
              "4  RT Government further scales up India s Vaccin...   Neutral"
            ]
          },
          "metadata": {
            "tags": []
          },
          "execution_count": 20
        }
      ]
    },
    {
      "cell_type": "code",
      "metadata": {
        "id": "wP_ikhhmnZVG",
        "colab": {
          "base_uri": "https://localhost:8080/",
          "height": 371
        },
        "outputId": "f2bc7f2e-14a8-4ced-ef3e-a99fb50676e8"
      },
      "source": [
        "df.head()"
      ],
      "execution_count": 21,
      "outputs": [
        {
          "output_type": "execute_result",
          "data": {
            "text/html": [
              "<div>\n",
              "<style scoped>\n",
              "    .dataframe tbody tr th:only-of-type {\n",
              "        vertical-align: middle;\n",
              "    }\n",
              "\n",
              "    .dataframe tbody tr th {\n",
              "        vertical-align: top;\n",
              "    }\n",
              "\n",
              "    .dataframe thead th {\n",
              "        text-align: right;\n",
              "    }\n",
              "</style>\n",
              "<table border=\"1\" class=\"dataframe\">\n",
              "  <thead>\n",
              "    <tr style=\"text-align: right;\">\n",
              "      <th></th>\n",
              "      <th>Tweets</th>\n",
              "      <th>User</th>\n",
              "      <th>User_statuses_count</th>\n",
              "      <th>user_followers</th>\n",
              "      <th>User_location</th>\n",
              "      <th>User_verified</th>\n",
              "      <th>fav_count</th>\n",
              "      <th>rt_count</th>\n",
              "      <th>tweet_date</th>\n",
              "      <th>clean_tweet</th>\n",
              "      <th>Sentiment</th>\n",
              "    </tr>\n",
              "  </thead>\n",
              "  <tbody>\n",
              "    <tr>\n",
              "      <th>0</th>\n",
              "      <td>RT @HardeepSPuri: 🔬 Government further scales ...</td>\n",
              "      <td>Beinginformed.in</td>\n",
              "      <td>18915</td>\n",
              "      <td>293</td>\n",
              "      <td>My Country India</td>\n",
              "      <td>False</td>\n",
              "      <td>0</td>\n",
              "      <td>44</td>\n",
              "      <td>2021-07-04 17:46:31</td>\n",
              "      <td>RT Government further scales up India s Vaccin...</td>\n",
              "      <td>Neutral</td>\n",
              "    </tr>\n",
              "    <tr>\n",
              "      <th>1</th>\n",
              "      <td>RT @HardeepSPuri: 🔬 Government further scales ...</td>\n",
              "      <td>Mohsin Shaikh🇮🇳</td>\n",
              "      <td>13722</td>\n",
              "      <td>1805</td>\n",
              "      <td>Pune, Maharashtra</td>\n",
              "      <td>False</td>\n",
              "      <td>0</td>\n",
              "      <td>44</td>\n",
              "      <td>2021-07-04 17:44:42</td>\n",
              "      <td>RT Government further scales up India s Vaccin...</td>\n",
              "      <td>Neutral</td>\n",
              "    </tr>\n",
              "    <tr>\n",
              "      <th>2</th>\n",
              "      <td>RT @FaheemYounus: Great News:\\n\\nPfizer, Moder...</td>\n",
              "      <td>Ibn Anjar™</td>\n",
              "      <td>35074</td>\n",
              "      <td>874</td>\n",
              "      <td>ÜT: -6.2130817,107.0288138</td>\n",
              "      <td>False</td>\n",
              "      <td>0</td>\n",
              "      <td>1539</td>\n",
              "      <td>2021-07-04 17:44:26</td>\n",
              "      <td>RT Great News Pfizer Moderna J J and AZ COVID ...</td>\n",
              "      <td>Positive</td>\n",
              "    </tr>\n",
              "    <tr>\n",
              "      <th>3</th>\n",
              "      <td>RT @HardeepSPuri: 🔬 Government further scales ...</td>\n",
              "      <td>VISHWANATH ACHARYA</td>\n",
              "      <td>26857</td>\n",
              "      <td>546</td>\n",
              "      <td>Pune, Maharashtra, India</td>\n",
              "      <td>False</td>\n",
              "      <td>0</td>\n",
              "      <td>44</td>\n",
              "      <td>2021-07-04 17:44:19</td>\n",
              "      <td>RT Government further scales up India s Vaccin...</td>\n",
              "      <td>Neutral</td>\n",
              "    </tr>\n",
              "    <tr>\n",
              "      <th>4</th>\n",
              "      <td>RT @HardeepSPuri: 🔬 Government further scales ...</td>\n",
              "      <td>Astro-कुमकुम 🇮🇳</td>\n",
              "      <td>41656</td>\n",
              "      <td>1218</td>\n",
              "      <td>New Delhi, India</td>\n",
              "      <td>False</td>\n",
              "      <td>0</td>\n",
              "      <td>44</td>\n",
              "      <td>2021-07-04 17:44:07</td>\n",
              "      <td>RT Government further scales up India s Vaccin...</td>\n",
              "      <td>Neutral</td>\n",
              "    </tr>\n",
              "  </tbody>\n",
              "</table>\n",
              "</div>"
            ],
            "text/plain": [
              "                                              Tweets                User User_statuses_count user_followers               User_location User_verified fav_count rt_count           tweet_date                                        clean_tweet Sentiment\n",
              "0  RT @HardeepSPuri: 🔬 Government further scales ...    Beinginformed.in               18915            293           My Country India          False         0       44  2021-07-04 17:46:31  RT Government further scales up India s Vaccin...   Neutral\n",
              "1  RT @HardeepSPuri: 🔬 Government further scales ...     Mohsin Shaikh🇮🇳               13722           1805           Pune, Maharashtra         False         0       44  2021-07-04 17:44:42  RT Government further scales up India s Vaccin...   Neutral\n",
              "2  RT @FaheemYounus: Great News:\\n\\nPfizer, Moder...          Ibn Anjar™               35074            874  ÜT: -6.2130817,107.0288138         False         0     1539  2021-07-04 17:44:26  RT Great News Pfizer Moderna J J and AZ COVID ...  Positive\n",
              "3  RT @HardeepSPuri: 🔬 Government further scales ...  VISHWANATH ACHARYA               26857            546    Pune, Maharashtra, India         False         0       44  2021-07-04 17:44:19  RT Government further scales up India s Vaccin...   Neutral\n",
              "4  RT @HardeepSPuri: 🔬 Government further scales ...     Astro-कुमकुम 🇮🇳               41656           1218            New Delhi, India         False         0       44  2021-07-04 17:44:07  RT Government further scales up India s Vaccin...   Neutral"
            ]
          },
          "metadata": {
            "tags": []
          },
          "execution_count": 21
        }
      ]
    },
    {
      "cell_type": "code",
      "metadata": {
        "id": "Yq3pDQBInZVG",
        "colab": {
          "base_uri": "https://localhost:8080/"
        },
        "outputId": "97811cbb-45a3-4953-f96b-49d7459bd502"
      },
      "source": [
        "n = 20\n",
        "print('Original Tweet:\\n'+df['Tweets'][n])\n",
        "print()\n",
        "print('Clean Tweet:\\n'+df['clean_tweet'][n])\n",
        "print()\n",
        "print(\"Sentiment:\\n\"+df['Sentiment'][n])"
      ],
      "execution_count": 22,
      "outputs": [
        {
          "output_type": "stream",
          "text": [
            "Original Tweet:\n",
            "Indian hospital closed amid FAKE COVID VACCINE scam, as 2,500+ are feared to have been given saline &amp; antibiotics i… https://t.co/vMJlF5TaIM\n",
            "\n",
            "Clean Tweet:\n",
            "Indian hospital closed amid FAKE COVID VACCINE scam as 2 500 are feared to have been given saline amp antibiotics i\n",
            "\n",
            "Sentiment:\n",
            "Negative\n"
          ],
          "name": "stdout"
        }
      ]
    },
    {
      "cell_type": "code",
      "metadata": {
        "id": "65GUywHPnZVH",
        "colab": {
          "base_uri": "https://localhost:8080/"
        },
        "outputId": "700d4182-5f0d-4d0d-c448-527dae557353"
      },
      "source": [
        "n = 202\n",
        "print('Original Tweet:\\n'+df['Tweets'][n])\n",
        "print()\n",
        "print('Clean Tweet:\\n'+df['clean_tweet'][n])\n",
        "print()\n",
        "print(\"Sentiment:\\n\"+df['Sentiment'][n])"
      ],
      "execution_count": 23,
      "outputs": [
        {
          "output_type": "stream",
          "text": [
            "Original Tweet:\n",
            "RT @NewsBytesApp: In a remarkable achievement, COVAXIN, Bharat Biotech's COVID-19 vaccine, is overall 77.8 percent effective, the company s…\n",
            "\n",
            "Clean Tweet:\n",
            "RT In a remarkable achievement COVAXIN Bharat Biotech s COVID 19 vaccine is overall 77 8 percent effective the company s\n",
            "\n",
            "Sentiment:\n",
            "Positive\n"
          ],
          "name": "stdout"
        }
      ]
    },
    {
      "cell_type": "code",
      "metadata": {
        "id": "oJiB98HEnZVH",
        "colab": {
          "base_uri": "https://localhost:8080/"
        },
        "outputId": "0f2172b2-9cc5-459d-d6c9-002358eaa9dd"
      },
      "source": [
        "n = 50\n",
        "print('Original Tweet:\\n'+df['Tweets'][n])\n",
        "print()\n",
        "print('Clean Tweet:\\n'+df['clean_tweet'][n])\n",
        "print()\n",
        "print(\"Sentiment:\\n\"+df['Sentiment'][n])"
      ],
      "execution_count": 24,
      "outputs": [
        {
          "output_type": "stream",
          "text": [
            "Original Tweet:\n",
            "RT @HardeepSPuri: 🔬 Government further scales up India’s Vaccine Development &amp; Manufacturing Ecosystem with support from PM-CARES.\n",
            "\n",
            "🧪 Two m…\n",
            "\n",
            "Clean Tweet:\n",
            "RT Government further scales up India s Vaccine Development amp Manufacturing Ecosystem with support from PM CARES Two m\n",
            "\n",
            "Sentiment:\n",
            "Neutral\n"
          ],
          "name": "stdout"
        }
      ]
    },
    {
      "cell_type": "code",
      "metadata": {
        "colab": {
          "base_uri": "https://localhost:8080/",
          "height": 371
        },
        "id": "KDeUFxrppsJA",
        "outputId": "2cd4c89b-81a0-4451-8a37-85918142b865"
      },
      "source": [
        "df[df.Sentiment=='Positive'].head()"
      ],
      "execution_count": 28,
      "outputs": [
        {
          "output_type": "execute_result",
          "data": {
            "text/html": [
              "<div>\n",
              "<style scoped>\n",
              "    .dataframe tbody tr th:only-of-type {\n",
              "        vertical-align: middle;\n",
              "    }\n",
              "\n",
              "    .dataframe tbody tr th {\n",
              "        vertical-align: top;\n",
              "    }\n",
              "\n",
              "    .dataframe thead th {\n",
              "        text-align: right;\n",
              "    }\n",
              "</style>\n",
              "<table border=\"1\" class=\"dataframe\">\n",
              "  <thead>\n",
              "    <tr style=\"text-align: right;\">\n",
              "      <th></th>\n",
              "      <th>Tweets</th>\n",
              "      <th>User</th>\n",
              "      <th>User_statuses_count</th>\n",
              "      <th>user_followers</th>\n",
              "      <th>User_location</th>\n",
              "      <th>User_verified</th>\n",
              "      <th>fav_count</th>\n",
              "      <th>rt_count</th>\n",
              "      <th>tweet_date</th>\n",
              "      <th>clean_tweet</th>\n",
              "      <th>Sentiment</th>\n",
              "    </tr>\n",
              "  </thead>\n",
              "  <tbody>\n",
              "    <tr>\n",
              "      <th>2</th>\n",
              "      <td>RT @FaheemYounus: Great News:\\n\\nPfizer, Moder...</td>\n",
              "      <td>Ibn Anjar™</td>\n",
              "      <td>35074</td>\n",
              "      <td>874</td>\n",
              "      <td>ÜT: -6.2130817,107.0288138</td>\n",
              "      <td>False</td>\n",
              "      <td>0</td>\n",
              "      <td>1539</td>\n",
              "      <td>2021-07-04 17:44:26</td>\n",
              "      <td>RT Great News Pfizer Moderna J J and AZ COVID ...</td>\n",
              "      <td>Positive</td>\n",
              "    </tr>\n",
              "    <tr>\n",
              "      <th>7</th>\n",
              "      <td>RT @FaheemYounus: Great News:\\n\\nPfizer, Moder...</td>\n",
              "      <td>AZ's 🇲🇾🌺</td>\n",
              "      <td>3998</td>\n",
              "      <td>20</td>\n",
              "      <td></td>\n",
              "      <td>False</td>\n",
              "      <td>0</td>\n",
              "      <td>1539</td>\n",
              "      <td>2021-07-04 17:42:17</td>\n",
              "      <td>RT Great News Pfizer Moderna J J and AZ COVID ...</td>\n",
              "      <td>Positive</td>\n",
              "    </tr>\n",
              "    <tr>\n",
              "      <th>10</th>\n",
              "      <td>RT @PriyankKharge: India wasted valuable info ...</td>\n",
              "      <td>IRU PATIL ZALKI</td>\n",
              "      <td>12103</td>\n",
              "      <td>920</td>\n",
              "      <td>GULBARGA</td>\n",
              "      <td>False</td>\n",
              "      <td>0</td>\n",
              "      <td>19</td>\n",
              "      <td>2021-07-04 17:41:19</td>\n",
              "      <td>RT India wasted valuable info on 300 million C...</td>\n",
              "      <td>Positive</td>\n",
              "    </tr>\n",
              "    <tr>\n",
              "      <th>14</th>\n",
              "      <td>RT @c400_t: India: post vaccination death #262...</td>\n",
              "      <td>Droh Shankar</td>\n",
              "      <td>7778</td>\n",
              "      <td>202</td>\n",
              "      <td></td>\n",
              "      <td>False</td>\n",
              "      <td>0</td>\n",
              "      <td>7</td>\n",
              "      <td>2021-07-04 17:40:02</td>\n",
              "      <td>RT t India post vaccination death 2626 Bihar M...</td>\n",
              "      <td>Positive</td>\n",
              "    </tr>\n",
              "    <tr>\n",
              "      <th>17</th>\n",
              "      <td>RT @AmitShah: Incredible!\\n\\nAnother feather i...</td>\n",
              "      <td>भूपेन्द्र पान्डेय</td>\n",
              "      <td>3509</td>\n",
              "      <td>493</td>\n",
              "      <td>प्रयागराज</td>\n",
              "      <td>False</td>\n",
              "      <td>0</td>\n",
              "      <td>5546</td>\n",
              "      <td>2021-07-04 17:38:00</td>\n",
              "      <td>RT Incredible Another feather in the cap of In...</td>\n",
              "      <td>Positive</td>\n",
              "    </tr>\n",
              "  </tbody>\n",
              "</table>\n",
              "</div>"
            ],
            "text/plain": [
              "                                               Tweets               User User_statuses_count user_followers               User_location User_verified fav_count rt_count           tweet_date                                        clean_tweet Sentiment\n",
              "2   RT @FaheemYounus: Great News:\\n\\nPfizer, Moder...         Ibn Anjar™               35074            874  ÜT: -6.2130817,107.0288138         False         0     1539  2021-07-04 17:44:26  RT Great News Pfizer Moderna J J and AZ COVID ...  Positive\n",
              "7   RT @FaheemYounus: Great News:\\n\\nPfizer, Moder...           AZ's 🇲🇾🌺                3998             20                                     False         0     1539  2021-07-04 17:42:17  RT Great News Pfizer Moderna J J and AZ COVID ...  Positive\n",
              "10  RT @PriyankKharge: India wasted valuable info ...    IRU PATIL ZALKI               12103            920                    GULBARGA         False         0       19  2021-07-04 17:41:19  RT India wasted valuable info on 300 million C...  Positive\n",
              "14  RT @c400_t: India: post vaccination death #262...       Droh Shankar                7778            202                                     False         0        7  2021-07-04 17:40:02  RT t India post vaccination death 2626 Bihar M...  Positive\n",
              "17  RT @AmitShah: Incredible!\\n\\nAnother feather i...  भूपेन्द्र पान्डेय                3509            493                  प्रयागराज          False         0     5546  2021-07-04 17:38:00  RT Incredible Another feather in the cap of In...  Positive"
            ]
          },
          "metadata": {
            "tags": []
          },
          "execution_count": 28
        }
      ]
    },
    {
      "cell_type": "code",
      "metadata": {
        "id": "QtXURiMvnZVH",
        "colab": {
          "base_uri": "https://localhost:8080/"
        },
        "outputId": "00a2544d-ddfe-4b91-c920-a6b9bf57498a"
      },
      "source": [
        "df[df.Sentiment=='Positive'].shape[0]"
      ],
      "execution_count": 25,
      "outputs": [
        {
          "output_type": "execute_result",
          "data": {
            "text/plain": [
              "362"
            ]
          },
          "metadata": {
            "tags": []
          },
          "execution_count": 25
        }
      ]
    },
    {
      "cell_type": "code",
      "metadata": {
        "colab": {
          "base_uri": "https://localhost:8080/",
          "height": 371
        },
        "id": "8o65Z1RkpyJo",
        "outputId": "541cb7cd-58ed-4db2-9b08-2f7fb429ba83"
      },
      "source": [
        "df[df.Sentiment=='Neutral'].head()"
      ],
      "execution_count": 29,
      "outputs": [
        {
          "output_type": "execute_result",
          "data": {
            "text/html": [
              "<div>\n",
              "<style scoped>\n",
              "    .dataframe tbody tr th:only-of-type {\n",
              "        vertical-align: middle;\n",
              "    }\n",
              "\n",
              "    .dataframe tbody tr th {\n",
              "        vertical-align: top;\n",
              "    }\n",
              "\n",
              "    .dataframe thead th {\n",
              "        text-align: right;\n",
              "    }\n",
              "</style>\n",
              "<table border=\"1\" class=\"dataframe\">\n",
              "  <thead>\n",
              "    <tr style=\"text-align: right;\">\n",
              "      <th></th>\n",
              "      <th>Tweets</th>\n",
              "      <th>User</th>\n",
              "      <th>User_statuses_count</th>\n",
              "      <th>user_followers</th>\n",
              "      <th>User_location</th>\n",
              "      <th>User_verified</th>\n",
              "      <th>fav_count</th>\n",
              "      <th>rt_count</th>\n",
              "      <th>tweet_date</th>\n",
              "      <th>clean_tweet</th>\n",
              "      <th>Sentiment</th>\n",
              "    </tr>\n",
              "  </thead>\n",
              "  <tbody>\n",
              "    <tr>\n",
              "      <th>0</th>\n",
              "      <td>RT @HardeepSPuri: 🔬 Government further scales ...</td>\n",
              "      <td>Beinginformed.in</td>\n",
              "      <td>18915</td>\n",
              "      <td>293</td>\n",
              "      <td>My Country India</td>\n",
              "      <td>False</td>\n",
              "      <td>0</td>\n",
              "      <td>44</td>\n",
              "      <td>2021-07-04 17:46:31</td>\n",
              "      <td>RT Government further scales up India s Vaccin...</td>\n",
              "      <td>Neutral</td>\n",
              "    </tr>\n",
              "    <tr>\n",
              "      <th>1</th>\n",
              "      <td>RT @HardeepSPuri: 🔬 Government further scales ...</td>\n",
              "      <td>Mohsin Shaikh🇮🇳</td>\n",
              "      <td>13722</td>\n",
              "      <td>1805</td>\n",
              "      <td>Pune, Maharashtra</td>\n",
              "      <td>False</td>\n",
              "      <td>0</td>\n",
              "      <td>44</td>\n",
              "      <td>2021-07-04 17:44:42</td>\n",
              "      <td>RT Government further scales up India s Vaccin...</td>\n",
              "      <td>Neutral</td>\n",
              "    </tr>\n",
              "    <tr>\n",
              "      <th>3</th>\n",
              "      <td>RT @HardeepSPuri: 🔬 Government further scales ...</td>\n",
              "      <td>VISHWANATH ACHARYA</td>\n",
              "      <td>26857</td>\n",
              "      <td>546</td>\n",
              "      <td>Pune, Maharashtra, India</td>\n",
              "      <td>False</td>\n",
              "      <td>0</td>\n",
              "      <td>44</td>\n",
              "      <td>2021-07-04 17:44:19</td>\n",
              "      <td>RT Government further scales up India s Vaccin...</td>\n",
              "      <td>Neutral</td>\n",
              "    </tr>\n",
              "    <tr>\n",
              "      <th>4</th>\n",
              "      <td>RT @HardeepSPuri: 🔬 Government further scales ...</td>\n",
              "      <td>Astro-कुमकुम 🇮🇳</td>\n",
              "      <td>41656</td>\n",
              "      <td>1218</td>\n",
              "      <td>New Delhi, India</td>\n",
              "      <td>False</td>\n",
              "      <td>0</td>\n",
              "      <td>44</td>\n",
              "      <td>2021-07-04 17:44:07</td>\n",
              "      <td>RT Government further scales up India s Vaccin...</td>\n",
              "      <td>Neutral</td>\n",
              "    </tr>\n",
              "    <tr>\n",
              "      <th>5</th>\n",
              "      <td>RT @amarprasadreddy: India administered over 3...</td>\n",
              "      <td>Santosh Dixit</td>\n",
              "      <td>20</td>\n",
              "      <td>0</td>\n",
              "      <td></td>\n",
              "      <td>False</td>\n",
              "      <td>0</td>\n",
              "      <td>77</td>\n",
              "      <td>2021-07-04 17:44:03</td>\n",
              "      <td>RT India administered over 350 million COVID 1...</td>\n",
              "      <td>Neutral</td>\n",
              "    </tr>\n",
              "  </tbody>\n",
              "</table>\n",
              "</div>"
            ],
            "text/plain": [
              "                                              Tweets                User User_statuses_count user_followers             User_location User_verified fav_count rt_count           tweet_date                                        clean_tweet Sentiment\n",
              "0  RT @HardeepSPuri: 🔬 Government further scales ...    Beinginformed.in               18915            293         My Country India          False         0       44  2021-07-04 17:46:31  RT Government further scales up India s Vaccin...   Neutral\n",
              "1  RT @HardeepSPuri: 🔬 Government further scales ...     Mohsin Shaikh🇮🇳               13722           1805         Pune, Maharashtra         False         0       44  2021-07-04 17:44:42  RT Government further scales up India s Vaccin...   Neutral\n",
              "3  RT @HardeepSPuri: 🔬 Government further scales ...  VISHWANATH ACHARYA               26857            546  Pune, Maharashtra, India         False         0       44  2021-07-04 17:44:19  RT Government further scales up India s Vaccin...   Neutral\n",
              "4  RT @HardeepSPuri: 🔬 Government further scales ...     Astro-कुमकुम 🇮🇳               41656           1218          New Delhi, India         False         0       44  2021-07-04 17:44:07  RT Government further scales up India s Vaccin...   Neutral\n",
              "5  RT @amarprasadreddy: India administered over 3...       Santosh Dixit                  20              0                                   False         0       77  2021-07-04 17:44:03  RT India administered over 350 million COVID 1...   Neutral"
            ]
          },
          "metadata": {
            "tags": []
          },
          "execution_count": 29
        }
      ]
    },
    {
      "cell_type": "code",
      "metadata": {
        "id": "qJEgeaq7nZVH",
        "colab": {
          "base_uri": "https://localhost:8080/"
        },
        "outputId": "12f01e2d-15e9-44dd-a6b0-f821814cb2e4"
      },
      "source": [
        "df[df.Sentiment=='Neutral'].shape[0]"
      ],
      "execution_count": 26,
      "outputs": [
        {
          "output_type": "execute_result",
          "data": {
            "text/plain": [
              "495"
            ]
          },
          "metadata": {
            "tags": []
          },
          "execution_count": 26
        }
      ]
    },
    {
      "cell_type": "code",
      "metadata": {
        "colab": {
          "base_uri": "https://localhost:8080/",
          "height": 287
        },
        "id": "p6nrK5Obp6Vh",
        "outputId": "5aedd97f-8936-4300-fb46-26419c934446"
      },
      "source": [
        "df[df.Sentiment=='Negative'].head()"
      ],
      "execution_count": 30,
      "outputs": [
        {
          "output_type": "execute_result",
          "data": {
            "text/html": [
              "<div>\n",
              "<style scoped>\n",
              "    .dataframe tbody tr th:only-of-type {\n",
              "        vertical-align: middle;\n",
              "    }\n",
              "\n",
              "    .dataframe tbody tr th {\n",
              "        vertical-align: top;\n",
              "    }\n",
              "\n",
              "    .dataframe thead th {\n",
              "        text-align: right;\n",
              "    }\n",
              "</style>\n",
              "<table border=\"1\" class=\"dataframe\">\n",
              "  <thead>\n",
              "    <tr style=\"text-align: right;\">\n",
              "      <th></th>\n",
              "      <th>Tweets</th>\n",
              "      <th>User</th>\n",
              "      <th>User_statuses_count</th>\n",
              "      <th>user_followers</th>\n",
              "      <th>User_location</th>\n",
              "      <th>User_verified</th>\n",
              "      <th>fav_count</th>\n",
              "      <th>rt_count</th>\n",
              "      <th>tweet_date</th>\n",
              "      <th>clean_tweet</th>\n",
              "      <th>Sentiment</th>\n",
              "    </tr>\n",
              "  </thead>\n",
              "  <tbody>\n",
              "    <tr>\n",
              "      <th>12</th>\n",
              "      <td>@Prayagwale Why did the US refused to provide ...</td>\n",
              "      <td>Qurat ul Ain Ismail</td>\n",
              "      <td>4926</td>\n",
              "      <td>378</td>\n",
              "      <td></td>\n",
              "      <td>False</td>\n",
              "      <td>0</td>\n",
              "      <td>0</td>\n",
              "      <td>2021-07-04 17:40:47</td>\n",
              "      <td>Why did the US refused to provide raw material...</td>\n",
              "      <td>Negative</td>\n",
              "    </tr>\n",
              "    <tr>\n",
              "      <th>20</th>\n",
              "      <td>Indian hospital closed amid FAKE COVID VACCINE...</td>\n",
              "      <td>Philip John Edwards</td>\n",
              "      <td>6859</td>\n",
              "      <td>357</td>\n",
              "      <td>Cambridge UK</td>\n",
              "      <td>False</td>\n",
              "      <td>0</td>\n",
              "      <td>0</td>\n",
              "      <td>2021-07-04 17:35:36</td>\n",
              "      <td>Indian hospital closed amid FAKE COVID VACCINE...</td>\n",
              "      <td>Negative</td>\n",
              "    </tr>\n",
              "    <tr>\n",
              "      <th>22</th>\n",
              "      <td>RT @Indian10000000: ++ While affidavit says, 1...</td>\n",
              "      <td>NITYA NAND MISHRA</td>\n",
              "      <td>39436</td>\n",
              "      <td>127</td>\n",
              "      <td>New Delhi, India</td>\n",
              "      <td>False</td>\n",
              "      <td>0</td>\n",
              "      <td>42</td>\n",
              "      <td>2021-07-04 17:34:20</td>\n",
              "      <td>RT While affidavit says 16cr doses on 5 May Cl...</td>\n",
              "      <td>Negative</td>\n",
              "    </tr>\n",
              "    <tr>\n",
              "      <th>44</th>\n",
              "      <td>RT @Indian10000000: ++ While affidavit says, 1...</td>\n",
              "      <td>Parry Singh</td>\n",
              "      <td>14374</td>\n",
              "      <td>82</td>\n",
              "      <td>Heart</td>\n",
              "      <td>False</td>\n",
              "      <td>0</td>\n",
              "      <td>42</td>\n",
              "      <td>2021-07-04 17:22:12</td>\n",
              "      <td>RT While affidavit says 16cr doses on 5 May Cl...</td>\n",
              "      <td>Negative</td>\n",
              "    </tr>\n",
              "    <tr>\n",
              "      <th>66</th>\n",
              "      <td>Indian hospital closed amid FAKE COVID VACCINE...</td>\n",
              "      <td>Captain_N</td>\n",
              "      <td>37789</td>\n",
              "      <td>1302</td>\n",
              "      <td>Pacific</td>\n",
              "      <td>False</td>\n",
              "      <td>0</td>\n",
              "      <td>0</td>\n",
              "      <td>2021-07-04 17:14:19</td>\n",
              "      <td>Indian hospital closed amid FAKE COVID VACCINE...</td>\n",
              "      <td>Negative</td>\n",
              "    </tr>\n",
              "  </tbody>\n",
              "</table>\n",
              "</div>"
            ],
            "text/plain": [
              "                                               Tweets                 User User_statuses_count user_followers     User_location User_verified fav_count rt_count           tweet_date                                        clean_tweet Sentiment\n",
              "12  @Prayagwale Why did the US refused to provide ...  Qurat ul Ain Ismail                4926            378                           False         0        0  2021-07-04 17:40:47  Why did the US refused to provide raw material...  Negative\n",
              "20  Indian hospital closed amid FAKE COVID VACCINE...  Philip John Edwards                6859            357      Cambridge UK         False         0        0  2021-07-04 17:35:36  Indian hospital closed amid FAKE COVID VACCINE...  Negative\n",
              "22  RT @Indian10000000: ++ While affidavit says, 1...    NITYA NAND MISHRA               39436            127  New Delhi, India         False         0       42  2021-07-04 17:34:20  RT While affidavit says 16cr doses on 5 May Cl...  Negative\n",
              "44  RT @Indian10000000: ++ While affidavit says, 1...          Parry Singh               14374             82             Heart         False         0       42  2021-07-04 17:22:12  RT While affidavit says 16cr doses on 5 May Cl...  Negative\n",
              "66  Indian hospital closed amid FAKE COVID VACCINE...            Captain_N               37789           1302          Pacific          False         0        0  2021-07-04 17:14:19  Indian hospital closed amid FAKE COVID VACCINE...  Negative"
            ]
          },
          "metadata": {
            "tags": []
          },
          "execution_count": 30
        }
      ]
    },
    {
      "cell_type": "code",
      "metadata": {
        "id": "epwiHcTtnZVI",
        "colab": {
          "base_uri": "https://localhost:8080/"
        },
        "outputId": "bf7839f1-7acc-478d-f925-60c142b8c8ee"
      },
      "source": [
        "df[df.Sentiment=='Negative'].shape[0]"
      ],
      "execution_count": 27,
      "outputs": [
        {
          "output_type": "execute_result",
          "data": {
            "text/plain": [
              "143"
            ]
          },
          "metadata": {
            "tags": []
          },
          "execution_count": 27
        }
      ]
    }
  ]
}