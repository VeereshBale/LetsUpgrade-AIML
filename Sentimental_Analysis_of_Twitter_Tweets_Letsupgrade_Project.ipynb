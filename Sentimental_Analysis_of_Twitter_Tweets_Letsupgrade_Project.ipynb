{
  "nbformat": 4,
  "nbformat_minor": 0,
  "metadata": {
    "kernelspec": {
      "display_name": "Python 3",
      "language": "python",
      "name": "python3"
    },
    "language_info": {
      "codemirror_mode": {
        "name": "ipython",
        "version": 3
      },
      "file_extension": ".py",
      "mimetype": "text/x-python",
      "name": "python",
      "nbconvert_exporter": "python",
      "pygments_lexer": "ipython3",
      "version": "3.8.5"
    },
    "colab": {
      "name": "Sentimental Analysis of Twitter Tweets Letsupgrade Project",
      "provenance": []
    }
  },
  "cells": [
    {
      "cell_type": "markdown",
      "metadata": {
        "id": "CaU-moVGnoy1"
      },
      "source": [
        "# **Sentimental Analysis of Twitter tweets**\n",
        "Project for Letsupgarde -Bale Veeresh Siva Sai"
      ]
    },
    {
      "cell_type": "code",
      "metadata": {
        "id": "40_ZLy0BnZU_"
      },
      "source": [
        "import numpy as np\n",
        "import pandas as pd\n",
        "import warnings\n",
        "warnings.filterwarnings('ignore')\n",
        "import json"
      ],
      "execution_count": 1,
      "outputs": []
    },
    {
      "cell_type": "code",
      "metadata": {
        "id": "3aNP4NlmnZVA"
      },
      "source": [
        "import tweepy\n",
        "import openpyxl\n",
        "from tweepy import OAuthHandler"
      ],
      "execution_count": 2,
      "outputs": []
    },
    {
      "cell_type": "code",
      "metadata": {
        "id": "L6cyytgInZVA"
      },
      "source": [
        "# credentials\n",
        "\n",
        "consumer_key = \"nucwiQk9GtsJfWFSGQjXFicnq\"\n",
        "consumer_secret = \"psbIvsTINgr6eEu89jMe2FwsOM28Cs3KaVLWUfBjADkAfFfhZV\"\n",
        "access_token = \"296102538-4rqAPJBZSl2dQW2Wd1qvciWfkNKFpv9GZ3IBp5t7\"\n",
        "access_token_secret = \"FoCmyrWsWVeyxjksdRwqujVyzQGT9tZVjRGqJoav021MU\""
      ],
      "execution_count": 3,
      "outputs": []
    },
    {
      "cell_type": "markdown",
      "metadata": {
        "id": "EsOfCQeuqCQH"
      },
      "source": [
        "**Authenticating with Twitter API**"
      ]
    },
    {
      "cell_type": "code",
      "metadata": {
        "id": "tV_fXY-snZVA"
      },
      "source": [
        "# call API\n",
        "auth = tweepy.OAuthHandler(consumer_key, consumer_secret)\n",
        "auth.set_access_token(access_token, access_token_secret)\n",
        "api = tweepy.API(auth)"
      ],
      "execution_count": 4,
      "outputs": []
    },
    {
      "cell_type": "markdown",
      "metadata": {
        "id": "HWN0NKJHqdo3"
      },
      "source": [
        "**Collecting Latest Tweets about Covid Vaccine using tweepy**"
      ]
    },
    {
      "cell_type": "code",
      "metadata": {
        "id": "7jclj_g7nZVB",
        "colab": {
          "base_uri": "https://localhost:8080/"
        },
        "outputId": "61bf254e-2dc4-41a1-af98-6ef406f0c627"
      },
      "source": [
        "# Lets provide the query which I need to search\n",
        "\n",
        "query = \"Covid Vaccine India\"\n",
        "\n",
        "# Fetch tweets\n",
        "\n",
        "Tweets = api.search(query, count=10, lang= 'en', exclude= 'retweets', tweet_mode= 'extended')\n",
        "\n",
        "for tweet in Tweets:\n",
        "    print(tweet)\n",
        "    print(\"=================================================\")"
      ],
      "execution_count": 5,
      "outputs": [
        {
          "output_type": "stream",
          "text": [
            "Status(_api=<tweepy.api.API object at 0x7fcab83068d0>, _json={'created_at': 'Sun Jul 04 17:40:47 +0000 2021', 'id': 1411741795411693568, 'id_str': '1411741795411693568', 'full_text': '@Prayagwale Why did the US refused to provide raw material for the COVID vaccine to India despite repeated requests from the Indian government?', 'truncated': False, 'display_text_range': [12, 143], 'entities': {'hashtags': [], 'symbols': [], 'user_mentions': [{'screen_name': 'Prayagwale', 'name': 'Prayagraj', 'id': 851724981574782977, 'id_str': '851724981574782977', 'indices': [0, 11]}], 'urls': []}, 'metadata': {'iso_language_code': 'en', 'result_type': 'recent'}, 'source': '<a href=\"http://twitter.com/download/iphone\" rel=\"nofollow\">Twitter for iPhone</a>', 'in_reply_to_status_id': 1411738112061894657, 'in_reply_to_status_id_str': '1411738112061894657', 'in_reply_to_user_id': 851724981574782977, 'in_reply_to_user_id_str': '851724981574782977', 'in_reply_to_screen_name': 'Prayagwale', 'user': {'id': 637247040, 'id_str': '637247040', 'name': 'Qurat ul Ain Ismail', 'screen_name': 'QueenQuratulAin', 'location': '', 'description': 'Bibliophile, Critic, Marketing Aficionado. Patriotic Pakistani with passion for teaching.', 'url': None, 'entities': {'description': {'urls': []}}, 'protected': False, 'followers_count': 378, 'friends_count': 552, 'listed_count': 2, 'created_at': 'Mon Jul 16 18:14:52 +0000 2012', 'favourites_count': 2837, 'utc_offset': None, 'time_zone': None, 'geo_enabled': False, 'verified': False, 'statuses_count': 4925, 'lang': None, 'contributors_enabled': False, 'is_translator': False, 'is_translation_enabled': False, 'profile_background_color': 'C0DEED', 'profile_background_image_url': 'http://abs.twimg.com/images/themes/theme1/bg.png', 'profile_background_image_url_https': 'https://abs.twimg.com/images/themes/theme1/bg.png', 'profile_background_tile': False, 'profile_image_url': 'http://pbs.twimg.com/profile_images/552917866966573056/MKCwzDds_normal.jpeg', 'profile_image_url_https': 'https://pbs.twimg.com/profile_images/552917866966573056/MKCwzDds_normal.jpeg', 'profile_banner_url': 'https://pbs.twimg.com/profile_banners/637247040/1485027908', 'profile_link_color': '19CF86', 'profile_sidebar_border_color': 'C0DEED', 'profile_sidebar_fill_color': 'DDEEF6', 'profile_text_color': '0084B4', 'profile_use_background_image': True, 'has_extended_profile': False, 'default_profile': False, 'default_profile_image': False, 'following': False, 'follow_request_sent': False, 'notifications': False, 'translator_type': 'none', 'withheld_in_countries': []}, 'geo': None, 'coordinates': None, 'place': None, 'contributors': None, 'is_quote_status': False, 'retweet_count': 0, 'favorite_count': 0, 'favorited': False, 'retweeted': False, 'lang': 'en'}, created_at=datetime.datetime(2021, 7, 4, 17, 40, 47), id=1411741795411693568, id_str='1411741795411693568', full_text='@Prayagwale Why did the US refused to provide raw material for the COVID vaccine to India despite repeated requests from the Indian government?', truncated=False, display_text_range=[12, 143], entities={'hashtags': [], 'symbols': [], 'user_mentions': [{'screen_name': 'Prayagwale', 'name': 'Prayagraj', 'id': 851724981574782977, 'id_str': '851724981574782977', 'indices': [0, 11]}], 'urls': []}, metadata={'iso_language_code': 'en', 'result_type': 'recent'}, source='Twitter for iPhone', source_url='http://twitter.com/download/iphone', in_reply_to_status_id=1411738112061894657, in_reply_to_status_id_str='1411738112061894657', in_reply_to_user_id=851724981574782977, in_reply_to_user_id_str='851724981574782977', in_reply_to_screen_name='Prayagwale', author=User(_api=<tweepy.api.API object at 0x7fcab83068d0>, _json={'id': 637247040, 'id_str': '637247040', 'name': 'Qurat ul Ain Ismail', 'screen_name': 'QueenQuratulAin', 'location': '', 'description': 'Bibliophile, Critic, Marketing Aficionado. Patriotic Pakistani with passion for teaching.', 'url': None, 'entities': {'description': {'urls': []}}, 'protected': False, 'followers_count': 378, 'friends_count': 552, 'listed_count': 2, 'created_at': 'Mon Jul 16 18:14:52 +0000 2012', 'favourites_count': 2837, 'utc_offset': None, 'time_zone': None, 'geo_enabled': False, 'verified': False, 'statuses_count': 4925, 'lang': None, 'contributors_enabled': False, 'is_translator': False, 'is_translation_enabled': False, 'profile_background_color': 'C0DEED', 'profile_background_image_url': 'http://abs.twimg.com/images/themes/theme1/bg.png', 'profile_background_image_url_https': 'https://abs.twimg.com/images/themes/theme1/bg.png', 'profile_background_tile': False, 'profile_image_url': 'http://pbs.twimg.com/profile_images/552917866966573056/MKCwzDds_normal.jpeg', 'profile_image_url_https': 'https://pbs.twimg.com/profile_images/552917866966573056/MKCwzDds_normal.jpeg', 'profile_banner_url': 'https://pbs.twimg.com/profile_banners/637247040/1485027908', 'profile_link_color': '19CF86', 'profile_sidebar_border_color': 'C0DEED', 'profile_sidebar_fill_color': 'DDEEF6', 'profile_text_color': '0084B4', 'profile_use_background_image': True, 'has_extended_profile': False, 'default_profile': False, 'default_profile_image': False, 'following': False, 'follow_request_sent': False, 'notifications': False, 'translator_type': 'none', 'withheld_in_countries': []}, id=637247040, id_str='637247040', name='Qurat ul Ain Ismail', screen_name='QueenQuratulAin', location='', description='Bibliophile, Critic, Marketing Aficionado. Patriotic Pakistani with passion for teaching.', url=None, entities={'description': {'urls': []}}, protected=False, followers_count=378, friends_count=552, listed_count=2, created_at=datetime.datetime(2012, 7, 16, 18, 14, 52), favourites_count=2837, utc_offset=None, time_zone=None, geo_enabled=False, verified=False, statuses_count=4925, lang=None, contributors_enabled=False, is_translator=False, is_translation_enabled=False, profile_background_color='C0DEED', profile_background_image_url='http://abs.twimg.com/images/themes/theme1/bg.png', profile_background_image_url_https='https://abs.twimg.com/images/themes/theme1/bg.png', profile_background_tile=False, profile_image_url='http://pbs.twimg.com/profile_images/552917866966573056/MKCwzDds_normal.jpeg', profile_image_url_https='https://pbs.twimg.com/profile_images/552917866966573056/MKCwzDds_normal.jpeg', profile_banner_url='https://pbs.twimg.com/profile_banners/637247040/1485027908', profile_link_color='19CF86', profile_sidebar_border_color='C0DEED', profile_sidebar_fill_color='DDEEF6', profile_text_color='0084B4', profile_use_background_image=True, has_extended_profile=False, default_profile=False, default_profile_image=False, following=False, follow_request_sent=False, notifications=False, translator_type='none', withheld_in_countries=[]), user=User(_api=<tweepy.api.API object at 0x7fcab83068d0>, _json={'id': 637247040, 'id_str': '637247040', 'name': 'Qurat ul Ain Ismail', 'screen_name': 'QueenQuratulAin', 'location': '', 'description': 'Bibliophile, Critic, Marketing Aficionado. Patriotic Pakistani with passion for teaching.', 'url': None, 'entities': {'description': {'urls': []}}, 'protected': False, 'followers_count': 378, 'friends_count': 552, 'listed_count': 2, 'created_at': 'Mon Jul 16 18:14:52 +0000 2012', 'favourites_count': 2837, 'utc_offset': None, 'time_zone': None, 'geo_enabled': False, 'verified': False, 'statuses_count': 4925, 'lang': None, 'contributors_enabled': False, 'is_translator': False, 'is_translation_enabled': False, 'profile_background_color': 'C0DEED', 'profile_background_image_url': 'http://abs.twimg.com/images/themes/theme1/bg.png', 'profile_background_image_url_https': 'https://abs.twimg.com/images/themes/theme1/bg.png', 'profile_background_tile': False, 'profile_image_url': 'http://pbs.twimg.com/profile_images/552917866966573056/MKCwzDds_normal.jpeg', 'profile_image_url_https': 'https://pbs.twimg.com/profile_images/552917866966573056/MKCwzDds_normal.jpeg', 'profile_banner_url': 'https://pbs.twimg.com/profile_banners/637247040/1485027908', 'profile_link_color': '19CF86', 'profile_sidebar_border_color': 'C0DEED', 'profile_sidebar_fill_color': 'DDEEF6', 'profile_text_color': '0084B4', 'profile_use_background_image': True, 'has_extended_profile': False, 'default_profile': False, 'default_profile_image': False, 'following': False, 'follow_request_sent': False, 'notifications': False, 'translator_type': 'none', 'withheld_in_countries': []}, id=637247040, id_str='637247040', name='Qurat ul Ain Ismail', screen_name='QueenQuratulAin', location='', description='Bibliophile, Critic, Marketing Aficionado. Patriotic Pakistani with passion for teaching.', url=None, entities={'description': {'urls': []}}, protected=False, followers_count=378, friends_count=552, listed_count=2, created_at=datetime.datetime(2012, 7, 16, 18, 14, 52), favourites_count=2837, utc_offset=None, time_zone=None, geo_enabled=False, verified=False, statuses_count=4925, lang=None, contributors_enabled=False, is_translator=False, is_translation_enabled=False, profile_background_color='C0DEED', profile_background_image_url='http://abs.twimg.com/images/themes/theme1/bg.png', profile_background_image_url_https='https://abs.twimg.com/images/themes/theme1/bg.png', profile_background_tile=False, profile_image_url='http://pbs.twimg.com/profile_images/552917866966573056/MKCwzDds_normal.jpeg', profile_image_url_https='https://pbs.twimg.com/profile_images/552917866966573056/MKCwzDds_normal.jpeg', profile_banner_url='https://pbs.twimg.com/profile_banners/637247040/1485027908', profile_link_color='19CF86', profile_sidebar_border_color='C0DEED', profile_sidebar_fill_color='DDEEF6', profile_text_color='0084B4', profile_use_background_image=True, has_extended_profile=False, default_profile=False, default_profile_image=False, following=False, follow_request_sent=False, notifications=False, translator_type='none', withheld_in_countries=[]), geo=None, coordinates=None, place=None, contributors=None, is_quote_status=False, retweet_count=0, favorite_count=0, favorited=False, retweeted=False, lang='en')\n",
            "=================================================\n",
            "Status(_api=<tweepy.api.API object at 0x7fcab83068d0>, _json={'created_at': 'Sun Jul 04 17:35:36 +0000 2021', 'id': 1411740491574648832, 'id_str': '1411740491574648832', 'full_text': 'Indian hospital closed amid FAKE COVID VACCINE scam, as 2,500+ are feared to have been given saline &amp; antibiotics instead https://t.co/z0N5ZJjoKl', 'truncated': False, 'display_text_range': [0, 149], 'entities': {'hashtags': [], 'symbols': [], 'user_mentions': [], 'urls': [{'url': 'https://t.co/z0N5ZJjoKl', 'expanded_url': 'https://www.rt.com/news/528349-india-fake-covid-vaccines/', 'display_url': 'rt.com/news/528349-in…', 'indices': [126, 149]}]}, 'metadata': {'iso_language_code': 'en', 'result_type': 'recent'}, 'source': '<a href=\"http://twitter.com/download/android\" rel=\"nofollow\">Twitter for Android</a>', 'in_reply_to_status_id': None, 'in_reply_to_status_id_str': None, 'in_reply_to_user_id': None, 'in_reply_to_user_id_str': None, 'in_reply_to_screen_name': None, 'user': {'id': 3151807732, 'id_str': '3151807732', 'name': 'Philip John Edwards', 'screen_name': 'pe7490', 'location': 'Cambridge UK', 'description': 'Author of -\\n\\nThe legend of the Starmaker - \\n                  \\nAlien Secret Knowledge', 'url': None, 'entities': {'description': {'urls': []}}, 'protected': False, 'followers_count': 357, 'friends_count': 914, 'listed_count': 5, 'created_at': 'Thu Apr 09 14:15:25 +0000 2015', 'favourites_count': 202, 'utc_offset': None, 'time_zone': None, 'geo_enabled': True, 'verified': False, 'statuses_count': 6859, 'lang': None, 'contributors_enabled': False, 'is_translator': False, 'is_translation_enabled': False, 'profile_background_color': 'C0DEED', 'profile_background_image_url': 'http://abs.twimg.com/images/themes/theme1/bg.png', 'profile_background_image_url_https': 'https://abs.twimg.com/images/themes/theme1/bg.png', 'profile_background_tile': False, 'profile_image_url': 'http://pbs.twimg.com/profile_images/1284432591098175489/stVkXKlw_normal.jpg', 'profile_image_url_https': 'https://pbs.twimg.com/profile_images/1284432591098175489/stVkXKlw_normal.jpg', 'profile_banner_url': 'https://pbs.twimg.com/profile_banners/3151807732/1504436052', 'profile_link_color': '1DA1F2', 'profile_sidebar_border_color': 'C0DEED', 'profile_sidebar_fill_color': 'DDEEF6', 'profile_text_color': '333333', 'profile_use_background_image': True, 'has_extended_profile': False, 'default_profile': True, 'default_profile_image': False, 'following': False, 'follow_request_sent': False, 'notifications': False, 'translator_type': 'none', 'withheld_in_countries': []}, 'geo': None, 'coordinates': None, 'place': None, 'contributors': None, 'is_quote_status': False, 'retweet_count': 0, 'favorite_count': 0, 'favorited': False, 'retweeted': False, 'possibly_sensitive': False, 'lang': 'en'}, created_at=datetime.datetime(2021, 7, 4, 17, 35, 36), id=1411740491574648832, id_str='1411740491574648832', full_text='Indian hospital closed amid FAKE COVID VACCINE scam, as 2,500+ are feared to have been given saline &amp; antibiotics instead https://t.co/z0N5ZJjoKl', truncated=False, display_text_range=[0, 149], entities={'hashtags': [], 'symbols': [], 'user_mentions': [], 'urls': [{'url': 'https://t.co/z0N5ZJjoKl', 'expanded_url': 'https://www.rt.com/news/528349-india-fake-covid-vaccines/', 'display_url': 'rt.com/news/528349-in…', 'indices': [126, 149]}]}, metadata={'iso_language_code': 'en', 'result_type': 'recent'}, source='Twitter for Android', source_url='http://twitter.com/download/android', in_reply_to_status_id=None, in_reply_to_status_id_str=None, in_reply_to_user_id=None, in_reply_to_user_id_str=None, in_reply_to_screen_name=None, author=User(_api=<tweepy.api.API object at 0x7fcab83068d0>, _json={'id': 3151807732, 'id_str': '3151807732', 'name': 'Philip John Edwards', 'screen_name': 'pe7490', 'location': 'Cambridge UK', 'description': 'Author of -\\n\\nThe legend of the Starmaker - \\n                  \\nAlien Secret Knowledge', 'url': None, 'entities': {'description': {'urls': []}}, 'protected': False, 'followers_count': 357, 'friends_count': 914, 'listed_count': 5, 'created_at': 'Thu Apr 09 14:15:25 +0000 2015', 'favourites_count': 202, 'utc_offset': None, 'time_zone': None, 'geo_enabled': True, 'verified': False, 'statuses_count': 6859, 'lang': None, 'contributors_enabled': False, 'is_translator': False, 'is_translation_enabled': False, 'profile_background_color': 'C0DEED', 'profile_background_image_url': 'http://abs.twimg.com/images/themes/theme1/bg.png', 'profile_background_image_url_https': 'https://abs.twimg.com/images/themes/theme1/bg.png', 'profile_background_tile': False, 'profile_image_url': 'http://pbs.twimg.com/profile_images/1284432591098175489/stVkXKlw_normal.jpg', 'profile_image_url_https': 'https://pbs.twimg.com/profile_images/1284432591098175489/stVkXKlw_normal.jpg', 'profile_banner_url': 'https://pbs.twimg.com/profile_banners/3151807732/1504436052', 'profile_link_color': '1DA1F2', 'profile_sidebar_border_color': 'C0DEED', 'profile_sidebar_fill_color': 'DDEEF6', 'profile_text_color': '333333', 'profile_use_background_image': True, 'has_extended_profile': False, 'default_profile': True, 'default_profile_image': False, 'following': False, 'follow_request_sent': False, 'notifications': False, 'translator_type': 'none', 'withheld_in_countries': []}, id=3151807732, id_str='3151807732', name='Philip John Edwards', screen_name='pe7490', location='Cambridge UK', description='Author of -\\n\\nThe legend of the Starmaker - \\n                  \\nAlien Secret Knowledge', url=None, entities={'description': {'urls': []}}, protected=False, followers_count=357, friends_count=914, listed_count=5, created_at=datetime.datetime(2015, 4, 9, 14, 15, 25), favourites_count=202, utc_offset=None, time_zone=None, geo_enabled=True, verified=False, statuses_count=6859, lang=None, contributors_enabled=False, is_translator=False, is_translation_enabled=False, profile_background_color='C0DEED', profile_background_image_url='http://abs.twimg.com/images/themes/theme1/bg.png', profile_background_image_url_https='https://abs.twimg.com/images/themes/theme1/bg.png', profile_background_tile=False, profile_image_url='http://pbs.twimg.com/profile_images/1284432591098175489/stVkXKlw_normal.jpg', profile_image_url_https='https://pbs.twimg.com/profile_images/1284432591098175489/stVkXKlw_normal.jpg', profile_banner_url='https://pbs.twimg.com/profile_banners/3151807732/1504436052', profile_link_color='1DA1F2', profile_sidebar_border_color='C0DEED', profile_sidebar_fill_color='DDEEF6', profile_text_color='333333', profile_use_background_image=True, has_extended_profile=False, default_profile=True, default_profile_image=False, following=False, follow_request_sent=False, notifications=False, translator_type='none', withheld_in_countries=[]), user=User(_api=<tweepy.api.API object at 0x7fcab83068d0>, _json={'id': 3151807732, 'id_str': '3151807732', 'name': 'Philip John Edwards', 'screen_name': 'pe7490', 'location': 'Cambridge UK', 'description': 'Author of -\\n\\nThe legend of the Starmaker - \\n                  \\nAlien Secret Knowledge', 'url': None, 'entities': {'description': {'urls': []}}, 'protected': False, 'followers_count': 357, 'friends_count': 914, 'listed_count': 5, 'created_at': 'Thu Apr 09 14:15:25 +0000 2015', 'favourites_count': 202, 'utc_offset': None, 'time_zone': None, 'geo_enabled': True, 'verified': False, 'statuses_count': 6859, 'lang': None, 'contributors_enabled': False, 'is_translator': False, 'is_translation_enabled': False, 'profile_background_color': 'C0DEED', 'profile_background_image_url': 'http://abs.twimg.com/images/themes/theme1/bg.png', 'profile_background_image_url_https': 'https://abs.twimg.com/images/themes/theme1/bg.png', 'profile_background_tile': False, 'profile_image_url': 'http://pbs.twimg.com/profile_images/1284432591098175489/stVkXKlw_normal.jpg', 'profile_image_url_https': 'https://pbs.twimg.com/profile_images/1284432591098175489/stVkXKlw_normal.jpg', 'profile_banner_url': 'https://pbs.twimg.com/profile_banners/3151807732/1504436052', 'profile_link_color': '1DA1F2', 'profile_sidebar_border_color': 'C0DEED', 'profile_sidebar_fill_color': 'DDEEF6', 'profile_text_color': '333333', 'profile_use_background_image': True, 'has_extended_profile': False, 'default_profile': True, 'default_profile_image': False, 'following': False, 'follow_request_sent': False, 'notifications': False, 'translator_type': 'none', 'withheld_in_countries': []}, id=3151807732, id_str='3151807732', name='Philip John Edwards', screen_name='pe7490', location='Cambridge UK', description='Author of -\\n\\nThe legend of the Starmaker - \\n                  \\nAlien Secret Knowledge', url=None, entities={'description': {'urls': []}}, protected=False, followers_count=357, friends_count=914, listed_count=5, created_at=datetime.datetime(2015, 4, 9, 14, 15, 25), favourites_count=202, utc_offset=None, time_zone=None, geo_enabled=True, verified=False, statuses_count=6859, lang=None, contributors_enabled=False, is_translator=False, is_translation_enabled=False, profile_background_color='C0DEED', profile_background_image_url='http://abs.twimg.com/images/themes/theme1/bg.png', profile_background_image_url_https='https://abs.twimg.com/images/themes/theme1/bg.png', profile_background_tile=False, profile_image_url='http://pbs.twimg.com/profile_images/1284432591098175489/stVkXKlw_normal.jpg', profile_image_url_https='https://pbs.twimg.com/profile_images/1284432591098175489/stVkXKlw_normal.jpg', profile_banner_url='https://pbs.twimg.com/profile_banners/3151807732/1504436052', profile_link_color='1DA1F2', profile_sidebar_border_color='C0DEED', profile_sidebar_fill_color='DDEEF6', profile_text_color='333333', profile_use_background_image=True, has_extended_profile=False, default_profile=True, default_profile_image=False, following=False, follow_request_sent=False, notifications=False, translator_type='none', withheld_in_countries=[]), geo=None, coordinates=None, place=None, contributors=None, is_quote_status=False, retweet_count=0, favorite_count=0, favorited=False, retweeted=False, possibly_sensitive=False, lang='en')\n",
            "=================================================\n",
            "Status(_api=<tweepy.api.API object at 0x7fcab83068d0>, _json={'created_at': 'Sun Jul 04 17:27:39 +0000 2021', 'id': 1411738489511628800, 'id_str': '1411738489511628800', 'full_text': 'WHO warns that coronavirus variants are spreading faster than vaccines can stop them https://t.co/QzJmOFVzCl via @BusinessInsider @nicd_sa @zolkol @mmkubayi @CyrilRamaphosa @ShabirMadh @MRCza @SAMedicalAssoc  where are the preparations,plans to avoid going India route?or worse?', 'truncated': False, 'display_text_range': [0, 278], 'entities': {'hashtags': [], 'symbols': [], 'user_mentions': [{'screen_name': 'BusinessInsider', 'name': 'Business Insider', 'id': 20562637, 'id_str': '20562637', 'indices': [113, 129]}, {'screen_name': 'nicd_sa', 'name': 'NICD', 'id': 1372027572, 'id_str': '1372027572', 'indices': [130, 138]}, {'screen_name': 'zolkol', 'name': 'Koleka Mlisana', 'id': 1215234284, 'id_str': '1215234284', 'indices': [139, 146]}, {'screen_name': 'mmkubayi', 'name': 'Mmamoloko Nkhensani Kubayi', 'id': 281764347, 'id_str': '281764347', 'indices': [147, 156]}, {'screen_name': 'CyrilRamaphosa', 'name': 'Cyril Ramaphosa 🇿🇦 #StaySafe', 'id': 2987156301, 'id_str': '2987156301', 'indices': [157, 172]}, {'screen_name': 'ShabirMadh', 'name': 'Shabir Madhi', 'id': 1039813874961330176, 'id_str': '1039813874961330176', 'indices': [173, 184]}, {'screen_name': 'MRCza', 'name': 'SAMRC', 'id': 252586818, 'id_str': '252586818', 'indices': [185, 191]}, {'screen_name': 'SAMedicalAssoc', 'name': 'SAMA', 'id': 270895445, 'id_str': '270895445', 'indices': [192, 207]}], 'urls': [{'url': 'https://t.co/QzJmOFVzCl', 'expanded_url': 'https://www.businessinsider.co.za/who-speed-up-covid-19-vaccine-rollout-variants-catch-up-2021-7-2', 'display_url': 'businessinsider.co.za/who-speed-up-c…', 'indices': [85, 108]}]}, 'metadata': {'iso_language_code': 'en', 'result_type': 'recent'}, 'source': '<a href=\"http://twitter.com/download/iphone\" rel=\"nofollow\">Twitter for iPhone</a>', 'in_reply_to_status_id': None, 'in_reply_to_status_id_str': None, 'in_reply_to_user_id': None, 'in_reply_to_user_id_str': None, 'in_reply_to_screen_name': None, 'user': {'id': 435290720, 'id_str': '435290720', 'name': 'Rajesh Jantilal', 'screen_name': 'RajeshJantilal', 'location': 'Durban,South Africa', 'description': 'NelsonMandela:Good use of photography can give even poverty with all its rags,filth,vermin a measure of divineness rarely noticeable in real life.', 'url': 'https://t.co/r8js5wMB1B', 'entities': {'url': {'urls': [{'url': 'https://t.co/r8js5wMB1B', 'expanded_url': 'http://rajeshjantilalimages.com', 'display_url': 'rajeshjantilalimages.com', 'indices': [0, 23]}]}, 'description': {'urls': []}}, 'protected': False, 'followers_count': 1954, 'friends_count': 5000, 'listed_count': 45, 'created_at': 'Mon Dec 12 22:03:27 +0000 2011', 'favourites_count': 25497, 'utc_offset': None, 'time_zone': None, 'geo_enabled': False, 'verified': False, 'statuses_count': 35165, 'lang': None, 'contributors_enabled': False, 'is_translator': False, 'is_translation_enabled': False, 'profile_background_color': '022330', 'profile_background_image_url': 'http://abs.twimg.com/images/themes/theme15/bg.png', 'profile_background_image_url_https': 'https://abs.twimg.com/images/themes/theme15/bg.png', 'profile_background_tile': False, 'profile_image_url': 'http://pbs.twimg.com/profile_images/981144718284349440/GiIkLD6-_normal.jpg', 'profile_image_url_https': 'https://pbs.twimg.com/profile_images/981144718284349440/GiIkLD6-_normal.jpg', 'profile_banner_url': 'https://pbs.twimg.com/profile_banners/435290720/1524434574', 'profile_link_color': '0084B4', 'profile_sidebar_border_color': 'A8C7F7', 'profile_sidebar_fill_color': 'C0DFEC', 'profile_text_color': '333333', 'profile_use_background_image': True, 'has_extended_profile': False, 'default_profile': False, 'default_profile_image': False, 'following': False, 'follow_request_sent': False, 'notifications': False, 'translator_type': 'none', 'withheld_in_countries': []}, 'geo': None, 'coordinates': None, 'place': None, 'contributors': None, 'is_quote_status': False, 'retweet_count': 0, 'favorite_count': 0, 'favorited': False, 'retweeted': False, 'possibly_sensitive': True, 'lang': 'en'}, created_at=datetime.datetime(2021, 7, 4, 17, 27, 39), id=1411738489511628800, id_str='1411738489511628800', full_text='WHO warns that coronavirus variants are spreading faster than vaccines can stop them https://t.co/QzJmOFVzCl via @BusinessInsider @nicd_sa @zolkol @mmkubayi @CyrilRamaphosa @ShabirMadh @MRCza @SAMedicalAssoc  where are the preparations,plans to avoid going India route?or worse?', truncated=False, display_text_range=[0, 278], entities={'hashtags': [], 'symbols': [], 'user_mentions': [{'screen_name': 'BusinessInsider', 'name': 'Business Insider', 'id': 20562637, 'id_str': '20562637', 'indices': [113, 129]}, {'screen_name': 'nicd_sa', 'name': 'NICD', 'id': 1372027572, 'id_str': '1372027572', 'indices': [130, 138]}, {'screen_name': 'zolkol', 'name': 'Koleka Mlisana', 'id': 1215234284, 'id_str': '1215234284', 'indices': [139, 146]}, {'screen_name': 'mmkubayi', 'name': 'Mmamoloko Nkhensani Kubayi', 'id': 281764347, 'id_str': '281764347', 'indices': [147, 156]}, {'screen_name': 'CyrilRamaphosa', 'name': 'Cyril Ramaphosa 🇿🇦 #StaySafe', 'id': 2987156301, 'id_str': '2987156301', 'indices': [157, 172]}, {'screen_name': 'ShabirMadh', 'name': 'Shabir Madhi', 'id': 1039813874961330176, 'id_str': '1039813874961330176', 'indices': [173, 184]}, {'screen_name': 'MRCza', 'name': 'SAMRC', 'id': 252586818, 'id_str': '252586818', 'indices': [185, 191]}, {'screen_name': 'SAMedicalAssoc', 'name': 'SAMA', 'id': 270895445, 'id_str': '270895445', 'indices': [192, 207]}], 'urls': [{'url': 'https://t.co/QzJmOFVzCl', 'expanded_url': 'https://www.businessinsider.co.za/who-speed-up-covid-19-vaccine-rollout-variants-catch-up-2021-7-2', 'display_url': 'businessinsider.co.za/who-speed-up-c…', 'indices': [85, 108]}]}, metadata={'iso_language_code': 'en', 'result_type': 'recent'}, source='Twitter for iPhone', source_url='http://twitter.com/download/iphone', in_reply_to_status_id=None, in_reply_to_status_id_str=None, in_reply_to_user_id=None, in_reply_to_user_id_str=None, in_reply_to_screen_name=None, author=User(_api=<tweepy.api.API object at 0x7fcab83068d0>, _json={'id': 435290720, 'id_str': '435290720', 'name': 'Rajesh Jantilal', 'screen_name': 'RajeshJantilal', 'location': 'Durban,South Africa', 'description': 'NelsonMandela:Good use of photography can give even poverty with all its rags,filth,vermin a measure of divineness rarely noticeable in real life.', 'url': 'https://t.co/r8js5wMB1B', 'entities': {'url': {'urls': [{'url': 'https://t.co/r8js5wMB1B', 'expanded_url': 'http://rajeshjantilalimages.com', 'display_url': 'rajeshjantilalimages.com', 'indices': [0, 23]}]}, 'description': {'urls': []}}, 'protected': False, 'followers_count': 1954, 'friends_count': 5000, 'listed_count': 45, 'created_at': 'Mon Dec 12 22:03:27 +0000 2011', 'favourites_count': 25497, 'utc_offset': None, 'time_zone': None, 'geo_enabled': False, 'verified': False, 'statuses_count': 35165, 'lang': None, 'contributors_enabled': False, 'is_translator': False, 'is_translation_enabled': False, 'profile_background_color': '022330', 'profile_background_image_url': 'http://abs.twimg.com/images/themes/theme15/bg.png', 'profile_background_image_url_https': 'https://abs.twimg.com/images/themes/theme15/bg.png', 'profile_background_tile': False, 'profile_image_url': 'http://pbs.twimg.com/profile_images/981144718284349440/GiIkLD6-_normal.jpg', 'profile_image_url_https': 'https://pbs.twimg.com/profile_images/981144718284349440/GiIkLD6-_normal.jpg', 'profile_banner_url': 'https://pbs.twimg.com/profile_banners/435290720/1524434574', 'profile_link_color': '0084B4', 'profile_sidebar_border_color': 'A8C7F7', 'profile_sidebar_fill_color': 'C0DFEC', 'profile_text_color': '333333', 'profile_use_background_image': True, 'has_extended_profile': False, 'default_profile': False, 'default_profile_image': False, 'following': False, 'follow_request_sent': False, 'notifications': False, 'translator_type': 'none', 'withheld_in_countries': []}, id=435290720, id_str='435290720', name='Rajesh Jantilal', screen_name='RajeshJantilal', location='Durban,South Africa', description='NelsonMandela:Good use of photography can give even poverty with all its rags,filth,vermin a measure of divineness rarely noticeable in real life.', url='https://t.co/r8js5wMB1B', entities={'url': {'urls': [{'url': 'https://t.co/r8js5wMB1B', 'expanded_url': 'http://rajeshjantilalimages.com', 'display_url': 'rajeshjantilalimages.com', 'indices': [0, 23]}]}, 'description': {'urls': []}}, protected=False, followers_count=1954, friends_count=5000, listed_count=45, created_at=datetime.datetime(2011, 12, 12, 22, 3, 27), favourites_count=25497, utc_offset=None, time_zone=None, geo_enabled=False, verified=False, statuses_count=35165, lang=None, contributors_enabled=False, is_translator=False, is_translation_enabled=False, profile_background_color='022330', profile_background_image_url='http://abs.twimg.com/images/themes/theme15/bg.png', profile_background_image_url_https='https://abs.twimg.com/images/themes/theme15/bg.png', profile_background_tile=False, profile_image_url='http://pbs.twimg.com/profile_images/981144718284349440/GiIkLD6-_normal.jpg', profile_image_url_https='https://pbs.twimg.com/profile_images/981144718284349440/GiIkLD6-_normal.jpg', profile_banner_url='https://pbs.twimg.com/profile_banners/435290720/1524434574', profile_link_color='0084B4', profile_sidebar_border_color='A8C7F7', profile_sidebar_fill_color='C0DFEC', profile_text_color='333333', profile_use_background_image=True, has_extended_profile=False, default_profile=False, default_profile_image=False, following=False, follow_request_sent=False, notifications=False, translator_type='none', withheld_in_countries=[]), user=User(_api=<tweepy.api.API object at 0x7fcab83068d0>, _json={'id': 435290720, 'id_str': '435290720', 'name': 'Rajesh Jantilal', 'screen_name': 'RajeshJantilal', 'location': 'Durban,South Africa', 'description': 'NelsonMandela:Good use of photography can give even poverty with all its rags,filth,vermin a measure of divineness rarely noticeable in real life.', 'url': 'https://t.co/r8js5wMB1B', 'entities': {'url': {'urls': [{'url': 'https://t.co/r8js5wMB1B', 'expanded_url': 'http://rajeshjantilalimages.com', 'display_url': 'rajeshjantilalimages.com', 'indices': [0, 23]}]}, 'description': {'urls': []}}, 'protected': False, 'followers_count': 1954, 'friends_count': 5000, 'listed_count': 45, 'created_at': 'Mon Dec 12 22:03:27 +0000 2011', 'favourites_count': 25497, 'utc_offset': None, 'time_zone': None, 'geo_enabled': False, 'verified': False, 'statuses_count': 35165, 'lang': None, 'contributors_enabled': False, 'is_translator': False, 'is_translation_enabled': False, 'profile_background_color': '022330', 'profile_background_image_url': 'http://abs.twimg.com/images/themes/theme15/bg.png', 'profile_background_image_url_https': 'https://abs.twimg.com/images/themes/theme15/bg.png', 'profile_background_tile': False, 'profile_image_url': 'http://pbs.twimg.com/profile_images/981144718284349440/GiIkLD6-_normal.jpg', 'profile_image_url_https': 'https://pbs.twimg.com/profile_images/981144718284349440/GiIkLD6-_normal.jpg', 'profile_banner_url': 'https://pbs.twimg.com/profile_banners/435290720/1524434574', 'profile_link_color': '0084B4', 'profile_sidebar_border_color': 'A8C7F7', 'profile_sidebar_fill_color': 'C0DFEC', 'profile_text_color': '333333', 'profile_use_background_image': True, 'has_extended_profile': False, 'default_profile': False, 'default_profile_image': False, 'following': False, 'follow_request_sent': False, 'notifications': False, 'translator_type': 'none', 'withheld_in_countries': []}, id=435290720, id_str='435290720', name='Rajesh Jantilal', screen_name='RajeshJantilal', location='Durban,South Africa', description='NelsonMandela:Good use of photography can give even poverty with all its rags,filth,vermin a measure of divineness rarely noticeable in real life.', url='https://t.co/r8js5wMB1B', entities={'url': {'urls': [{'url': 'https://t.co/r8js5wMB1B', 'expanded_url': 'http://rajeshjantilalimages.com', 'display_url': 'rajeshjantilalimages.com', 'indices': [0, 23]}]}, 'description': {'urls': []}}, protected=False, followers_count=1954, friends_count=5000, listed_count=45, created_at=datetime.datetime(2011, 12, 12, 22, 3, 27), favourites_count=25497, utc_offset=None, time_zone=None, geo_enabled=False, verified=False, statuses_count=35165, lang=None, contributors_enabled=False, is_translator=False, is_translation_enabled=False, profile_background_color='022330', profile_background_image_url='http://abs.twimg.com/images/themes/theme15/bg.png', profile_background_image_url_https='https://abs.twimg.com/images/themes/theme15/bg.png', profile_background_tile=False, profile_image_url='http://pbs.twimg.com/profile_images/981144718284349440/GiIkLD6-_normal.jpg', profile_image_url_https='https://pbs.twimg.com/profile_images/981144718284349440/GiIkLD6-_normal.jpg', profile_banner_url='https://pbs.twimg.com/profile_banners/435290720/1524434574', profile_link_color='0084B4', profile_sidebar_border_color='A8C7F7', profile_sidebar_fill_color='C0DFEC', profile_text_color='333333', profile_use_background_image=True, has_extended_profile=False, default_profile=False, default_profile_image=False, following=False, follow_request_sent=False, notifications=False, translator_type='none', withheld_in_countries=[]), geo=None, coordinates=None, place=None, contributors=None, is_quote_status=False, retweet_count=0, favorite_count=0, favorited=False, retweeted=False, possibly_sensitive=True, lang='en')\n",
            "=================================================\n",
            "Status(_api=<tweepy.api.API object at 0x7fcab83068d0>, _json={'created_at': 'Sun Jul 04 17:27:35 +0000 2021', 'id': 1411738473128771586, 'id_str': '1411738473128771586', 'full_text': 'Army org a lecture on covid-19 Awareness \\n#Poonch: #COVID19 Vaccination drive. #COVID19Vic #CovidVaccine #DeltaVariant #covid19qld #Covid #vaccine #vaccination #health #COVIDIOTS #AMCARMY #India #armyjukebox #LockDown #pandemic @DMReasi @DicReasi @Delta #IndiaFightsCorona @adgpi https://t.co/EL8zYqZMfY', 'truncated': False, 'display_text_range': [0, 279], 'entities': {'hashtags': [{'text': 'Poonch', 'indices': [42, 49]}, {'text': 'COVID19', 'indices': [51, 59]}, {'text': 'COVID19Vic', 'indices': [79, 90]}, {'text': 'CovidVaccine', 'indices': [91, 104]}, {'text': 'DeltaVariant', 'indices': [105, 118]}, {'text': 'covid19qld', 'indices': [119, 130]}, {'text': 'Covid', 'indices': [131, 137]}, {'text': 'vaccine', 'indices': [138, 146]}, {'text': 'vaccination', 'indices': [147, 159]}, {'text': 'health', 'indices': [160, 167]}, {'text': 'COVIDIOTS', 'indices': [168, 178]}, {'text': 'AMCARMY', 'indices': [179, 187]}, {'text': 'India', 'indices': [188, 194]}, {'text': 'armyjukebox', 'indices': [195, 207]}, {'text': 'LockDown', 'indices': [208, 217]}, {'text': 'pandemic', 'indices': [218, 227]}, {'text': 'IndiaFightsCorona', 'indices': [254, 272]}], 'symbols': [], 'user_mentions': [{'screen_name': 'DMReasi', 'name': 'Deputy Commissioner Reasi', 'id': 1129316564036046849, 'id_str': '1129316564036046849', 'indices': [228, 236]}, {'screen_name': 'DicReasi', 'name': 'DIC Reasi', 'id': 1397814546752933895, 'id_str': '1397814546752933895', 'indices': [237, 246]}, {'screen_name': 'Delta', 'name': 'Delta', 'id': 5920532, 'id_str': '5920532', 'indices': [247, 253]}, {'screen_name': 'adgpi', 'name': 'ADG PI - INDIAN ARMY', 'id': 1227253801, 'id_str': '1227253801', 'indices': [273, 279]}], 'urls': [], 'media': [{'id': 1411738460373671937, 'id_str': '1411738460373671937', 'indices': [280, 303], 'media_url': 'http://pbs.twimg.com/media/E5eApmZUYAEmCRi.jpg', 'media_url_https': 'https://pbs.twimg.com/media/E5eApmZUYAEmCRi.jpg', 'url': 'https://t.co/EL8zYqZMfY', 'display_url': 'pic.twitter.com/EL8zYqZMfY', 'expanded_url': 'https://twitter.com/FarhanM01610715/status/1411738473128771586/photo/1', 'type': 'photo', 'sizes': {'medium': {'w': 1200, 'h': 960, 'resize': 'fit'}, 'thumb': {'w': 150, 'h': 150, 'resize': 'crop'}, 'small': {'w': 680, 'h': 544, 'resize': 'fit'}, 'large': {'w': 1280, 'h': 1024, 'resize': 'fit'}}}]}, 'extended_entities': {'media': [{'id': 1411738460373671937, 'id_str': '1411738460373671937', 'indices': [280, 303], 'media_url': 'http://pbs.twimg.com/media/E5eApmZUYAEmCRi.jpg', 'media_url_https': 'https://pbs.twimg.com/media/E5eApmZUYAEmCRi.jpg', 'url': 'https://t.co/EL8zYqZMfY', 'display_url': 'pic.twitter.com/EL8zYqZMfY', 'expanded_url': 'https://twitter.com/FarhanM01610715/status/1411738473128771586/photo/1', 'type': 'photo', 'sizes': {'medium': {'w': 1200, 'h': 960, 'resize': 'fit'}, 'thumb': {'w': 150, 'h': 150, 'resize': 'crop'}, 'small': {'w': 680, 'h': 544, 'resize': 'fit'}, 'large': {'w': 1280, 'h': 1024, 'resize': 'fit'}}}]}, 'metadata': {'iso_language_code': 'en', 'result_type': 'recent'}, 'source': '<a href=\"http://twitter.com/download/android\" rel=\"nofollow\">Twitter for Android</a>', 'in_reply_to_status_id': None, 'in_reply_to_status_id_str': None, 'in_reply_to_user_id': None, 'in_reply_to_user_id_str': None, 'in_reply_to_screen_name': None, 'user': {'id': 1406559076453031939, 'id_str': '1406559076453031939', 'name': 'Farhan Malik', 'screen_name': 'FarhanM01610715', 'location': '', 'description': '#Farhanmalik', 'url': None, 'entities': {'description': {'urls': []}}, 'protected': False, 'followers_count': 8, 'friends_count': 15, 'listed_count': 0, 'created_at': 'Sun Jun 20 10:26:44 +0000 2021', 'favourites_count': 5, 'utc_offset': None, 'time_zone': None, 'geo_enabled': False, 'verified': False, 'statuses_count': 37, 'lang': None, 'contributors_enabled': False, 'is_translator': False, 'is_translation_enabled': False, 'profile_background_color': 'F5F8FA', 'profile_background_image_url': None, 'profile_background_image_url_https': None, 'profile_background_tile': False, 'profile_image_url': 'http://pbs.twimg.com/profile_images/1406559497628229633/_xbJbfcj_normal.jpg', 'profile_image_url_https': 'https://pbs.twimg.com/profile_images/1406559497628229633/_xbJbfcj_normal.jpg', 'profile_link_color': '1DA1F2', 'profile_sidebar_border_color': 'C0DEED', 'profile_sidebar_fill_color': 'DDEEF6', 'profile_text_color': '333333', 'profile_use_background_image': True, 'has_extended_profile': True, 'default_profile': True, 'default_profile_image': False, 'following': False, 'follow_request_sent': False, 'notifications': False, 'translator_type': 'none', 'withheld_in_countries': []}, 'geo': None, 'coordinates': None, 'place': None, 'contributors': None, 'is_quote_status': False, 'retweet_count': 0, 'favorite_count': 0, 'favorited': False, 'retweeted': False, 'possibly_sensitive': False, 'lang': 'en'}, created_at=datetime.datetime(2021, 7, 4, 17, 27, 35), id=1411738473128771586, id_str='1411738473128771586', full_text='Army org a lecture on covid-19 Awareness \\n#Poonch: #COVID19 Vaccination drive. #COVID19Vic #CovidVaccine #DeltaVariant #covid19qld #Covid #vaccine #vaccination #health #COVIDIOTS #AMCARMY #India #armyjukebox #LockDown #pandemic @DMReasi @DicReasi @Delta #IndiaFightsCorona @adgpi https://t.co/EL8zYqZMfY', truncated=False, display_text_range=[0, 279], entities={'hashtags': [{'text': 'Poonch', 'indices': [42, 49]}, {'text': 'COVID19', 'indices': [51, 59]}, {'text': 'COVID19Vic', 'indices': [79, 90]}, {'text': 'CovidVaccine', 'indices': [91, 104]}, {'text': 'DeltaVariant', 'indices': [105, 118]}, {'text': 'covid19qld', 'indices': [119, 130]}, {'text': 'Covid', 'indices': [131, 137]}, {'text': 'vaccine', 'indices': [138, 146]}, {'text': 'vaccination', 'indices': [147, 159]}, {'text': 'health', 'indices': [160, 167]}, {'text': 'COVIDIOTS', 'indices': [168, 178]}, {'text': 'AMCARMY', 'indices': [179, 187]}, {'text': 'India', 'indices': [188, 194]}, {'text': 'armyjukebox', 'indices': [195, 207]}, {'text': 'LockDown', 'indices': [208, 217]}, {'text': 'pandemic', 'indices': [218, 227]}, {'text': 'IndiaFightsCorona', 'indices': [254, 272]}], 'symbols': [], 'user_mentions': [{'screen_name': 'DMReasi', 'name': 'Deputy Commissioner Reasi', 'id': 1129316564036046849, 'id_str': '1129316564036046849', 'indices': [228, 236]}, {'screen_name': 'DicReasi', 'name': 'DIC Reasi', 'id': 1397814546752933895, 'id_str': '1397814546752933895', 'indices': [237, 246]}, {'screen_name': 'Delta', 'name': 'Delta', 'id': 5920532, 'id_str': '5920532', 'indices': [247, 253]}, {'screen_name': 'adgpi', 'name': 'ADG PI - INDIAN ARMY', 'id': 1227253801, 'id_str': '1227253801', 'indices': [273, 279]}], 'urls': [], 'media': [{'id': 1411738460373671937, 'id_str': '1411738460373671937', 'indices': [280, 303], 'media_url': 'http://pbs.twimg.com/media/E5eApmZUYAEmCRi.jpg', 'media_url_https': 'https://pbs.twimg.com/media/E5eApmZUYAEmCRi.jpg', 'url': 'https://t.co/EL8zYqZMfY', 'display_url': 'pic.twitter.com/EL8zYqZMfY', 'expanded_url': 'https://twitter.com/FarhanM01610715/status/1411738473128771586/photo/1', 'type': 'photo', 'sizes': {'medium': {'w': 1200, 'h': 960, 'resize': 'fit'}, 'thumb': {'w': 150, 'h': 150, 'resize': 'crop'}, 'small': {'w': 680, 'h': 544, 'resize': 'fit'}, 'large': {'w': 1280, 'h': 1024, 'resize': 'fit'}}}]}, extended_entities={'media': [{'id': 1411738460373671937, 'id_str': '1411738460373671937', 'indices': [280, 303], 'media_url': 'http://pbs.twimg.com/media/E5eApmZUYAEmCRi.jpg', 'media_url_https': 'https://pbs.twimg.com/media/E5eApmZUYAEmCRi.jpg', 'url': 'https://t.co/EL8zYqZMfY', 'display_url': 'pic.twitter.com/EL8zYqZMfY', 'expanded_url': 'https://twitter.com/FarhanM01610715/status/1411738473128771586/photo/1', 'type': 'photo', 'sizes': {'medium': {'w': 1200, 'h': 960, 'resize': 'fit'}, 'thumb': {'w': 150, 'h': 150, 'resize': 'crop'}, 'small': {'w': 680, 'h': 544, 'resize': 'fit'}, 'large': {'w': 1280, 'h': 1024, 'resize': 'fit'}}}]}, metadata={'iso_language_code': 'en', 'result_type': 'recent'}, source='Twitter for Android', source_url='http://twitter.com/download/android', in_reply_to_status_id=None, in_reply_to_status_id_str=None, in_reply_to_user_id=None, in_reply_to_user_id_str=None, in_reply_to_screen_name=None, author=User(_api=<tweepy.api.API object at 0x7fcab83068d0>, _json={'id': 1406559076453031939, 'id_str': '1406559076453031939', 'name': 'Farhan Malik', 'screen_name': 'FarhanM01610715', 'location': '', 'description': '#Farhanmalik', 'url': None, 'entities': {'description': {'urls': []}}, 'protected': False, 'followers_count': 8, 'friends_count': 15, 'listed_count': 0, 'created_at': 'Sun Jun 20 10:26:44 +0000 2021', 'favourites_count': 5, 'utc_offset': None, 'time_zone': None, 'geo_enabled': False, 'verified': False, 'statuses_count': 37, 'lang': None, 'contributors_enabled': False, 'is_translator': False, 'is_translation_enabled': False, 'profile_background_color': 'F5F8FA', 'profile_background_image_url': None, 'profile_background_image_url_https': None, 'profile_background_tile': False, 'profile_image_url': 'http://pbs.twimg.com/profile_images/1406559497628229633/_xbJbfcj_normal.jpg', 'profile_image_url_https': 'https://pbs.twimg.com/profile_images/1406559497628229633/_xbJbfcj_normal.jpg', 'profile_link_color': '1DA1F2', 'profile_sidebar_border_color': 'C0DEED', 'profile_sidebar_fill_color': 'DDEEF6', 'profile_text_color': '333333', 'profile_use_background_image': True, 'has_extended_profile': True, 'default_profile': True, 'default_profile_image': False, 'following': False, 'follow_request_sent': False, 'notifications': False, 'translator_type': 'none', 'withheld_in_countries': []}, id=1406559076453031939, id_str='1406559076453031939', name='Farhan Malik', screen_name='FarhanM01610715', location='', description='#Farhanmalik', url=None, entities={'description': {'urls': []}}, protected=False, followers_count=8, friends_count=15, listed_count=0, created_at=datetime.datetime(2021, 6, 20, 10, 26, 44), favourites_count=5, utc_offset=None, time_zone=None, geo_enabled=False, verified=False, statuses_count=37, lang=None, contributors_enabled=False, is_translator=False, is_translation_enabled=False, profile_background_color='F5F8FA', profile_background_image_url=None, profile_background_image_url_https=None, profile_background_tile=False, profile_image_url='http://pbs.twimg.com/profile_images/1406559497628229633/_xbJbfcj_normal.jpg', profile_image_url_https='https://pbs.twimg.com/profile_images/1406559497628229633/_xbJbfcj_normal.jpg', profile_link_color='1DA1F2', profile_sidebar_border_color='C0DEED', profile_sidebar_fill_color='DDEEF6', profile_text_color='333333', profile_use_background_image=True, has_extended_profile=True, default_profile=True, default_profile_image=False, following=False, follow_request_sent=False, notifications=False, translator_type='none', withheld_in_countries=[]), user=User(_api=<tweepy.api.API object at 0x7fcab83068d0>, _json={'id': 1406559076453031939, 'id_str': '1406559076453031939', 'name': 'Farhan Malik', 'screen_name': 'FarhanM01610715', 'location': '', 'description': '#Farhanmalik', 'url': None, 'entities': {'description': {'urls': []}}, 'protected': False, 'followers_count': 8, 'friends_count': 15, 'listed_count': 0, 'created_at': 'Sun Jun 20 10:26:44 +0000 2021', 'favourites_count': 5, 'utc_offset': None, 'time_zone': None, 'geo_enabled': False, 'verified': False, 'statuses_count': 37, 'lang': None, 'contributors_enabled': False, 'is_translator': False, 'is_translation_enabled': False, 'profile_background_color': 'F5F8FA', 'profile_background_image_url': None, 'profile_background_image_url_https': None, 'profile_background_tile': False, 'profile_image_url': 'http://pbs.twimg.com/profile_images/1406559497628229633/_xbJbfcj_normal.jpg', 'profile_image_url_https': 'https://pbs.twimg.com/profile_images/1406559497628229633/_xbJbfcj_normal.jpg', 'profile_link_color': '1DA1F2', 'profile_sidebar_border_color': 'C0DEED', 'profile_sidebar_fill_color': 'DDEEF6', 'profile_text_color': '333333', 'profile_use_background_image': True, 'has_extended_profile': True, 'default_profile': True, 'default_profile_image': False, 'following': False, 'follow_request_sent': False, 'notifications': False, 'translator_type': 'none', 'withheld_in_countries': []}, id=1406559076453031939, id_str='1406559076453031939', name='Farhan Malik', screen_name='FarhanM01610715', location='', description='#Farhanmalik', url=None, entities={'description': {'urls': []}}, protected=False, followers_count=8, friends_count=15, listed_count=0, created_at=datetime.datetime(2021, 6, 20, 10, 26, 44), favourites_count=5, utc_offset=None, time_zone=None, geo_enabled=False, verified=False, statuses_count=37, lang=None, contributors_enabled=False, is_translator=False, is_translation_enabled=False, profile_background_color='F5F8FA', profile_background_image_url=None, profile_background_image_url_https=None, profile_background_tile=False, profile_image_url='http://pbs.twimg.com/profile_images/1406559497628229633/_xbJbfcj_normal.jpg', profile_image_url_https='https://pbs.twimg.com/profile_images/1406559497628229633/_xbJbfcj_normal.jpg', profile_link_color='1DA1F2', profile_sidebar_border_color='C0DEED', profile_sidebar_fill_color='DDEEF6', profile_text_color='333333', profile_use_background_image=True, has_extended_profile=True, default_profile=True, default_profile_image=False, following=False, follow_request_sent=False, notifications=False, translator_type='none', withheld_in_countries=[]), geo=None, coordinates=None, place=None, contributors=None, is_quote_status=False, retweet_count=0, favorite_count=0, favorited=False, retweeted=False, possibly_sensitive=False, lang='en')\n",
            "=================================================\n",
            "Status(_api=<tweepy.api.API object at 0x7fcab83068d0>, _json={'created_at': 'Sun Jul 04 17:14:19 +0000 2021', 'id': 1411735135184162824, 'id_str': '1411735135184162824', 'full_text': 'Indian hospital closed amid FAKE COVID VACCINE scam, as 2,500+ are feared to have been given saline &amp; antibiotics instead https://t.co/uJ5bNiIrtR https://t.co/8SgpVJvdKZ', 'truncated': False, 'display_text_range': [0, 149], 'entities': {'hashtags': [], 'symbols': [], 'user_mentions': [], 'urls': [{'url': 'https://t.co/uJ5bNiIrtR', 'expanded_url': 'https://www.rt.com/news/528349-india-fake-covid-vaccines/', 'display_url': 'rt.com/news/528349-in…', 'indices': [126, 149]}], 'media': [{'id': 1411735123293265928, 'id_str': '1411735123293265928', 'indices': [150, 173], 'media_url': 'http://pbs.twimg.com/media/E5d9nWzWYAgJ0Qu.jpg', 'media_url_https': 'https://pbs.twimg.com/media/E5d9nWzWYAgJ0Qu.jpg', 'url': 'https://t.co/8SgpVJvdKZ', 'display_url': 'pic.twitter.com/8SgpVJvdKZ', 'expanded_url': 'https://twitter.com/_InNautilus_/status/1411735135184162824/photo/1', 'type': 'photo', 'sizes': {'large': {'w': 980, 'h': 551, 'resize': 'fit'}, 'thumb': {'w': 150, 'h': 150, 'resize': 'crop'}, 'medium': {'w': 980, 'h': 551, 'resize': 'fit'}, 'small': {'w': 680, 'h': 382, 'resize': 'fit'}}}]}, 'extended_entities': {'media': [{'id': 1411735123293265928, 'id_str': '1411735123293265928', 'indices': [150, 173], 'media_url': 'http://pbs.twimg.com/media/E5d9nWzWYAgJ0Qu.jpg', 'media_url_https': 'https://pbs.twimg.com/media/E5d9nWzWYAgJ0Qu.jpg', 'url': 'https://t.co/8SgpVJvdKZ', 'display_url': 'pic.twitter.com/8SgpVJvdKZ', 'expanded_url': 'https://twitter.com/_InNautilus_/status/1411735135184162824/photo/1', 'type': 'photo', 'sizes': {'large': {'w': 980, 'h': 551, 'resize': 'fit'}, 'thumb': {'w': 150, 'h': 150, 'resize': 'crop'}, 'medium': {'w': 980, 'h': 551, 'resize': 'fit'}, 'small': {'w': 680, 'h': 382, 'resize': 'fit'}}}]}, 'metadata': {'iso_language_code': 'en', 'result_type': 'recent'}, 'source': '<a href=\"http://twitter.com/download/iphone\" rel=\"nofollow\">Twitter for iPhone</a>', 'in_reply_to_status_id': None, 'in_reply_to_status_id_str': None, 'in_reply_to_user_id': None, 'in_reply_to_user_id_str': None, 'in_reply_to_screen_name': None, 'user': {'id': 1166384476081070081, 'id_str': '1166384476081070081', 'name': 'Captain_N', 'screen_name': '_InNautilus_', 'location': 'Pacific ', 'description': '', 'url': None, 'entities': {'description': {'urls': []}}, 'protected': False, 'followers_count': 1302, 'friends_count': 1025, 'listed_count': 1, 'created_at': 'Tue Aug 27 16:18:54 +0000 2019', 'favourites_count': 40168, 'utc_offset': None, 'time_zone': None, 'geo_enabled': False, 'verified': False, 'statuses_count': 37789, 'lang': None, 'contributors_enabled': False, 'is_translator': False, 'is_translation_enabled': False, 'profile_background_color': 'F5F8FA', 'profile_background_image_url': None, 'profile_background_image_url_https': None, 'profile_background_tile': False, 'profile_image_url': 'http://pbs.twimg.com/profile_images/1366874666174992390/YjuDPvI0_normal.jpg', 'profile_image_url_https': 'https://pbs.twimg.com/profile_images/1366874666174992390/YjuDPvI0_normal.jpg', 'profile_link_color': '1DA1F2', 'profile_sidebar_border_color': 'C0DEED', 'profile_sidebar_fill_color': 'DDEEF6', 'profile_text_color': '333333', 'profile_use_background_image': True, 'has_extended_profile': False, 'default_profile': True, 'default_profile_image': False, 'following': False, 'follow_request_sent': False, 'notifications': False, 'translator_type': 'none', 'withheld_in_countries': []}, 'geo': None, 'coordinates': None, 'place': None, 'contributors': None, 'is_quote_status': False, 'retweet_count': 0, 'favorite_count': 0, 'favorited': False, 'retweeted': False, 'possibly_sensitive': False, 'lang': 'en'}, created_at=datetime.datetime(2021, 7, 4, 17, 14, 19), id=1411735135184162824, id_str='1411735135184162824', full_text='Indian hospital closed amid FAKE COVID VACCINE scam, as 2,500+ are feared to have been given saline &amp; antibiotics instead https://t.co/uJ5bNiIrtR https://t.co/8SgpVJvdKZ', truncated=False, display_text_range=[0, 149], entities={'hashtags': [], 'symbols': [], 'user_mentions': [], 'urls': [{'url': 'https://t.co/uJ5bNiIrtR', 'expanded_url': 'https://www.rt.com/news/528349-india-fake-covid-vaccines/', 'display_url': 'rt.com/news/528349-in…', 'indices': [126, 149]}], 'media': [{'id': 1411735123293265928, 'id_str': '1411735123293265928', 'indices': [150, 173], 'media_url': 'http://pbs.twimg.com/media/E5d9nWzWYAgJ0Qu.jpg', 'media_url_https': 'https://pbs.twimg.com/media/E5d9nWzWYAgJ0Qu.jpg', 'url': 'https://t.co/8SgpVJvdKZ', 'display_url': 'pic.twitter.com/8SgpVJvdKZ', 'expanded_url': 'https://twitter.com/_InNautilus_/status/1411735135184162824/photo/1', 'type': 'photo', 'sizes': {'large': {'w': 980, 'h': 551, 'resize': 'fit'}, 'thumb': {'w': 150, 'h': 150, 'resize': 'crop'}, 'medium': {'w': 980, 'h': 551, 'resize': 'fit'}, 'small': {'w': 680, 'h': 382, 'resize': 'fit'}}}]}, extended_entities={'media': [{'id': 1411735123293265928, 'id_str': '1411735123293265928', 'indices': [150, 173], 'media_url': 'http://pbs.twimg.com/media/E5d9nWzWYAgJ0Qu.jpg', 'media_url_https': 'https://pbs.twimg.com/media/E5d9nWzWYAgJ0Qu.jpg', 'url': 'https://t.co/8SgpVJvdKZ', 'display_url': 'pic.twitter.com/8SgpVJvdKZ', 'expanded_url': 'https://twitter.com/_InNautilus_/status/1411735135184162824/photo/1', 'type': 'photo', 'sizes': {'large': {'w': 980, 'h': 551, 'resize': 'fit'}, 'thumb': {'w': 150, 'h': 150, 'resize': 'crop'}, 'medium': {'w': 980, 'h': 551, 'resize': 'fit'}, 'small': {'w': 680, 'h': 382, 'resize': 'fit'}}}]}, metadata={'iso_language_code': 'en', 'result_type': 'recent'}, source='Twitter for iPhone', source_url='http://twitter.com/download/iphone', in_reply_to_status_id=None, in_reply_to_status_id_str=None, in_reply_to_user_id=None, in_reply_to_user_id_str=None, in_reply_to_screen_name=None, author=User(_api=<tweepy.api.API object at 0x7fcab83068d0>, _json={'id': 1166384476081070081, 'id_str': '1166384476081070081', 'name': 'Captain_N', 'screen_name': '_InNautilus_', 'location': 'Pacific ', 'description': '', 'url': None, 'entities': {'description': {'urls': []}}, 'protected': False, 'followers_count': 1302, 'friends_count': 1025, 'listed_count': 1, 'created_at': 'Tue Aug 27 16:18:54 +0000 2019', 'favourites_count': 40168, 'utc_offset': None, 'time_zone': None, 'geo_enabled': False, 'verified': False, 'statuses_count': 37789, 'lang': None, 'contributors_enabled': False, 'is_translator': False, 'is_translation_enabled': False, 'profile_background_color': 'F5F8FA', 'profile_background_image_url': None, 'profile_background_image_url_https': None, 'profile_background_tile': False, 'profile_image_url': 'http://pbs.twimg.com/profile_images/1366874666174992390/YjuDPvI0_normal.jpg', 'profile_image_url_https': 'https://pbs.twimg.com/profile_images/1366874666174992390/YjuDPvI0_normal.jpg', 'profile_link_color': '1DA1F2', 'profile_sidebar_border_color': 'C0DEED', 'profile_sidebar_fill_color': 'DDEEF6', 'profile_text_color': '333333', 'profile_use_background_image': True, 'has_extended_profile': False, 'default_profile': True, 'default_profile_image': False, 'following': False, 'follow_request_sent': False, 'notifications': False, 'translator_type': 'none', 'withheld_in_countries': []}, id=1166384476081070081, id_str='1166384476081070081', name='Captain_N', screen_name='_InNautilus_', location='Pacific ', description='', url=None, entities={'description': {'urls': []}}, protected=False, followers_count=1302, friends_count=1025, listed_count=1, created_at=datetime.datetime(2019, 8, 27, 16, 18, 54), favourites_count=40168, utc_offset=None, time_zone=None, geo_enabled=False, verified=False, statuses_count=37789, lang=None, contributors_enabled=False, is_translator=False, is_translation_enabled=False, profile_background_color='F5F8FA', profile_background_image_url=None, profile_background_image_url_https=None, profile_background_tile=False, profile_image_url='http://pbs.twimg.com/profile_images/1366874666174992390/YjuDPvI0_normal.jpg', profile_image_url_https='https://pbs.twimg.com/profile_images/1366874666174992390/YjuDPvI0_normal.jpg', profile_link_color='1DA1F2', profile_sidebar_border_color='C0DEED', profile_sidebar_fill_color='DDEEF6', profile_text_color='333333', profile_use_background_image=True, has_extended_profile=False, default_profile=True, default_profile_image=False, following=False, follow_request_sent=False, notifications=False, translator_type='none', withheld_in_countries=[]), user=User(_api=<tweepy.api.API object at 0x7fcab83068d0>, _json={'id': 1166384476081070081, 'id_str': '1166384476081070081', 'name': 'Captain_N', 'screen_name': '_InNautilus_', 'location': 'Pacific ', 'description': '', 'url': None, 'entities': {'description': {'urls': []}}, 'protected': False, 'followers_count': 1302, 'friends_count': 1025, 'listed_count': 1, 'created_at': 'Tue Aug 27 16:18:54 +0000 2019', 'favourites_count': 40168, 'utc_offset': None, 'time_zone': None, 'geo_enabled': False, 'verified': False, 'statuses_count': 37789, 'lang': None, 'contributors_enabled': False, 'is_translator': False, 'is_translation_enabled': False, 'profile_background_color': 'F5F8FA', 'profile_background_image_url': None, 'profile_background_image_url_https': None, 'profile_background_tile': False, 'profile_image_url': 'http://pbs.twimg.com/profile_images/1366874666174992390/YjuDPvI0_normal.jpg', 'profile_image_url_https': 'https://pbs.twimg.com/profile_images/1366874666174992390/YjuDPvI0_normal.jpg', 'profile_link_color': '1DA1F2', 'profile_sidebar_border_color': 'C0DEED', 'profile_sidebar_fill_color': 'DDEEF6', 'profile_text_color': '333333', 'profile_use_background_image': True, 'has_extended_profile': False, 'default_profile': True, 'default_profile_image': False, 'following': False, 'follow_request_sent': False, 'notifications': False, 'translator_type': 'none', 'withheld_in_countries': []}, id=1166384476081070081, id_str='1166384476081070081', name='Captain_N', screen_name='_InNautilus_', location='Pacific ', description='', url=None, entities={'description': {'urls': []}}, protected=False, followers_count=1302, friends_count=1025, listed_count=1, created_at=datetime.datetime(2019, 8, 27, 16, 18, 54), favourites_count=40168, utc_offset=None, time_zone=None, geo_enabled=False, verified=False, statuses_count=37789, lang=None, contributors_enabled=False, is_translator=False, is_translation_enabled=False, profile_background_color='F5F8FA', profile_background_image_url=None, profile_background_image_url_https=None, profile_background_tile=False, profile_image_url='http://pbs.twimg.com/profile_images/1366874666174992390/YjuDPvI0_normal.jpg', profile_image_url_https='https://pbs.twimg.com/profile_images/1366874666174992390/YjuDPvI0_normal.jpg', profile_link_color='1DA1F2', profile_sidebar_border_color='C0DEED', profile_sidebar_fill_color='DDEEF6', profile_text_color='333333', profile_use_background_image=True, has_extended_profile=False, default_profile=True, default_profile_image=False, following=False, follow_request_sent=False, notifications=False, translator_type='none', withheld_in_countries=[]), geo=None, coordinates=None, place=None, contributors=None, is_quote_status=False, retweet_count=0, favorite_count=0, favorited=False, retweeted=False, possibly_sensitive=False, lang='en')\n",
            "=================================================\n",
            "Status(_api=<tweepy.api.API object at 0x7fcab83068d0>, _json={'created_at': 'Sun Jul 04 17:12:21 +0000 2021', 'id': 1411734641690628098, 'id_str': '1411734641690628098', 'full_text': 'Covid Vaccine Procurement: Govt misleading Public and Supreme Court?     https://t.co/7rZUf4YZja', 'truncated': False, 'display_text_range': [0, 96], 'entities': {'hashtags': [], 'symbols': [], 'user_mentions': [], 'urls': [{'url': 'https://t.co/7rZUf4YZja', 'expanded_url': 'https://www.thequint.com/news/india/covid-19-vaccine-procurement-data-shared-by-indian-govt-under-rti-misleading-public-supreme-court', 'display_url': 'thequint.com/news/india/cov…', 'indices': [73, 96]}]}, 'metadata': {'iso_language_code': 'en', 'result_type': 'recent'}, 'source': '<a href=\"http://twitter.com/download/iphone\" rel=\"nofollow\">Twitter for iPhone</a>', 'in_reply_to_status_id': None, 'in_reply_to_status_id_str': None, 'in_reply_to_user_id': None, 'in_reply_to_user_id_str': None, 'in_reply_to_screen_name': None, 'user': {'id': 730427370071572480, 'id_str': '730427370071572480', 'name': 'Surajit Mukhopadhyay', 'screen_name': 'surajit2909', 'location': 'Kolkata, India', 'description': 'Head - Business Development UAE, Based at Kolkata, Didi-Bhakto, True Citizen', 'url': None, 'entities': {'description': {'urls': []}}, 'protected': False, 'followers_count': 600, 'friends_count': 734, 'listed_count': 0, 'created_at': 'Wed May 11 16:00:30 +0000 2016', 'favourites_count': 24601, 'utc_offset': None, 'time_zone': None, 'geo_enabled': False, 'verified': False, 'statuses_count': 13910, 'lang': None, 'contributors_enabled': False, 'is_translator': False, 'is_translation_enabled': False, 'profile_background_color': 'F5F8FA', 'profile_background_image_url': None, 'profile_background_image_url_https': None, 'profile_background_tile': False, 'profile_image_url': 'http://pbs.twimg.com/profile_images/1371152290149666818/i4FaGWi8_normal.jpg', 'profile_image_url_https': 'https://pbs.twimg.com/profile_images/1371152290149666818/i4FaGWi8_normal.jpg', 'profile_link_color': '1DA1F2', 'profile_sidebar_border_color': 'C0DEED', 'profile_sidebar_fill_color': 'DDEEF6', 'profile_text_color': '333333', 'profile_use_background_image': True, 'has_extended_profile': True, 'default_profile': True, 'default_profile_image': False, 'following': False, 'follow_request_sent': False, 'notifications': False, 'translator_type': 'none', 'withheld_in_countries': []}, 'geo': None, 'coordinates': None, 'place': None, 'contributors': None, 'is_quote_status': False, 'retweet_count': 0, 'favorite_count': 0, 'favorited': False, 'retweeted': False, 'possibly_sensitive': False, 'lang': 'en'}, created_at=datetime.datetime(2021, 7, 4, 17, 12, 21), id=1411734641690628098, id_str='1411734641690628098', full_text='Covid Vaccine Procurement: Govt misleading Public and Supreme Court?     https://t.co/7rZUf4YZja', truncated=False, display_text_range=[0, 96], entities={'hashtags': [], 'symbols': [], 'user_mentions': [], 'urls': [{'url': 'https://t.co/7rZUf4YZja', 'expanded_url': 'https://www.thequint.com/news/india/covid-19-vaccine-procurement-data-shared-by-indian-govt-under-rti-misleading-public-supreme-court', 'display_url': 'thequint.com/news/india/cov…', 'indices': [73, 96]}]}, metadata={'iso_language_code': 'en', 'result_type': 'recent'}, source='Twitter for iPhone', source_url='http://twitter.com/download/iphone', in_reply_to_status_id=None, in_reply_to_status_id_str=None, in_reply_to_user_id=None, in_reply_to_user_id_str=None, in_reply_to_screen_name=None, author=User(_api=<tweepy.api.API object at 0x7fcab83068d0>, _json={'id': 730427370071572480, 'id_str': '730427370071572480', 'name': 'Surajit Mukhopadhyay', 'screen_name': 'surajit2909', 'location': 'Kolkata, India', 'description': 'Head - Business Development UAE, Based at Kolkata, Didi-Bhakto, True Citizen', 'url': None, 'entities': {'description': {'urls': []}}, 'protected': False, 'followers_count': 600, 'friends_count': 734, 'listed_count': 0, 'created_at': 'Wed May 11 16:00:30 +0000 2016', 'favourites_count': 24601, 'utc_offset': None, 'time_zone': None, 'geo_enabled': False, 'verified': False, 'statuses_count': 13910, 'lang': None, 'contributors_enabled': False, 'is_translator': False, 'is_translation_enabled': False, 'profile_background_color': 'F5F8FA', 'profile_background_image_url': None, 'profile_background_image_url_https': None, 'profile_background_tile': False, 'profile_image_url': 'http://pbs.twimg.com/profile_images/1371152290149666818/i4FaGWi8_normal.jpg', 'profile_image_url_https': 'https://pbs.twimg.com/profile_images/1371152290149666818/i4FaGWi8_normal.jpg', 'profile_link_color': '1DA1F2', 'profile_sidebar_border_color': 'C0DEED', 'profile_sidebar_fill_color': 'DDEEF6', 'profile_text_color': '333333', 'profile_use_background_image': True, 'has_extended_profile': True, 'default_profile': True, 'default_profile_image': False, 'following': False, 'follow_request_sent': False, 'notifications': False, 'translator_type': 'none', 'withheld_in_countries': []}, id=730427370071572480, id_str='730427370071572480', name='Surajit Mukhopadhyay', screen_name='surajit2909', location='Kolkata, India', description='Head - Business Development UAE, Based at Kolkata, Didi-Bhakto, True Citizen', url=None, entities={'description': {'urls': []}}, protected=False, followers_count=600, friends_count=734, listed_count=0, created_at=datetime.datetime(2016, 5, 11, 16, 0, 30), favourites_count=24601, utc_offset=None, time_zone=None, geo_enabled=False, verified=False, statuses_count=13910, lang=None, contributors_enabled=False, is_translator=False, is_translation_enabled=False, profile_background_color='F5F8FA', profile_background_image_url=None, profile_background_image_url_https=None, profile_background_tile=False, profile_image_url='http://pbs.twimg.com/profile_images/1371152290149666818/i4FaGWi8_normal.jpg', profile_image_url_https='https://pbs.twimg.com/profile_images/1371152290149666818/i4FaGWi8_normal.jpg', profile_link_color='1DA1F2', profile_sidebar_border_color='C0DEED', profile_sidebar_fill_color='DDEEF6', profile_text_color='333333', profile_use_background_image=True, has_extended_profile=True, default_profile=True, default_profile_image=False, following=False, follow_request_sent=False, notifications=False, translator_type='none', withheld_in_countries=[]), user=User(_api=<tweepy.api.API object at 0x7fcab83068d0>, _json={'id': 730427370071572480, 'id_str': '730427370071572480', 'name': 'Surajit Mukhopadhyay', 'screen_name': 'surajit2909', 'location': 'Kolkata, India', 'description': 'Head - Business Development UAE, Based at Kolkata, Didi-Bhakto, True Citizen', 'url': None, 'entities': {'description': {'urls': []}}, 'protected': False, 'followers_count': 600, 'friends_count': 734, 'listed_count': 0, 'created_at': 'Wed May 11 16:00:30 +0000 2016', 'favourites_count': 24601, 'utc_offset': None, 'time_zone': None, 'geo_enabled': False, 'verified': False, 'statuses_count': 13910, 'lang': None, 'contributors_enabled': False, 'is_translator': False, 'is_translation_enabled': False, 'profile_background_color': 'F5F8FA', 'profile_background_image_url': None, 'profile_background_image_url_https': None, 'profile_background_tile': False, 'profile_image_url': 'http://pbs.twimg.com/profile_images/1371152290149666818/i4FaGWi8_normal.jpg', 'profile_image_url_https': 'https://pbs.twimg.com/profile_images/1371152290149666818/i4FaGWi8_normal.jpg', 'profile_link_color': '1DA1F2', 'profile_sidebar_border_color': 'C0DEED', 'profile_sidebar_fill_color': 'DDEEF6', 'profile_text_color': '333333', 'profile_use_background_image': True, 'has_extended_profile': True, 'default_profile': True, 'default_profile_image': False, 'following': False, 'follow_request_sent': False, 'notifications': False, 'translator_type': 'none', 'withheld_in_countries': []}, id=730427370071572480, id_str='730427370071572480', name='Surajit Mukhopadhyay', screen_name='surajit2909', location='Kolkata, India', description='Head - Business Development UAE, Based at Kolkata, Didi-Bhakto, True Citizen', url=None, entities={'description': {'urls': []}}, protected=False, followers_count=600, friends_count=734, listed_count=0, created_at=datetime.datetime(2016, 5, 11, 16, 0, 30), favourites_count=24601, utc_offset=None, time_zone=None, geo_enabled=False, verified=False, statuses_count=13910, lang=None, contributors_enabled=False, is_translator=False, is_translation_enabled=False, profile_background_color='F5F8FA', profile_background_image_url=None, profile_background_image_url_https=None, profile_background_tile=False, profile_image_url='http://pbs.twimg.com/profile_images/1371152290149666818/i4FaGWi8_normal.jpg', profile_image_url_https='https://pbs.twimg.com/profile_images/1371152290149666818/i4FaGWi8_normal.jpg', profile_link_color='1DA1F2', profile_sidebar_border_color='C0DEED', profile_sidebar_fill_color='DDEEF6', profile_text_color='333333', profile_use_background_image=True, has_extended_profile=True, default_profile=True, default_profile_image=False, following=False, follow_request_sent=False, notifications=False, translator_type='none', withheld_in_countries=[]), geo=None, coordinates=None, place=None, contributors=None, is_quote_status=False, retweet_count=0, favorite_count=0, favorited=False, retweeted=False, possibly_sensitive=False, lang='en')\n",
            "=================================================\n",
            "Status(_api=<tweepy.api.API object at 0x7fcab83068d0>, _json={'created_at': 'Sun Jul 04 17:12:12 +0000 2021', 'id': 1411734600343330824, 'id_str': '1411734600343330824', 'full_text': 'These findings highlight the importance of continuing to vaccinate populations with an effective primary series vaccine. https://t.co/GqMP94lECO', 'truncated': False, 'display_text_range': [0, 144], 'entities': {'hashtags': [], 'symbols': [], 'user_mentions': [], 'urls': [{'url': 'https://t.co/GqMP94lECO', 'expanded_url': 'https://www.businesswire.com/news/home/20210629005708/en/Moderna-Provides-a-Clinical-Update-on-the-Neutralizing-Activity-of-its-COVID-19-Vaccine-on-Emerging-Variants-Including-the-Delta-Variant-First-Identified-in-India', 'display_url': 'businesswire.com/news/home/2021…', 'indices': [121, 144]}]}, 'metadata': {'iso_language_code': 'en', 'result_type': 'recent'}, 'source': '<a href=\"http://twitter.com/download/iphone\" rel=\"nofollow\">Twitter for iPhone</a>', 'in_reply_to_status_id': None, 'in_reply_to_status_id_str': None, 'in_reply_to_user_id': None, 'in_reply_to_user_id_str': None, 'in_reply_to_screen_name': None, 'user': {'id': 94039492, 'id_str': '94039492', 'name': 'chocotorro75', 'screen_name': 'chocotorro75', 'location': 'México', 'description': '', 'url': None, 'entities': {'description': {'urls': []}}, 'protected': False, 'followers_count': 288, 'friends_count': 592, 'listed_count': 12, 'created_at': 'Wed Dec 02 07:05:05 +0000 2009', 'favourites_count': 12236, 'utc_offset': None, 'time_zone': None, 'geo_enabled': True, 'verified': False, 'statuses_count': 13923, 'lang': None, 'contributors_enabled': False, 'is_translator': False, 'is_translation_enabled': False, 'profile_background_color': '000000', 'profile_background_image_url': 'http://abs.twimg.com/images/themes/theme13/bg.gif', 'profile_background_image_url_https': 'https://abs.twimg.com/images/themes/theme13/bg.gif', 'profile_background_tile': True, 'profile_image_url': 'http://pbs.twimg.com/profile_images/1397036750288171016/JRD0j8Og_normal.jpg', 'profile_image_url_https': 'https://pbs.twimg.com/profile_images/1397036750288171016/JRD0j8Og_normal.jpg', 'profile_link_color': '000000', 'profile_sidebar_border_color': '000000', 'profile_sidebar_fill_color': '000000', 'profile_text_color': '000000', 'profile_use_background_image': True, 'has_extended_profile': False, 'default_profile': False, 'default_profile_image': False, 'following': False, 'follow_request_sent': False, 'notifications': False, 'translator_type': 'none', 'withheld_in_countries': []}, 'geo': None, 'coordinates': None, 'place': None, 'contributors': None, 'is_quote_status': False, 'retweet_count': 0, 'favorite_count': 1, 'favorited': False, 'retweeted': False, 'possibly_sensitive': False, 'lang': 'en'}, created_at=datetime.datetime(2021, 7, 4, 17, 12, 12), id=1411734600343330824, id_str='1411734600343330824', full_text='These findings highlight the importance of continuing to vaccinate populations with an effective primary series vaccine. https://t.co/GqMP94lECO', truncated=False, display_text_range=[0, 144], entities={'hashtags': [], 'symbols': [], 'user_mentions': [], 'urls': [{'url': 'https://t.co/GqMP94lECO', 'expanded_url': 'https://www.businesswire.com/news/home/20210629005708/en/Moderna-Provides-a-Clinical-Update-on-the-Neutralizing-Activity-of-its-COVID-19-Vaccine-on-Emerging-Variants-Including-the-Delta-Variant-First-Identified-in-India', 'display_url': 'businesswire.com/news/home/2021…', 'indices': [121, 144]}]}, metadata={'iso_language_code': 'en', 'result_type': 'recent'}, source='Twitter for iPhone', source_url='http://twitter.com/download/iphone', in_reply_to_status_id=None, in_reply_to_status_id_str=None, in_reply_to_user_id=None, in_reply_to_user_id_str=None, in_reply_to_screen_name=None, author=User(_api=<tweepy.api.API object at 0x7fcab83068d0>, _json={'id': 94039492, 'id_str': '94039492', 'name': 'chocotorro75', 'screen_name': 'chocotorro75', 'location': 'México', 'description': '', 'url': None, 'entities': {'description': {'urls': []}}, 'protected': False, 'followers_count': 288, 'friends_count': 592, 'listed_count': 12, 'created_at': 'Wed Dec 02 07:05:05 +0000 2009', 'favourites_count': 12236, 'utc_offset': None, 'time_zone': None, 'geo_enabled': True, 'verified': False, 'statuses_count': 13923, 'lang': None, 'contributors_enabled': False, 'is_translator': False, 'is_translation_enabled': False, 'profile_background_color': '000000', 'profile_background_image_url': 'http://abs.twimg.com/images/themes/theme13/bg.gif', 'profile_background_image_url_https': 'https://abs.twimg.com/images/themes/theme13/bg.gif', 'profile_background_tile': True, 'profile_image_url': 'http://pbs.twimg.com/profile_images/1397036750288171016/JRD0j8Og_normal.jpg', 'profile_image_url_https': 'https://pbs.twimg.com/profile_images/1397036750288171016/JRD0j8Og_normal.jpg', 'profile_link_color': '000000', 'profile_sidebar_border_color': '000000', 'profile_sidebar_fill_color': '000000', 'profile_text_color': '000000', 'profile_use_background_image': True, 'has_extended_profile': False, 'default_profile': False, 'default_profile_image': False, 'following': False, 'follow_request_sent': False, 'notifications': False, 'translator_type': 'none', 'withheld_in_countries': []}, id=94039492, id_str='94039492', name='chocotorro75', screen_name='chocotorro75', location='México', description='', url=None, entities={'description': {'urls': []}}, protected=False, followers_count=288, friends_count=592, listed_count=12, created_at=datetime.datetime(2009, 12, 2, 7, 5, 5), favourites_count=12236, utc_offset=None, time_zone=None, geo_enabled=True, verified=False, statuses_count=13923, lang=None, contributors_enabled=False, is_translator=False, is_translation_enabled=False, profile_background_color='000000', profile_background_image_url='http://abs.twimg.com/images/themes/theme13/bg.gif', profile_background_image_url_https='https://abs.twimg.com/images/themes/theme13/bg.gif', profile_background_tile=True, profile_image_url='http://pbs.twimg.com/profile_images/1397036750288171016/JRD0j8Og_normal.jpg', profile_image_url_https='https://pbs.twimg.com/profile_images/1397036750288171016/JRD0j8Og_normal.jpg', profile_link_color='000000', profile_sidebar_border_color='000000', profile_sidebar_fill_color='000000', profile_text_color='000000', profile_use_background_image=True, has_extended_profile=False, default_profile=False, default_profile_image=False, following=False, follow_request_sent=False, notifications=False, translator_type='none', withheld_in_countries=[]), user=User(_api=<tweepy.api.API object at 0x7fcab83068d0>, _json={'id': 94039492, 'id_str': '94039492', 'name': 'chocotorro75', 'screen_name': 'chocotorro75', 'location': 'México', 'description': '', 'url': None, 'entities': {'description': {'urls': []}}, 'protected': False, 'followers_count': 288, 'friends_count': 592, 'listed_count': 12, 'created_at': 'Wed Dec 02 07:05:05 +0000 2009', 'favourites_count': 12236, 'utc_offset': None, 'time_zone': None, 'geo_enabled': True, 'verified': False, 'statuses_count': 13923, 'lang': None, 'contributors_enabled': False, 'is_translator': False, 'is_translation_enabled': False, 'profile_background_color': '000000', 'profile_background_image_url': 'http://abs.twimg.com/images/themes/theme13/bg.gif', 'profile_background_image_url_https': 'https://abs.twimg.com/images/themes/theme13/bg.gif', 'profile_background_tile': True, 'profile_image_url': 'http://pbs.twimg.com/profile_images/1397036750288171016/JRD0j8Og_normal.jpg', 'profile_image_url_https': 'https://pbs.twimg.com/profile_images/1397036750288171016/JRD0j8Og_normal.jpg', 'profile_link_color': '000000', 'profile_sidebar_border_color': '000000', 'profile_sidebar_fill_color': '000000', 'profile_text_color': '000000', 'profile_use_background_image': True, 'has_extended_profile': False, 'default_profile': False, 'default_profile_image': False, 'following': False, 'follow_request_sent': False, 'notifications': False, 'translator_type': 'none', 'withheld_in_countries': []}, id=94039492, id_str='94039492', name='chocotorro75', screen_name='chocotorro75', location='México', description='', url=None, entities={'description': {'urls': []}}, protected=False, followers_count=288, friends_count=592, listed_count=12, created_at=datetime.datetime(2009, 12, 2, 7, 5, 5), favourites_count=12236, utc_offset=None, time_zone=None, geo_enabled=True, verified=False, statuses_count=13923, lang=None, contributors_enabled=False, is_translator=False, is_translation_enabled=False, profile_background_color='000000', profile_background_image_url='http://abs.twimg.com/images/themes/theme13/bg.gif', profile_background_image_url_https='https://abs.twimg.com/images/themes/theme13/bg.gif', profile_background_tile=True, profile_image_url='http://pbs.twimg.com/profile_images/1397036750288171016/JRD0j8Og_normal.jpg', profile_image_url_https='https://pbs.twimg.com/profile_images/1397036750288171016/JRD0j8Og_normal.jpg', profile_link_color='000000', profile_sidebar_border_color='000000', profile_sidebar_fill_color='000000', profile_text_color='000000', profile_use_background_image=True, has_extended_profile=False, default_profile=False, default_profile_image=False, following=False, follow_request_sent=False, notifications=False, translator_type='none', withheld_in_countries=[]), geo=None, coordinates=None, place=None, contributors=None, is_quote_status=False, retweet_count=0, favorite_count=1, favorited=False, retweeted=False, possibly_sensitive=False, lang='en')\n",
            "=================================================\n"
          ],
          "name": "stdout"
        }
      ]
    },
    {
      "cell_type": "markdown",
      "metadata": {
        "id": "NJyTDununZVB"
      },
      "source": [
        "# Getting the Tweets and some of its related Attributes"
      ]
    },
    {
      "cell_type": "code",
      "metadata": {
        "id": "VWZ6XttpnZVC",
        "colab": {
          "base_uri": "https://localhost:8080/",
          "height": 49
        },
        "outputId": "53474198-e19a-4596-b4c5-c9093e56ec8b"
      },
      "source": [
        "df = pd.DataFrame(columns=[\n",
        "    'Tweets', 'User', 'User_statuses_count',\n",
        "    'user_followers', 'User_location', 'User_verified',\n",
        "    'fav_count', 'rt_count', 'tweet_date'\n",
        "])\n",
        "df"
      ],
      "execution_count": 6,
      "outputs": [
        {
          "output_type": "execute_result",
          "data": {
            "text/html": [
              "<div>\n",
              "<style scoped>\n",
              "    .dataframe tbody tr th:only-of-type {\n",
              "        vertical-align: middle;\n",
              "    }\n",
              "\n",
              "    .dataframe tbody tr th {\n",
              "        vertical-align: top;\n",
              "    }\n",
              "\n",
              "    .dataframe thead th {\n",
              "        text-align: right;\n",
              "    }\n",
              "</style>\n",
              "<table border=\"1\" class=\"dataframe\">\n",
              "  <thead>\n",
              "    <tr style=\"text-align: right;\">\n",
              "      <th></th>\n",
              "      <th>Tweets</th>\n",
              "      <th>User</th>\n",
              "      <th>User_statuses_count</th>\n",
              "      <th>user_followers</th>\n",
              "      <th>User_location</th>\n",
              "      <th>User_verified</th>\n",
              "      <th>fav_count</th>\n",
              "      <th>rt_count</th>\n",
              "      <th>tweet_date</th>\n",
              "    </tr>\n",
              "  </thead>\n",
              "  <tbody>\n",
              "  </tbody>\n",
              "</table>\n",
              "</div>"
            ],
            "text/plain": [
              "Empty DataFrame\n",
              "Columns: [Tweets, User, User_statuses_count, user_followers, User_location, User_verified, fav_count, rt_count, tweet_date]\n",
              "Index: []"
            ]
          },
          "metadata": {
            "tags": []
          },
          "execution_count": 6
        }
      ]
    },
    {
      "cell_type": "code",
      "metadata": {
        "id": "naEn1pLNnZVD"
      },
      "source": [
        "def stream(data, file_name):\n",
        "    i=0\n",
        "    for tweet in tweepy.Cursor(api.search, q=data, count=100, lang='en').items():\n",
        "        print(i, end='\\r')\n",
        "        df.loc[i, 'Tweets'] = tweet.text\n",
        "        df.loc[i, 'User'] = tweet.user.name\n",
        "        df.loc[i, 'User_statuses_count'] = tweet.user.statuses_count\n",
        "        df.loc[i, 'user_followers'] = tweet.user.followers_count\n",
        "        df.loc[i, 'User_location'] = tweet.user.location\n",
        "        df.loc[i, 'User_verified'] = tweet.user.verified\n",
        "        df.loc[i, 'fav_count'] = tweet.favorite_count\n",
        "        df.loc[i, 'rt_count'] = tweet.retweet_count\n",
        "        df.loc[i, 'tweet_date'] = tweet.created_at\n",
        "        df.to_excel('{}.xlsx'.format(file_name))\n",
        "        i = i+1\n",
        "        if i == 1000:\n",
        "            break\n",
        "        else:\n",
        "            pass"
      ],
      "execution_count": 7,
      "outputs": []
    },
    {
      "cell_type": "code",
      "metadata": {
        "scrolled": true,
        "id": "MZZB9ClxnZVD",
        "colab": {
          "base_uri": "https://localhost:8080/"
        },
        "outputId": "fa1a9579-9557-49ef-99b4-bdf6320f427c"
      },
      "source": [
        "stream(data=[\"Covid Vaccine India\"], file_name='my_tweets')"
      ],
      "execution_count": 9,
      "outputs": [
        {
          "output_type": "stream",
          "text": [
            ""
          ],
          "name": "stdout"
        }
      ]
    },
    {
      "cell_type": "code",
      "metadata": {
        "id": "ZkQNGEGYnZVE",
        "colab": {
          "base_uri": "https://localhost:8080/",
          "height": 287
        },
        "outputId": "c3ac9869-6040-41fe-ea9d-bedaac8544b6"
      },
      "source": [
        "df.head()"
      ],
      "execution_count": 10,
      "outputs": [
        {
          "output_type": "execute_result",
          "data": {
            "text/html": [
              "<div>\n",
              "<style scoped>\n",
              "    .dataframe tbody tr th:only-of-type {\n",
              "        vertical-align: middle;\n",
              "    }\n",
              "\n",
              "    .dataframe tbody tr th {\n",
              "        vertical-align: top;\n",
              "    }\n",
              "\n",
              "    .dataframe thead th {\n",
              "        text-align: right;\n",
              "    }\n",
              "</style>\n",
              "<table border=\"1\" class=\"dataframe\">\n",
              "  <thead>\n",
              "    <tr style=\"text-align: right;\">\n",
              "      <th></th>\n",
              "      <th>Tweets</th>\n",
              "      <th>User</th>\n",
              "      <th>User_statuses_count</th>\n",
              "      <th>user_followers</th>\n",
              "      <th>User_location</th>\n",
              "      <th>User_verified</th>\n",
              "      <th>fav_count</th>\n",
              "      <th>rt_count</th>\n",
              "      <th>tweet_date</th>\n",
              "    </tr>\n",
              "  </thead>\n",
              "  <tbody>\n",
              "    <tr>\n",
              "      <th>0</th>\n",
              "      <td>RT @HardeepSPuri: 🔬 Government further scales ...</td>\n",
              "      <td>Beinginformed.in</td>\n",
              "      <td>18915</td>\n",
              "      <td>293</td>\n",
              "      <td>My Country India</td>\n",
              "      <td>False</td>\n",
              "      <td>0</td>\n",
              "      <td>44</td>\n",
              "      <td>2021-07-04 17:46:31</td>\n",
              "    </tr>\n",
              "    <tr>\n",
              "      <th>1</th>\n",
              "      <td>RT @HardeepSPuri: 🔬 Government further scales ...</td>\n",
              "      <td>Mohsin Shaikh🇮🇳</td>\n",
              "      <td>13722</td>\n",
              "      <td>1805</td>\n",
              "      <td>Pune, Maharashtra</td>\n",
              "      <td>False</td>\n",
              "      <td>0</td>\n",
              "      <td>44</td>\n",
              "      <td>2021-07-04 17:44:42</td>\n",
              "    </tr>\n",
              "    <tr>\n",
              "      <th>2</th>\n",
              "      <td>RT @FaheemYounus: Great News:\\n\\nPfizer, Moder...</td>\n",
              "      <td>Ibn Anjar™</td>\n",
              "      <td>35074</td>\n",
              "      <td>874</td>\n",
              "      <td>ÜT: -6.2130817,107.0288138</td>\n",
              "      <td>False</td>\n",
              "      <td>0</td>\n",
              "      <td>1539</td>\n",
              "      <td>2021-07-04 17:44:26</td>\n",
              "    </tr>\n",
              "    <tr>\n",
              "      <th>3</th>\n",
              "      <td>RT @HardeepSPuri: 🔬 Government further scales ...</td>\n",
              "      <td>VISHWANATH ACHARYA</td>\n",
              "      <td>26857</td>\n",
              "      <td>546</td>\n",
              "      <td>Pune, Maharashtra, India</td>\n",
              "      <td>False</td>\n",
              "      <td>0</td>\n",
              "      <td>44</td>\n",
              "      <td>2021-07-04 17:44:19</td>\n",
              "    </tr>\n",
              "    <tr>\n",
              "      <th>4</th>\n",
              "      <td>RT @HardeepSPuri: 🔬 Government further scales ...</td>\n",
              "      <td>Astro-कुमकुम 🇮🇳</td>\n",
              "      <td>41656</td>\n",
              "      <td>1218</td>\n",
              "      <td>New Delhi, India</td>\n",
              "      <td>False</td>\n",
              "      <td>0</td>\n",
              "      <td>44</td>\n",
              "      <td>2021-07-04 17:44:07</td>\n",
              "    </tr>\n",
              "  </tbody>\n",
              "</table>\n",
              "</div>"
            ],
            "text/plain": [
              "                                              Tweets  ...           tweet_date\n",
              "0  RT @HardeepSPuri: 🔬 Government further scales ...  ...  2021-07-04 17:46:31\n",
              "1  RT @HardeepSPuri: 🔬 Government further scales ...  ...  2021-07-04 17:44:42\n",
              "2  RT @FaheemYounus: Great News:\\n\\nPfizer, Moder...  ...  2021-07-04 17:44:26\n",
              "3  RT @HardeepSPuri: 🔬 Government further scales ...  ...  2021-07-04 17:44:19\n",
              "4  RT @HardeepSPuri: 🔬 Government further scales ...  ...  2021-07-04 17:44:07\n",
              "\n",
              "[5 rows x 9 columns]"
            ]
          },
          "metadata": {
            "tags": []
          },
          "execution_count": 10
        }
      ]
    },
    {
      "cell_type": "code",
      "metadata": {
        "id": "3ICLbrXrnZVE",
        "colab": {
          "base_uri": "https://localhost:8080/"
        },
        "outputId": "8c82c5d3-8e12-422a-a183-4c35b2b71835"
      },
      "source": [
        "df.shape"
      ],
      "execution_count": 11,
      "outputs": [
        {
          "output_type": "execute_result",
          "data": {
            "text/plain": [
              "(1000, 9)"
            ]
          },
          "metadata": {
            "tags": []
          },
          "execution_count": 11
        }
      ]
    },
    {
      "cell_type": "code",
      "metadata": {
        "id": "I4bKYhuEnZVE"
      },
      "source": [
        "from textblob import TextBlob"
      ],
      "execution_count": 12,
      "outputs": []
    },
    {
      "cell_type": "raw",
      "metadata": {
        "id": "eBsfXm2inZVE"
      },
      "source": [
        "Textblob has built-in sentiment property\n",
        "\n",
        "Sentiment(polarity, subjectivity)\n",
        "\n",
        "Polarity: It is a float score withan a range [-1, 1]\n",
        "\n",
        "Subjectivity: It is a float value in the range [0,1] where  0 means very Objective and 1 means very Subjective."
      ]
    },
    {
      "cell_type": "code",
      "metadata": {
        "id": "_2CVUzfinZVF"
      },
      "source": [
        "import re\n",
        "def clean_tweet(tweet):\n",
        "    return ' '.join(re.sub('(@[A-Za-z0-9]+)|([^0-9A-Za-z \\t])|(\\w+:\\/\\/\\S+)', ' ', tweet).split())"
      ],
      "execution_count": 13,
      "outputs": []
    },
    {
      "cell_type": "code",
      "metadata": {
        "id": "bSUxbujwnZVF"
      },
      "source": [
        "def analyze_sentiment(tweet):\n",
        "    analysis = TextBlob(tweet)\n",
        "    if analysis.sentiment.polarity>0:\n",
        "        return 'Positive'\n",
        "    elif analysis.sentiment.polarity==0:\n",
        "        return 'Neutral'\n",
        "    else:\n",
        "        return 'Negative'"
      ],
      "execution_count": 14,
      "outputs": []
    },
    {
      "cell_type": "code",
      "metadata": {
        "id": "GkWINyyGnZVF"
      },
      "source": [
        "df['clean_tweet'] = df['Tweets'].apply(lambda x: clean_tweet(x))"
      ],
      "execution_count": 15,
      "outputs": []
    },
    {
      "cell_type": "code",
      "metadata": {
        "id": "EGwT1KqcnZVF",
        "colab": {
          "base_uri": "https://localhost:8080/",
          "height": 203
        },
        "outputId": "2955ff65-e794-4360-c706-12d4a6e119e6"
      },
      "source": [
        "df[['Tweets','clean_tweet']].head()"
      ],
      "execution_count": 16,
      "outputs": [
        {
          "output_type": "execute_result",
          "data": {
            "text/html": [
              "<div>\n",
              "<style scoped>\n",
              "    .dataframe tbody tr th:only-of-type {\n",
              "        vertical-align: middle;\n",
              "    }\n",
              "\n",
              "    .dataframe tbody tr th {\n",
              "        vertical-align: top;\n",
              "    }\n",
              "\n",
              "    .dataframe thead th {\n",
              "        text-align: right;\n",
              "    }\n",
              "</style>\n",
              "<table border=\"1\" class=\"dataframe\">\n",
              "  <thead>\n",
              "    <tr style=\"text-align: right;\">\n",
              "      <th></th>\n",
              "      <th>Tweets</th>\n",
              "      <th>clean_tweet</th>\n",
              "    </tr>\n",
              "  </thead>\n",
              "  <tbody>\n",
              "    <tr>\n",
              "      <th>0</th>\n",
              "      <td>RT @HardeepSPuri: 🔬 Government further scales ...</td>\n",
              "      <td>RT Government further scales up India s Vaccin...</td>\n",
              "    </tr>\n",
              "    <tr>\n",
              "      <th>1</th>\n",
              "      <td>RT @HardeepSPuri: 🔬 Government further scales ...</td>\n",
              "      <td>RT Government further scales up India s Vaccin...</td>\n",
              "    </tr>\n",
              "    <tr>\n",
              "      <th>2</th>\n",
              "      <td>RT @FaheemYounus: Great News:\\n\\nPfizer, Moder...</td>\n",
              "      <td>RT Great News Pfizer Moderna J J and AZ COVID ...</td>\n",
              "    </tr>\n",
              "    <tr>\n",
              "      <th>3</th>\n",
              "      <td>RT @HardeepSPuri: 🔬 Government further scales ...</td>\n",
              "      <td>RT Government further scales up India s Vaccin...</td>\n",
              "    </tr>\n",
              "    <tr>\n",
              "      <th>4</th>\n",
              "      <td>RT @HardeepSPuri: 🔬 Government further scales ...</td>\n",
              "      <td>RT Government further scales up India s Vaccin...</td>\n",
              "    </tr>\n",
              "  </tbody>\n",
              "</table>\n",
              "</div>"
            ],
            "text/plain": [
              "                                              Tweets                                        clean_tweet\n",
              "0  RT @HardeepSPuri: 🔬 Government further scales ...  RT Government further scales up India s Vaccin...\n",
              "1  RT @HardeepSPuri: 🔬 Government further scales ...  RT Government further scales up India s Vaccin...\n",
              "2  RT @FaheemYounus: Great News:\\n\\nPfizer, Moder...  RT Great News Pfizer Moderna J J and AZ COVID ...\n",
              "3  RT @HardeepSPuri: 🔬 Government further scales ...  RT Government further scales up India s Vaccin...\n",
              "4  RT @HardeepSPuri: 🔬 Government further scales ...  RT Government further scales up India s Vaccin..."
            ]
          },
          "metadata": {
            "tags": []
          },
          "execution_count": 16
        }
      ]
    },
    {
      "cell_type": "code",
      "metadata": {
        "id": "8kh9CfZOnZVF"
      },
      "source": [
        "df['Sentiment'] = df['clean_tweet'].apply(lambda x: analyze_sentiment(x))"
      ],
      "execution_count": 17,
      "outputs": []
    },
    {
      "cell_type": "code",
      "metadata": {
        "id": "FDMiXH6enZVG",
        "colab": {
          "base_uri": "https://localhost:8080/",
          "height": 203
        },
        "outputId": "db25bb95-6d33-48ed-ad59-63c9730ce8e5"
      },
      "source": [
        "df[['clean_tweet','Sentiment']].head()"
      ],
      "execution_count": 18,
      "outputs": [
        {
          "output_type": "execute_result",
          "data": {
            "text/html": [
              "<div>\n",
              "<style scoped>\n",
              "    .dataframe tbody tr th:only-of-type {\n",
              "        vertical-align: middle;\n",
              "    }\n",
              "\n",
              "    .dataframe tbody tr th {\n",
              "        vertical-align: top;\n",
              "    }\n",
              "\n",
              "    .dataframe thead th {\n",
              "        text-align: right;\n",
              "    }\n",
              "</style>\n",
              "<table border=\"1\" class=\"dataframe\">\n",
              "  <thead>\n",
              "    <tr style=\"text-align: right;\">\n",
              "      <th></th>\n",
              "      <th>clean_tweet</th>\n",
              "      <th>Sentiment</th>\n",
              "    </tr>\n",
              "  </thead>\n",
              "  <tbody>\n",
              "    <tr>\n",
              "      <th>0</th>\n",
              "      <td>RT Government further scales up India s Vaccin...</td>\n",
              "      <td>Neutral</td>\n",
              "    </tr>\n",
              "    <tr>\n",
              "      <th>1</th>\n",
              "      <td>RT Government further scales up India s Vaccin...</td>\n",
              "      <td>Neutral</td>\n",
              "    </tr>\n",
              "    <tr>\n",
              "      <th>2</th>\n",
              "      <td>RT Great News Pfizer Moderna J J and AZ COVID ...</td>\n",
              "      <td>Positive</td>\n",
              "    </tr>\n",
              "    <tr>\n",
              "      <th>3</th>\n",
              "      <td>RT Government further scales up India s Vaccin...</td>\n",
              "      <td>Neutral</td>\n",
              "    </tr>\n",
              "    <tr>\n",
              "      <th>4</th>\n",
              "      <td>RT Government further scales up India s Vaccin...</td>\n",
              "      <td>Neutral</td>\n",
              "    </tr>\n",
              "  </tbody>\n",
              "</table>\n",
              "</div>"
            ],
            "text/plain": [
              "                                         clean_tweet Sentiment\n",
              "0  RT Government further scales up India s Vaccin...   Neutral\n",
              "1  RT Government further scales up India s Vaccin...   Neutral\n",
              "2  RT Great News Pfizer Moderna J J and AZ COVID ...  Positive\n",
              "3  RT Government further scales up India s Vaccin...   Neutral\n",
              "4  RT Government further scales up India s Vaccin...   Neutral"
            ]
          },
          "metadata": {
            "tags": []
          },
          "execution_count": 18
        }
      ]
    },
    {
      "cell_type": "code",
      "metadata": {
        "id": "JX_ga0FsnZVG"
      },
      "source": [
        "pd.set_option('display.max_rows', 500)\n",
        "pd.set_option('display.max_columns', 500)\n",
        "pd.set_option('display.width', 1000)"
      ],
      "execution_count": 19,
      "outputs": []
    },
    {
      "cell_type": "code",
      "metadata": {
        "id": "lYufxWXInZVG",
        "colab": {
          "base_uri": "https://localhost:8080/",
          "height": 203
        },
        "outputId": "95608a35-8f96-4ae4-8956-ee0a8d6f56db"
      },
      "source": [
        "df[['clean_tweet','Sentiment']].head()"
      ],
      "execution_count": 20,
      "outputs": [
        {
          "output_type": "execute_result",
          "data": {
            "text/html": [
              "<div>\n",
              "<style scoped>\n",
              "    .dataframe tbody tr th:only-of-type {\n",
              "        vertical-align: middle;\n",
              "    }\n",
              "\n",
              "    .dataframe tbody tr th {\n",
              "        vertical-align: top;\n",
              "    }\n",
              "\n",
              "    .dataframe thead th {\n",
              "        text-align: right;\n",
              "    }\n",
              "</style>\n",
              "<table border=\"1\" class=\"dataframe\">\n",
              "  <thead>\n",
              "    <tr style=\"text-align: right;\">\n",
              "      <th></th>\n",
              "      <th>clean_tweet</th>\n",
              "      <th>Sentiment</th>\n",
              "    </tr>\n",
              "  </thead>\n",
              "  <tbody>\n",
              "    <tr>\n",
              "      <th>0</th>\n",
              "      <td>RT Government further scales up India s Vaccin...</td>\n",
              "      <td>Neutral</td>\n",
              "    </tr>\n",
              "    <tr>\n",
              "      <th>1</th>\n",
              "      <td>RT Government further scales up India s Vaccin...</td>\n",
              "      <td>Neutral</td>\n",
              "    </tr>\n",
              "    <tr>\n",
              "      <th>2</th>\n",
              "      <td>RT Great News Pfizer Moderna J J and AZ COVID ...</td>\n",
              "      <td>Positive</td>\n",
              "    </tr>\n",
              "    <tr>\n",
              "      <th>3</th>\n",
              "      <td>RT Government further scales up India s Vaccin...</td>\n",
              "      <td>Neutral</td>\n",
              "    </tr>\n",
              "    <tr>\n",
              "      <th>4</th>\n",
              "      <td>RT Government further scales up India s Vaccin...</td>\n",
              "      <td>Neutral</td>\n",
              "    </tr>\n",
              "  </tbody>\n",
              "</table>\n",
              "</div>"
            ],
            "text/plain": [
              "                                         clean_tweet Sentiment\n",
              "0  RT Government further scales up India s Vaccin...   Neutral\n",
              "1  RT Government further scales up India s Vaccin...   Neutral\n",
              "2  RT Great News Pfizer Moderna J J and AZ COVID ...  Positive\n",
              "3  RT Government further scales up India s Vaccin...   Neutral\n",
              "4  RT Government further scales up India s Vaccin...   Neutral"
            ]
          },
          "metadata": {
            "tags": []
          },
          "execution_count": 20
        }
      ]
    },
    {
      "cell_type": "code",
      "metadata": {
        "id": "wP_ikhhmnZVG",
        "colab": {
          "base_uri": "https://localhost:8080/",
          "height": 371
        },
        "outputId": "f2bc7f2e-14a8-4ced-ef3e-a99fb50676e8"
      },
      "source": [
        "df.head()"
      ],
      "execution_count": 21,
      "outputs": [
        {
          "output_type": "execute_result",
          "data": {
            "text/html": [
              "<div>\n",
              "<style scoped>\n",
              "    .dataframe tbody tr th:only-of-type {\n",
              "        vertical-align: middle;\n",
              "    }\n",
              "\n",
              "    .dataframe tbody tr th {\n",
              "        vertical-align: top;\n",
              "    }\n",
              "\n",
              "    .dataframe thead th {\n",
              "        text-align: right;\n",
              "    }\n",
              "</style>\n",
              "<table border=\"1\" class=\"dataframe\">\n",
              "  <thead>\n",
              "    <tr style=\"text-align: right;\">\n",
              "      <th></th>\n",
              "      <th>Tweets</th>\n",
              "      <th>User</th>\n",
              "      <th>User_statuses_count</th>\n",
              "      <th>user_followers</th>\n",
              "      <th>User_location</th>\n",
              "      <th>User_verified</th>\n",
              "      <th>fav_count</th>\n",
              "      <th>rt_count</th>\n",
              "      <th>tweet_date</th>\n",
              "      <th>clean_tweet</th>\n",
              "      <th>Sentiment</th>\n",
              "    </tr>\n",
              "  </thead>\n",
              "  <tbody>\n",
              "    <tr>\n",
              "      <th>0</th>\n",
              "      <td>RT @HardeepSPuri: 🔬 Government further scales ...</td>\n",
              "      <td>Beinginformed.in</td>\n",
              "      <td>18915</td>\n",
              "      <td>293</td>\n",
              "      <td>My Country India</td>\n",
              "      <td>False</td>\n",
              "      <td>0</td>\n",
              "      <td>44</td>\n",
              "      <td>2021-07-04 17:46:31</td>\n",
              "      <td>RT Government further scales up India s Vaccin...</td>\n",
              "      <td>Neutral</td>\n",
              "    </tr>\n",
              "    <tr>\n",
              "      <th>1</th>\n",
              "      <td>RT @HardeepSPuri: 🔬 Government further scales ...</td>\n",
              "      <td>Mohsin Shaikh🇮🇳</td>\n",
              "      <td>13722</td>\n",
              "      <td>1805</td>\n",
              "      <td>Pune, Maharashtra</td>\n",
              "      <td>False</td>\n",
              "      <td>0</td>\n",
              "      <td>44</td>\n",
              "      <td>2021-07-04 17:44:42</td>\n",
              "      <td>RT Government further scales up India s Vaccin...</td>\n",
              "      <td>Neutral</td>\n",
              "    </tr>\n",
              "    <tr>\n",
              "      <th>2</th>\n",
              "      <td>RT @FaheemYounus: Great News:\\n\\nPfizer, Moder...</td>\n",
              "      <td>Ibn Anjar™</td>\n",
              "      <td>35074</td>\n",
              "      <td>874</td>\n",
              "      <td>ÜT: -6.2130817,107.0288138</td>\n",
              "      <td>False</td>\n",
              "      <td>0</td>\n",
              "      <td>1539</td>\n",
              "      <td>2021-07-04 17:44:26</td>\n",
              "      <td>RT Great News Pfizer Moderna J J and AZ COVID ...</td>\n",
              "      <td>Positive</td>\n",
              "    </tr>\n",
              "    <tr>\n",
              "      <th>3</th>\n",
              "      <td>RT @HardeepSPuri: 🔬 Government further scales ...</td>\n",
              "      <td>VISHWANATH ACHARYA</td>\n",
              "      <td>26857</td>\n",
              "      <td>546</td>\n",
              "      <td>Pune, Maharashtra, India</td>\n",
              "      <td>False</td>\n",
              "      <td>0</td>\n",
              "      <td>44</td>\n",
              "      <td>2021-07-04 17:44:19</td>\n",
              "      <td>RT Government further scales up India s Vaccin...</td>\n",
              "      <td>Neutral</td>\n",
              "    </tr>\n",
              "    <tr>\n",
              "      <th>4</th>\n",
              "      <td>RT @HardeepSPuri: 🔬 Government further scales ...</td>\n",
              "      <td>Astro-कुमकुम 🇮🇳</td>\n",
              "      <td>41656</td>\n",
              "      <td>1218</td>\n",
              "      <td>New Delhi, India</td>\n",
              "      <td>False</td>\n",
              "      <td>0</td>\n",
              "      <td>44</td>\n",
              "      <td>2021-07-04 17:44:07</td>\n",
              "      <td>RT Government further scales up India s Vaccin...</td>\n",
              "      <td>Neutral</td>\n",
              "    </tr>\n",
              "  </tbody>\n",
              "</table>\n",
              "</div>"
            ],
            "text/plain": [
              "                                              Tweets                User User_statuses_count user_followers               User_location User_verified fav_count rt_count           tweet_date                                        clean_tweet Sentiment\n",
              "0  RT @HardeepSPuri: 🔬 Government further scales ...    Beinginformed.in               18915            293           My Country India          False         0       44  2021-07-04 17:46:31  RT Government further scales up India s Vaccin...   Neutral\n",
              "1  RT @HardeepSPuri: 🔬 Government further scales ...     Mohsin Shaikh🇮🇳               13722           1805           Pune, Maharashtra         False         0       44  2021-07-04 17:44:42  RT Government further scales up India s Vaccin...   Neutral\n",
              "2  RT @FaheemYounus: Great News:\\n\\nPfizer, Moder...          Ibn Anjar™               35074            874  ÜT: -6.2130817,107.0288138         False         0     1539  2021-07-04 17:44:26  RT Great News Pfizer Moderna J J and AZ COVID ...  Positive\n",
              "3  RT @HardeepSPuri: 🔬 Government further scales ...  VISHWANATH ACHARYA               26857            546    Pune, Maharashtra, India         False         0       44  2021-07-04 17:44:19  RT Government further scales up India s Vaccin...   Neutral\n",
              "4  RT @HardeepSPuri: 🔬 Government further scales ...     Astro-कुमकुम 🇮🇳               41656           1218            New Delhi, India         False         0       44  2021-07-04 17:44:07  RT Government further scales up India s Vaccin...   Neutral"
            ]
          },
          "metadata": {
            "tags": []
          },
          "execution_count": 21
        }
      ]
    },
    {
      "cell_type": "code",
      "metadata": {
        "id": "Yq3pDQBInZVG",
        "colab": {
          "base_uri": "https://localhost:8080/"
        },
        "outputId": "97811cbb-45a3-4953-f96b-49d7459bd502"
      },
      "source": [
        "n = 20\n",
        "print('Original Tweet:\\n'+df['Tweets'][n])\n",
        "print()\n",
        "print('Clean Tweet:\\n'+df['clean_tweet'][n])\n",
        "print()\n",
        "print(\"Sentiment:\\n\"+df['Sentiment'][n])"
      ],
      "execution_count": 22,
      "outputs": [
        {
          "output_type": "stream",
          "text": [
            "Original Tweet:\n",
            "Indian hospital closed amid FAKE COVID VACCINE scam, as 2,500+ are feared to have been given saline &amp; antibiotics i… https://t.co/vMJlF5TaIM\n",
            "\n",
            "Clean Tweet:\n",
            "Indian hospital closed amid FAKE COVID VACCINE scam as 2 500 are feared to have been given saline amp antibiotics i\n",
            "\n",
            "Sentiment:\n",
            "Negative\n"
          ],
          "name": "stdout"
        }
      ]
    },
    {
      "cell_type": "code",
      "metadata": {
        "id": "65GUywHPnZVH",
        "colab": {
          "base_uri": "https://localhost:8080/"
        },
        "outputId": "700d4182-5f0d-4d0d-c448-527dae557353"
      },
      "source": [
        "n = 202\n",
        "print('Original Tweet:\\n'+df['Tweets'][n])\n",
        "print()\n",
        "print('Clean Tweet:\\n'+df['clean_tweet'][n])\n",
        "print()\n",
        "print(\"Sentiment:\\n\"+df['Sentiment'][n])"
      ],
      "execution_count": 23,
      "outputs": [
        {
          "output_type": "stream",
          "text": [
            "Original Tweet:\n",
            "RT @NewsBytesApp: In a remarkable achievement, COVAXIN, Bharat Biotech's COVID-19 vaccine, is overall 77.8 percent effective, the company s…\n",
            "\n",
            "Clean Tweet:\n",
            "RT In a remarkable achievement COVAXIN Bharat Biotech s COVID 19 vaccine is overall 77 8 percent effective the company s\n",
            "\n",
            "Sentiment:\n",
            "Positive\n"
          ],
          "name": "stdout"
        }
      ]
    },
    {
      "cell_type": "code",
      "metadata": {
        "id": "oJiB98HEnZVH",
        "colab": {
          "base_uri": "https://localhost:8080/"
        },
        "outputId": "0f2172b2-9cc5-459d-d6c9-002358eaa9dd"
      },
      "source": [
        "n = 50\n",
        "print('Original Tweet:\\n'+df['Tweets'][n])\n",
        "print()\n",
        "print('Clean Tweet:\\n'+df['clean_tweet'][n])\n",
        "print()\n",
        "print(\"Sentiment:\\n\"+df['Sentiment'][n])"
      ],
      "execution_count": 24,
      "outputs": [
        {
          "output_type": "stream",
          "text": [
            "Original Tweet:\n",
            "RT @HardeepSPuri: 🔬 Government further scales up India’s Vaccine Development &amp; Manufacturing Ecosystem with support from PM-CARES.\n",
            "\n",
            "🧪 Two m…\n",
            "\n",
            "Clean Tweet:\n",
            "RT Government further scales up India s Vaccine Development amp Manufacturing Ecosystem with support from PM CARES Two m\n",
            "\n",
            "Sentiment:\n",
            "Neutral\n"
          ],
          "name": "stdout"
        }
      ]
    },
    {
      "cell_type": "code",
      "metadata": {
        "colab": {
          "base_uri": "https://localhost:8080/",
          "height": 371
        },
        "id": "KDeUFxrppsJA",
        "outputId": "2cd4c89b-81a0-4451-8a37-85918142b865"
      },
      "source": [
        "df[df.Sentiment=='Positive'].head()"
      ],
      "execution_count": 28,
      "outputs": [
        {
          "output_type": "execute_result",
          "data": {
            "text/html": [
              "<div>\n",
              "<style scoped>\n",
              "    .dataframe tbody tr th:only-of-type {\n",
              "        vertical-align: middle;\n",
              "    }\n",
              "\n",
              "    .dataframe tbody tr th {\n",
              "        vertical-align: top;\n",
              "    }\n",
              "\n",
              "    .dataframe thead th {\n",
              "        text-align: right;\n",
              "    }\n",
              "</style>\n",
              "<table border=\"1\" class=\"dataframe\">\n",
              "  <thead>\n",
              "    <tr style=\"text-align: right;\">\n",
              "      <th></th>\n",
              "      <th>Tweets</th>\n",
              "      <th>User</th>\n",
              "      <th>User_statuses_count</th>\n",
              "      <th>user_followers</th>\n",
              "      <th>User_location</th>\n",
              "      <th>User_verified</th>\n",
              "      <th>fav_count</th>\n",
              "      <th>rt_count</th>\n",
              "      <th>tweet_date</th>\n",
              "      <th>clean_tweet</th>\n",
              "      <th>Sentiment</th>\n",
              "    </tr>\n",
              "  </thead>\n",
              "  <tbody>\n",
              "    <tr>\n",
              "      <th>2</th>\n",
              "      <td>RT @FaheemYounus: Great News:\\n\\nPfizer, Moder...</td>\n",
              "      <td>Ibn Anjar™</td>\n",
              "      <td>35074</td>\n",
              "      <td>874</td>\n",
              "      <td>ÜT: -6.2130817,107.0288138</td>\n",
              "      <td>False</td>\n",
              "      <td>0</td>\n",
              "      <td>1539</td>\n",
              "      <td>2021-07-04 17:44:26</td>\n",
              "      <td>RT Great News Pfizer Moderna J J and AZ COVID ...</td>\n",
              "      <td>Positive</td>\n",
              "    </tr>\n",
              "    <tr>\n",
              "      <th>7</th>\n",
              "      <td>RT @FaheemYounus: Great News:\\n\\nPfizer, Moder...</td>\n",
              "      <td>AZ's 🇲🇾🌺</td>\n",
              "      <td>3998</td>\n",
              "      <td>20</td>\n",
              "      <td></td>\n",
              "      <td>False</td>\n",
              "      <td>0</td>\n",
              "      <td>1539</td>\n",
              "      <td>2021-07-04 17:42:17</td>\n",
              "      <td>RT Great News Pfizer Moderna J J and AZ COVID ...</td>\n",
              "      <td>Positive</td>\n",
              "    </tr>\n",
              "    <tr>\n",
              "      <th>10</th>\n",
              "      <td>RT @PriyankKharge: India wasted valuable info ...</td>\n",
              "      <td>IRU PATIL ZALKI</td>\n",
              "      <td>12103</td>\n",
              "      <td>920</td>\n",
              "      <td>GULBARGA</td>\n",
              "      <td>False</td>\n",
              "      <td>0</td>\n",
              "      <td>19</td>\n",
              "      <td>2021-07-04 17:41:19</td>\n",
              "      <td>RT India wasted valuable info on 300 million C...</td>\n",
              "      <td>Positive</td>\n",
              "    </tr>\n",
              "    <tr>\n",
              "      <th>14</th>\n",
              "      <td>RT @c400_t: India: post vaccination death #262...</td>\n",
              "      <td>Droh Shankar</td>\n",
              "      <td>7778</td>\n",
              "      <td>202</td>\n",
              "      <td></td>\n",
              "      <td>False</td>\n",
              "      <td>0</td>\n",
              "      <td>7</td>\n",
              "      <td>2021-07-04 17:40:02</td>\n",
              "      <td>RT t India post vaccination death 2626 Bihar M...</td>\n",
              "      <td>Positive</td>\n",
              "    </tr>\n",
              "    <tr>\n",
              "      <th>17</th>\n",
              "      <td>RT @AmitShah: Incredible!\\n\\nAnother feather i...</td>\n",
              "      <td>भूपेन्द्र पान्डेय</td>\n",
              "      <td>3509</td>\n",
              "      <td>493</td>\n",
              "      <td>प्रयागराज</td>\n",
              "      <td>False</td>\n",
              "      <td>0</td>\n",
              "      <td>5546</td>\n",
              "      <td>2021-07-04 17:38:00</td>\n",
              "      <td>RT Incredible Another feather in the cap of In...</td>\n",
              "      <td>Positive</td>\n",
              "    </tr>\n",
              "  </tbody>\n",
              "</table>\n",
              "</div>"
            ],
            "text/plain": [
              "                                               Tweets               User User_statuses_count user_followers               User_location User_verified fav_count rt_count           tweet_date                                        clean_tweet Sentiment\n",
              "2   RT @FaheemYounus: Great News:\\n\\nPfizer, Moder...         Ibn Anjar™               35074            874  ÜT: -6.2130817,107.0288138         False         0     1539  2021-07-04 17:44:26  RT Great News Pfizer Moderna J J and AZ COVID ...  Positive\n",
              "7   RT @FaheemYounus: Great News:\\n\\nPfizer, Moder...           AZ's 🇲🇾🌺                3998             20                                     False         0     1539  2021-07-04 17:42:17  RT Great News Pfizer Moderna J J and AZ COVID ...  Positive\n",
              "10  RT @PriyankKharge: India wasted valuable info ...    IRU PATIL ZALKI               12103            920                    GULBARGA         False         0       19  2021-07-04 17:41:19  RT India wasted valuable info on 300 million C...  Positive\n",
              "14  RT @c400_t: India: post vaccination death #262...       Droh Shankar                7778            202                                     False         0        7  2021-07-04 17:40:02  RT t India post vaccination death 2626 Bihar M...  Positive\n",
              "17  RT @AmitShah: Incredible!\\n\\nAnother feather i...  भूपेन्द्र पान्डेय                3509            493                  प्रयागराज          False         0     5546  2021-07-04 17:38:00  RT Incredible Another feather in the cap of In...  Positive"
            ]
          },
          "metadata": {
            "tags": []
          },
          "execution_count": 28
        }
      ]
    },
    {
      "cell_type": "code",
      "metadata": {
        "id": "QtXURiMvnZVH",
        "colab": {
          "base_uri": "https://localhost:8080/"
        },
        "outputId": "00a2544d-ddfe-4b91-c920-a6b9bf57498a"
      },
      "source": [
        "df[df.Sentiment=='Positive'].shape[0]"
      ],
      "execution_count": 25,
      "outputs": [
        {
          "output_type": "execute_result",
          "data": {
            "text/plain": [
              "362"
            ]
          },
          "metadata": {
            "tags": []
          },
          "execution_count": 25
        }
      ]
    },
    {
      "cell_type": "code",
      "metadata": {
        "colab": {
          "base_uri": "https://localhost:8080/",
          "height": 371
        },
        "id": "8o65Z1RkpyJo",
        "outputId": "541cb7cd-58ed-4db2-9b08-2f7fb429ba83"
      },
      "source": [
        "df[df.Sentiment=='Neutral'].head()"
      ],
      "execution_count": 29,
      "outputs": [
        {
          "output_type": "execute_result",
          "data": {
            "text/html": [
              "<div>\n",
              "<style scoped>\n",
              "    .dataframe tbody tr th:only-of-type {\n",
              "        vertical-align: middle;\n",
              "    }\n",
              "\n",
              "    .dataframe tbody tr th {\n",
              "        vertical-align: top;\n",
              "    }\n",
              "\n",
              "    .dataframe thead th {\n",
              "        text-align: right;\n",
              "    }\n",
              "</style>\n",
              "<table border=\"1\" class=\"dataframe\">\n",
              "  <thead>\n",
              "    <tr style=\"text-align: right;\">\n",
              "      <th></th>\n",
              "      <th>Tweets</th>\n",
              "      <th>User</th>\n",
              "      <th>User_statuses_count</th>\n",
              "      <th>user_followers</th>\n",
              "      <th>User_location</th>\n",
              "      <th>User_verified</th>\n",
              "      <th>fav_count</th>\n",
              "      <th>rt_count</th>\n",
              "      <th>tweet_date</th>\n",
              "      <th>clean_tweet</th>\n",
              "      <th>Sentiment</th>\n",
              "    </tr>\n",
              "  </thead>\n",
              "  <tbody>\n",
              "    <tr>\n",
              "      <th>0</th>\n",
              "      <td>RT @HardeepSPuri: 🔬 Government further scales ...</td>\n",
              "      <td>Beinginformed.in</td>\n",
              "      <td>18915</td>\n",
              "      <td>293</td>\n",
              "      <td>My Country India</td>\n",
              "      <td>False</td>\n",
              "      <td>0</td>\n",
              "      <td>44</td>\n",
              "      <td>2021-07-04 17:46:31</td>\n",
              "      <td>RT Government further scales up India s Vaccin...</td>\n",
              "      <td>Neutral</td>\n",
              "    </tr>\n",
              "    <tr>\n",
              "      <th>1</th>\n",
              "      <td>RT @HardeepSPuri: 🔬 Government further scales ...</td>\n",
              "      <td>Mohsin Shaikh🇮🇳</td>\n",
              "      <td>13722</td>\n",
              "      <td>1805</td>\n",
              "      <td>Pune, Maharashtra</td>\n",
              "      <td>False</td>\n",
              "      <td>0</td>\n",
              "      <td>44</td>\n",
              "      <td>2021-07-04 17:44:42</td>\n",
              "      <td>RT Government further scales up India s Vaccin...</td>\n",
              "      <td>Neutral</td>\n",
              "    </tr>\n",
              "    <tr>\n",
              "      <th>3</th>\n",
              "      <td>RT @HardeepSPuri: 🔬 Government further scales ...</td>\n",
              "      <td>VISHWANATH ACHARYA</td>\n",
              "      <td>26857</td>\n",
              "      <td>546</td>\n",
              "      <td>Pune, Maharashtra, India</td>\n",
              "      <td>False</td>\n",
              "      <td>0</td>\n",
              "      <td>44</td>\n",
              "      <td>2021-07-04 17:44:19</td>\n",
              "      <td>RT Government further scales up India s Vaccin...</td>\n",
              "      <td>Neutral</td>\n",
              "    </tr>\n",
              "    <tr>\n",
              "      <th>4</th>\n",
              "      <td>RT @HardeepSPuri: 🔬 Government further scales ...</td>\n",
              "      <td>Astro-कुमकुम 🇮🇳</td>\n",
              "      <td>41656</td>\n",
              "      <td>1218</td>\n",
              "      <td>New Delhi, India</td>\n",
              "      <td>False</td>\n",
              "      <td>0</td>\n",
              "      <td>44</td>\n",
              "      <td>2021-07-04 17:44:07</td>\n",
              "      <td>RT Government further scales up India s Vaccin...</td>\n",
              "      <td>Neutral</td>\n",
              "    </tr>\n",
              "    <tr>\n",
              "      <th>5</th>\n",
              "      <td>RT @amarprasadreddy: India administered over 3...</td>\n",
              "      <td>Santosh Dixit</td>\n",
              "      <td>20</td>\n",
              "      <td>0</td>\n",
              "      <td></td>\n",
              "      <td>False</td>\n",
              "      <td>0</td>\n",
              "      <td>77</td>\n",
              "      <td>2021-07-04 17:44:03</td>\n",
              "      <td>RT India administered over 350 million COVID 1...</td>\n",
              "      <td>Neutral</td>\n",
              "    </tr>\n",
              "  </tbody>\n",
              "</table>\n",
              "</div>"
            ],
            "text/plain": [
              "                                              Tweets                User User_statuses_count user_followers             User_location User_verified fav_count rt_count           tweet_date                                        clean_tweet Sentiment\n",
              "0  RT @HardeepSPuri: 🔬 Government further scales ...    Beinginformed.in               18915            293         My Country India          False         0       44  2021-07-04 17:46:31  RT Government further scales up India s Vaccin...   Neutral\n",
              "1  RT @HardeepSPuri: 🔬 Government further scales ...     Mohsin Shaikh🇮🇳               13722           1805         Pune, Maharashtra         False         0       44  2021-07-04 17:44:42  RT Government further scales up India s Vaccin...   Neutral\n",
              "3  RT @HardeepSPuri: 🔬 Government further scales ...  VISHWANATH ACHARYA               26857            546  Pune, Maharashtra, India         False         0       44  2021-07-04 17:44:19  RT Government further scales up India s Vaccin...   Neutral\n",
              "4  RT @HardeepSPuri: 🔬 Government further scales ...     Astro-कुमकुम 🇮🇳               41656           1218          New Delhi, India         False         0       44  2021-07-04 17:44:07  RT Government further scales up India s Vaccin...   Neutral\n",
              "5  RT @amarprasadreddy: India administered over 3...       Santosh Dixit                  20              0                                   False         0       77  2021-07-04 17:44:03  RT India administered over 350 million COVID 1...   Neutral"
            ]
          },
          "metadata": {
            "tags": []
          },
          "execution_count": 29
        }
      ]
    },
    {
      "cell_type": "code",
      "metadata": {
        "id": "qJEgeaq7nZVH",
        "colab": {
          "base_uri": "https://localhost:8080/"
        },
        "outputId": "12f01e2d-15e9-44dd-a6b0-f821814cb2e4"
      },
      "source": [
        "df[df.Sentiment=='Neutral'].shape[0]"
      ],
      "execution_count": 26,
      "outputs": [
        {
          "output_type": "execute_result",
          "data": {
            "text/plain": [
              "495"
            ]
          },
          "metadata": {
            "tags": []
          },
          "execution_count": 26
        }
      ]
    },
    {
      "cell_type": "code",
      "metadata": {
        "colab": {
          "base_uri": "https://localhost:8080/",
          "height": 287
        },
        "id": "p6nrK5Obp6Vh",
        "outputId": "5aedd97f-8936-4300-fb46-26419c934446"
      },
      "source": [
        "df[df.Sentiment=='Negative'].head()"
      ],
      "execution_count": 30,
      "outputs": [
        {
          "output_type": "execute_result",
          "data": {
            "text/html": [
              "<div>\n",
              "<style scoped>\n",
              "    .dataframe tbody tr th:only-of-type {\n",
              "        vertical-align: middle;\n",
              "    }\n",
              "\n",
              "    .dataframe tbody tr th {\n",
              "        vertical-align: top;\n",
              "    }\n",
              "\n",
              "    .dataframe thead th {\n",
              "        text-align: right;\n",
              "    }\n",
              "</style>\n",
              "<table border=\"1\" class=\"dataframe\">\n",
              "  <thead>\n",
              "    <tr style=\"text-align: right;\">\n",
              "      <th></th>\n",
              "      <th>Tweets</th>\n",
              "      <th>User</th>\n",
              "      <th>User_statuses_count</th>\n",
              "      <th>user_followers</th>\n",
              "      <th>User_location</th>\n",
              "      <th>User_verified</th>\n",
              "      <th>fav_count</th>\n",
              "      <th>rt_count</th>\n",
              "      <th>tweet_date</th>\n",
              "      <th>clean_tweet</th>\n",
              "      <th>Sentiment</th>\n",
              "    </tr>\n",
              "  </thead>\n",
              "  <tbody>\n",
              "    <tr>\n",
              "      <th>12</th>\n",
              "      <td>@Prayagwale Why did the US refused to provide ...</td>\n",
              "      <td>Qurat ul Ain Ismail</td>\n",
              "      <td>4926</td>\n",
              "      <td>378</td>\n",
              "      <td></td>\n",
              "      <td>False</td>\n",
              "      <td>0</td>\n",
              "      <td>0</td>\n",
              "      <td>2021-07-04 17:40:47</td>\n",
              "      <td>Why did the US refused to provide raw material...</td>\n",
              "      <td>Negative</td>\n",
              "    </tr>\n",
              "    <tr>\n",
              "      <th>20</th>\n",
              "      <td>Indian hospital closed amid FAKE COVID VACCINE...</td>\n",
              "      <td>Philip John Edwards</td>\n",
              "      <td>6859</td>\n",
              "      <td>357</td>\n",
              "      <td>Cambridge UK</td>\n",
              "      <td>False</td>\n",
              "      <td>0</td>\n",
              "      <td>0</td>\n",
              "      <td>2021-07-04 17:35:36</td>\n",
              "      <td>Indian hospital closed amid FAKE COVID VACCINE...</td>\n",
              "      <td>Negative</td>\n",
              "    </tr>\n",
              "    <tr>\n",
              "      <th>22</th>\n",
              "      <td>RT @Indian10000000: ++ While affidavit says, 1...</td>\n",
              "      <td>NITYA NAND MISHRA</td>\n",
              "      <td>39436</td>\n",
              "      <td>127</td>\n",
              "      <td>New Delhi, India</td>\n",
              "      <td>False</td>\n",
              "      <td>0</td>\n",
              "      <td>42</td>\n",
              "      <td>2021-07-04 17:34:20</td>\n",
              "      <td>RT While affidavit says 16cr doses on 5 May Cl...</td>\n",
              "      <td>Negative</td>\n",
              "    </tr>\n",
              "    <tr>\n",
              "      <th>44</th>\n",
              "      <td>RT @Indian10000000: ++ While affidavit says, 1...</td>\n",
              "      <td>Parry Singh</td>\n",
              "      <td>14374</td>\n",
              "      <td>82</td>\n",
              "      <td>Heart</td>\n",
              "      <td>False</td>\n",
              "      <td>0</td>\n",
              "      <td>42</td>\n",
              "      <td>2021-07-04 17:22:12</td>\n",
              "      <td>RT While affidavit says 16cr doses on 5 May Cl...</td>\n",
              "      <td>Negative</td>\n",
              "    </tr>\n",
              "    <tr>\n",
              "      <th>66</th>\n",
              "      <td>Indian hospital closed amid FAKE COVID VACCINE...</td>\n",
              "      <td>Captain_N</td>\n",
              "      <td>37789</td>\n",
              "      <td>1302</td>\n",
              "      <td>Pacific</td>\n",
              "      <td>False</td>\n",
              "      <td>0</td>\n",
              "      <td>0</td>\n",
              "      <td>2021-07-04 17:14:19</td>\n",
              "      <td>Indian hospital closed amid FAKE COVID VACCINE...</td>\n",
              "      <td>Negative</td>\n",
              "    </tr>\n",
              "  </tbody>\n",
              "</table>\n",
              "</div>"
            ],
            "text/plain": [
              "                                               Tweets                 User User_statuses_count user_followers     User_location User_verified fav_count rt_count           tweet_date                                        clean_tweet Sentiment\n",
              "12  @Prayagwale Why did the US refused to provide ...  Qurat ul Ain Ismail                4926            378                           False         0        0  2021-07-04 17:40:47  Why did the US refused to provide raw material...  Negative\n",
              "20  Indian hospital closed amid FAKE COVID VACCINE...  Philip John Edwards                6859            357      Cambridge UK         False         0        0  2021-07-04 17:35:36  Indian hospital closed amid FAKE COVID VACCINE...  Negative\n",
              "22  RT @Indian10000000: ++ While affidavit says, 1...    NITYA NAND MISHRA               39436            127  New Delhi, India         False         0       42  2021-07-04 17:34:20  RT While affidavit says 16cr doses on 5 May Cl...  Negative\n",
              "44  RT @Indian10000000: ++ While affidavit says, 1...          Parry Singh               14374             82             Heart         False         0       42  2021-07-04 17:22:12  RT While affidavit says 16cr doses on 5 May Cl...  Negative\n",
              "66  Indian hospital closed amid FAKE COVID VACCINE...            Captain_N               37789           1302          Pacific          False         0        0  2021-07-04 17:14:19  Indian hospital closed amid FAKE COVID VACCINE...  Negative"
            ]
          },
          "metadata": {
            "tags": []
          },
          "execution_count": 30
        }
      ]
    },
    {
      "cell_type": "code",
      "metadata": {
        "id": "epwiHcTtnZVI",
        "colab": {
          "base_uri": "https://localhost:8080/"
        },
        "outputId": "bf7839f1-7acc-478d-f925-60c142b8c8ee"
      },
      "source": [
        "df[df.Sentiment=='Negative'].shape[0]"
      ],
      "execution_count": 27,
      "outputs": [
        {
          "output_type": "execute_result",
          "data": {
            "text/plain": [
              "143"
            ]
          },
          "metadata": {
            "tags": []
          },
          "execution_count": 27
        }
      ]
    },
    {
      "cell_type": "raw",
      "metadata": {
        "id": "J0VuSZOVnZVI"
      },
      "source": [
        "data= \"US election Joe Biden\"\n",
        "Positive = 476\n",
        "Neutral = 400\n",
        "Negative = 124\n",
        "\n",
        "data= \"covid vaccine india\"\n",
        "Positive = 468\n",
        "Neutral = 460\n",
        "Negative = 72\n",
        "\n",
        "data= \"Chelsea sack Frank Lampard\"\n",
        "Positive = 366\n",
        "Neutral = 572\n",
        "Negative = 62\n",
        "\n",
        "data= \"Arnab Goswami’s leaked WhatsApp chats\"\n",
        "Positive = 246\n",
        "Neutral = 346\n",
        "Negative = 354"
      ]
    }
  ]
}