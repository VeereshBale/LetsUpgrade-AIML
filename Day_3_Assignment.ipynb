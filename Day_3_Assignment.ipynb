{
  "nbformat": 4,
  "nbformat_minor": 0,
  "metadata": {
    "colab": {
      "name": "Day-3 Assignment.ipynb",
      "provenance": []
    },
    "kernelspec": {
      "name": "python3",
      "display_name": "Python 3"
    }
  },
  "cells": [
    {
      "cell_type": "markdown",
      "metadata": {
        "id": "rns_BX07qpPO",
        "colab_type": "text"
      },
      "source": [
        "<h1><b>Question 1</b><h1>"
      ]
    },
    {
      "cell_type": "code",
      "metadata": {
        "id": "UXakuhEBpMcu",
        "colab_type": "code",
        "colab": {
          "base_uri": "https://localhost:8080/",
          "height": 34
        },
        "outputId": "51b1b00d-0a8c-4572-9c82-43693fadfe9e"
      },
      "source": [
        "def diff_comp(a,b):\n",
        "  return a-b\n",
        "print(diff_comp(1-3j,2-6j))"
      ],
      "execution_count": 3,
      "outputs": [
        {
          "output_type": "execute_result",
          "data": {
            "text/plain": [
              "(-1+3j)"
            ]
          },
          "metadata": {
            "tags": []
          },
          "execution_count": 3
        }
      ]
    },
    {
      "cell_type": "markdown",
      "metadata": {
        "id": "egNPOzEnsQ9T",
        "colab_type": "text"
      },
      "source": [
        "<h1><b>Question 2</b><h1>"
      ]
    },
    {
      "cell_type": "code",
      "metadata": {
        "id": "Dw1lU5qhqaSi",
        "colab_type": "code",
        "colab": {
          "base_uri": "https://localhost:8080/",
          "height": 34
        },
        "outputId": "470e02a2-5d49-49df-e87b-cea4159d2f9b"
      },
      "source": [
        "def fourthroot(b):\n",
        "  return b**0.25\n",
        "print(fourthroot(16))  \n"
      ],
      "execution_count": 5,
      "outputs": [
        {
          "output_type": "execute_result",
          "data": {
            "text/plain": [
              "2.0"
            ]
          },
          "metadata": {
            "tags": []
          },
          "execution_count": 5
        }
      ]
    },
    {
      "cell_type": "markdown",
      "metadata": {
        "id": "hq2ephG0wZ-V",
        "colab_type": "text"
      },
      "source": [
        "<h1><b>Question 3</b><h1>"
      ]
    },
    {
      "cell_type": "code",
      "metadata": {
        "id": "OXh3Ijm5wsIl",
        "colab_type": "code",
        "colab": {
          "base_uri": "https://localhost:8080/",
          "height": 34
        },
        "outputId": "c74b376e-8ba4-4315-8862-5b88bbdae882"
      },
      "source": [
        "def swapwitht(a,b):\n",
        "  t=0\n",
        "  t=a\n",
        "  a=b\n",
        "  b=t\n",
        "  return a,b\n",
        "print(swapwitht(1,2))   "
      ],
      "execution_count": 9,
      "outputs": [
        {
          "output_type": "stream",
          "text": [
            "(2, 1)\n"
          ],
          "name": "stdout"
        }
      ]
    },
    {
      "cell_type": "markdown",
      "metadata": {
        "id": "ttJ93pmJwenQ",
        "colab_type": "text"
      },
      "source": [
        "<h1><b>Question 4</b><h1>"
      ]
    },
    {
      "cell_type": "code",
      "metadata": {
        "id": "nMHGwVETsn4I",
        "colab_type": "code",
        "colab": {
          "base_uri": "https://localhost:8080/",
          "height": 34
        },
        "outputId": "5394df24-577d-43a7-f0f7-a183ad644e0d"
      },
      "source": [
        "def swap(a,b):\n",
        "  a=a+b\n",
        "  b=a-b\n",
        "  a=a-b\n",
        "  return a,b\n",
        "print(swap(1,2)) "
      ],
      "execution_count": 10,
      "outputs": [
        {
          "output_type": "stream",
          "text": [
            "(2, 1)\n"
          ],
          "name": "stdout"
        }
      ]
    },
    {
      "cell_type": "markdown",
      "metadata": {
        "id": "FbxA-GorxXb6",
        "colab_type": "text"
      },
      "source": [
        "<h1><b>Question 5</b><h1>"
      ]
    },
    {
      "cell_type": "code",
      "metadata": {
        "id": "LHP2mclQwXK8",
        "colab_type": "code",
        "colab": {
          "base_uri": "https://localhost:8080/",
          "height": 34
        },
        "outputId": "479c5728-e8e8-442f-b887-a32ec7a06092"
      },
      "source": [
        "def FTOC(a):\n",
        "  c=(a-32)*(5/9)\n",
        "  return c\n",
        "print(FTOC(34))"
      ],
      "execution_count": 11,
      "outputs": [
        {
          "output_type": "stream",
          "text": [
            "1.1111111111111112\n"
          ],
          "name": "stdout"
        }
      ]
    },
    {
      "cell_type": "markdown",
      "metadata": {
        "id": "O1EXPk6SyGga",
        "colab_type": "text"
      },
      "source": [
        "<h1><b>Question 6</b><h1>"
      ]
    },
    {
      "cell_type": "code",
      "metadata": {
        "id": "x50-2XgoyBim",
        "colab_type": "code",
        "colab": {
          "base_uri": "https://localhost:8080/",
          "height": 101
        },
        "outputId": "8e0bc807-52ca-48c4-b3d3-4a9832c48f82"
      },
      "source": [
        "a=1\n",
        "print(type(a))\n",
        "b=2.0\n",
        "print(type(b))\n",
        "c=2+3j\n",
        "print(type(c))\n",
        "d='hello'\n",
        "print(type(d))\n",
        "t=True\n",
        "print(type(t))\n"
      ],
      "execution_count": 12,
      "outputs": [
        {
          "output_type": "stream",
          "text": [
            "<class 'int'>\n",
            "<class 'float'>\n",
            "<class 'complex'>\n",
            "<class 'str'>\n",
            "<class 'bool'>\n"
          ],
          "name": "stdout"
        }
      ]
    },
    {
      "cell_type": "markdown",
      "metadata": {
        "id": "ny8lsRzLyPJP",
        "colab_type": "text"
      },
      "source": [
        "<h1><b>Question 7</b><h1>\n",
        "\n",
        "## 1. Google Github\n",
        "## 2. Click on join\n",
        "## 3. Provide the required details\n",
        "## 4. Set up ur account\n",
        "## 5.Click on repositories New\n",
        "## 6. Create A public repo with name LetsUpgrade/AIML\n",
        "##7. Add the jupyter note book \n",
        "## 8.Copy the URL of the Folder of that day and paste in the Assignment Submission Form\n"
      ]
    },
    {
      "cell_type": "code",
      "metadata": {
        "id": "BPYCx31B0FCe",
        "colab_type": "code",
        "colab": {}
      },
      "source": [
        ""
      ],
      "execution_count": null,
      "outputs": []
    }
  ]
}