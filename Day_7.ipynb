{
 "cells": [
  {
   "cell_type": "code",
   "execution_count": 9,
   "metadata": {},
   "outputs": [
    {
     "name": "stdout",
     "output_type": "stream",
     "text": [
      "enter file name in the foldercontrols.txt\n",
      "copied successfully :)\n"
     ]
    }
   ],
   "source": [
    "def copying():\n",
    "    file=open(f,'r')\n",
    "    fcpy=open('copy.txt','w')\n",
    "    for i in file:\n",
    "        fcpy.write(i)\n",
    "    file.close()\n",
    "    fcpy.close()\n",
    "f=input('enter file name in the folder')\n",
    "copying()\n",
    "print('copied successfully :)')\n",
    "    \n",
    "        "
   ]
  },
  {
   "cell_type": "code",
   "execution_count": 7,
   "metadata": {},
   "outputs": [
    {
     "name": "stdout",
     "output_type": "stream",
     "text": [
      "88\n",
      "1\n"
     ]
    }
   ],
   "source": [
    "d={1:1,4:3,5:88,6:5,7:9,12:54,25:1}\n",
    "maxi=list(d.values())[0]\n",
    "mini=list(d.values())[0]\n",
    "for i in d.values():\n",
    "    if i>maxi:\n",
    "        maxi=i\n",
    "    elif i<mini:\n",
    "        mini=i\n",
    "print(maxi)\n",
    "print(mini)\n"
   ]
  },
  {
   "cell_type": "code",
   "execution_count": null,
   "metadata": {},
   "outputs": [],
   "source": []
  }
 ],
 "metadata": {
  "kernelspec": {
   "display_name": "Python 3",
   "language": "python",
   "name": "python3"
  },
  "language_info": {
   "codemirror_mode": {
    "name": "ipython",
    "version": 3
   },
   "file_extension": ".py",
   "mimetype": "text/x-python",
   "name": "python",
   "nbconvert_exporter": "python",
   "pygments_lexer": "ipython3",
   "version": "3.8.3"
  }
 },
 "nbformat": 4,
 "nbformat_minor": 4
}
