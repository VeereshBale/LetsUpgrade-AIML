{
  "nbformat": 4,
  "nbformat_minor": 0,
  "metadata": {
    "colab": {
      "name": "Day-4 assignment.ipynb",
      "provenance": []
    },
    "kernelspec": {
      "name": "python3",
      "display_name": "Python 3"
    }
  },
  "cells": [
    {
      "cell_type": "markdown",
      "metadata": {
        "id": "n253JbQKWZ64",
        "colab_type": "text"
      },
      "source": [
        "<h1><b>Question 1</b></h1>"
      ]
    },
    {
      "cell_type": "code",
      "metadata": {
        "id": "mH_P1SXUWJMm",
        "colab_type": "code",
        "colab": {
          "base_uri": "https://localhost:8080/",
          "height": 101
        },
        "outputId": "4ae8256d-b873-419c-e739-da62811d33b0"
      },
      "source": [
        "a=1+2j\n",
        "b=3+6j\n",
        "print('Addition:',a+b)\n",
        "print('subtraction',a-b)\n",
        "print('multiplication',a*b)\n",
        "print('division',a/b)\n",
        "print('modulo is not possible')"
      ],
      "execution_count": 4,
      "outputs": [
        {
          "output_type": "stream",
          "text": [
            "Addition: (4+8j)\n",
            "subtraction (-2-4j)\n",
            "multiplication (-9+12j)\n",
            "division (0.3333333333333333+0j)\n",
            "modulo is not possible\n"
          ],
          "name": "stdout"
        }
      ]
    },
    {
      "cell_type": "markdown",
      "metadata": {
        "id": "A2rsTpQwXXGY",
        "colab_type": "text"
      },
      "source": [
        "<h1><b>Question 2</b></h1>\n",
        "\n",
        "##1.range() is a built in function in python which generates a sequence of numbers.\n",
        "##2.If a single number is given as parameter it generates sequence of numbers satrting from zero until the given number excluding the given number\n",
        "##3.If two numbers are given as parameters it is gonna generate numbers starting from the first number given until the second number excluding the second number\n",
        "##4. If three parameter4s are given it is gonna generate numbers between the first two parameters excluding the second parameter by incrementing by third parameter"
      ]
    },
    {
      "cell_type": "markdown",
      "metadata": {
        "id": "KBT7BvcSeMAp",
        "colab_type": "text"
      },
      "source": [
        "<h1><b>Question 3</b></h1>\n"
      ]
    },
    {
      "cell_type": "code",
      "metadata": {
        "id": "HBW9Mw7kW9ab",
        "colab_type": "code",
        "colab": {
          "base_uri": "https://localhost:8080/",
          "height": 34
        },
        "outputId": "4f70d23f-9294-4d29-f1db-904711d107bc"
      },
      "source": [
        "a=23\n",
        "b=45\n",
        "if a-b>25:\n",
        "  print(a*b)\n",
        "else:\n",
        "  if(b==0):\n",
        "    print('division by is not possible')\n",
        "  else:\n",
        "    print(a/b)"
      ],
      "execution_count": 6,
      "outputs": [
        {
          "output_type": "stream",
          "text": [
            "0.5111111111111111\n"
          ],
          "name": "stdout"
        }
      ]
    },
    {
      "cell_type": "markdown",
      "metadata": {
        "id": "RN4TAfpZeUab",
        "colab_type": "text"
      },
      "source": [
        "<h1><b>Question 4</b></h1>\n"
      ]
    },
    {
      "cell_type": "code",
      "metadata": {
        "id": "rBSARtUAXWNJ",
        "colab_type": "code",
        "colab": {
          "base_uri": "https://localhost:8080/",
          "height": 101
        },
        "outputId": "07e306b8-9856-4e21-d1d1-e6ce9c9cda9f"
      },
      "source": [
        "l=[1,2,3,4,5,6,7,8,9,10]\n",
        "for i in l:\n",
        "  if i%2 ==0:\n",
        "    print(i*i-2)"
      ],
      "execution_count": 8,
      "outputs": [
        {
          "output_type": "stream",
          "text": [
            "2\n",
            "14\n",
            "34\n",
            "62\n",
            "98\n"
          ],
          "name": "stdout"
        }
      ]
    },
    {
      "cell_type": "markdown",
      "metadata": {
        "id": "FBbLcgHzeWrW",
        "colab_type": "text"
      },
      "source": [
        "<h1><b>Question 5</b></h1>\n"
      ]
    },
    {
      "cell_type": "code",
      "metadata": {
        "id": "l2n9mR54ayv0",
        "colab_type": "code",
        "colab": {
          "base_uri": "https://localhost:8080/",
          "height": 67
        },
        "outputId": "23a31055-9143-424d-e901-42332ce6db43"
      },
      "source": [
        "li=[6,5,7,98,12,56,77,93,13,15]\n",
        "for i in li:\n",
        "  if i%2==0 and i>7:\n",
        "    print(i)\n"
      ],
      "execution_count": 9,
      "outputs": [
        {
          "output_type": "stream",
          "text": [
            "98\n",
            "12\n",
            "56\n"
          ],
          "name": "stdout"
        }
      ]
    },
    {
      "cell_type": "code",
      "metadata": {
        "id": "9d4_Bn7ybQ8g",
        "colab_type": "code",
        "colab": {}
      },
      "source": [
        ""
      ],
      "execution_count": null,
      "outputs": []
    }
  ]
}