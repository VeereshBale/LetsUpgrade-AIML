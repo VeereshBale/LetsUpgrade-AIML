{
  "nbformat": 4,
  "nbformat_minor": 0,
  "metadata": {
    "colab": {
      "name": "Day_8.ipynb",
      "provenance": []
    },
    "kernelspec": {
      "name": "python3",
      "display_name": "Python 3"
    }
  },
  "cells": [
    {
      "cell_type": "code",
      "metadata": {
        "id": "oEd_ysnq_l3Z",
        "colab_type": "code",
        "colab": {
          "base_uri": "https://localhost:8080/",
          "height": 67
        },
        "outputId": "3b42301a-4030-4725-cf70-2504c495a094"
      },
      "source": [
        "def sqr(a):\n",
        "    return a**a\n",
        "x = map(sqr,[1,2,3,4,5])\n",
        "print(x)\n",
        "print(type(x))\n",
        "print(list(x))"
      ],
      "execution_count": 3,
      "outputs": [
        {
          "output_type": "stream",
          "text": [
            "<map object at 0x7ff49b207e10>\n",
            "<class 'map'>\n",
            "[1, 4, 27, 256, 3125]\n"
          ],
          "name": "stdout"
        }
      ]
    },
    {
      "cell_type": "code",
      "metadata": {
        "id": "iMzOTZn-_4cP",
        "colab_type": "code",
        "colab": {
          "base_uri": "https://localhost:8080/",
          "height": 34
        },
        "outputId": "99059e26-b14f-4231-c7a0-6b5855e42bb3"
      },
      "source": [
        "def sqr(a,b):\n",
        "    return a-b\n",
        "# your code goes here3\n",
        "x = map(sqr, [1,2,3,4], [2,2,2,2] )\n",
        "print(list(x))"
      ],
      "execution_count": 5,
      "outputs": [
        {
          "output_type": "stream",
          "text": [
            "[-1, 0, 1, 2]\n"
          ],
          "name": "stdout"
        }
      ]
    },
    {
      "cell_type": "code",
      "metadata": {
        "id": "hyCnxZAZ_6Ei",
        "colab_type": "code",
        "colab": {
          "base_uri": "https://localhost:8080/",
          "height": 34
        },
        "outputId": "aec0c13e-f0a4-4e8f-8af2-cd8e5ceba16b"
      },
      "source": [
        "def sqr(a,b):\n",
        "    return a**-b\n",
        "# your code goes here3\n",
        "print(list(map(sqr, [1,2,3,4], [2,2,2,2] )))"
      ],
      "execution_count": 7,
      "outputs": [
        {
          "output_type": "stream",
          "text": [
            "[1.0, 0.25, 0.1111111111111111, 0.0625]\n"
          ],
          "name": "stdout"
        }
      ]
    },
    {
      "cell_type": "code",
      "metadata": {
        "id": "gOy0nC5W_6JX",
        "colab_type": "code",
        "colab": {
          "base_uri": "https://localhost:8080/",
          "height": 34
        },
        "outputId": "46784854-b38f-432e-f623-a7ec394021ea"
      },
      "source": [
        "def sqr(a,b):\n",
        "    return a*b\n",
        "# your code goes here3\n",
        "print(list(map(sqr, [ i for i in range(5)], (2,2,2,2,2) )))"
      ],
      "execution_count": 9,
      "outputs": [
        {
          "output_type": "stream",
          "text": [
            "[0, 2, 4, 6, 8]\n"
          ],
          "name": "stdout"
        }
      ]
    },
    {
      "cell_type": "code",
      "metadata": {
        "id": "ArSEvYwy_6Nn",
        "colab_type": "code",
        "colab": {
          "base_uri": "https://localhost:8080/",
          "height": 34
        },
        "outputId": "f5111e6f-4cd3-4f71-a8ed-3392fc573e6f"
      },
      "source": [
        "x = lambda a: a**5\n",
        "x(8)"
      ],
      "execution_count": 11,
      "outputs": [
        {
          "output_type": "execute_result",
          "data": {
            "text/plain": [
              "32768"
            ]
          },
          "metadata": {
            "tags": []
          },
          "execution_count": 11
        }
      ]
    },
    {
      "cell_type": "code",
      "metadata": {
        "id": "rCz_iD0y_6P4",
        "colab_type": "code",
        "colab": {
          "base_uri": "https://localhost:8080/",
          "height": 50
        },
        "outputId": "3bf34c13-29bd-4e01-e38d-9448d9342edb"
      },
      "source": [
        "def abc(x):\n",
        "    return lambda y: x+y\n",
        "t = abc(4)\n",
        "print(t)\n",
        "print(t(5))"
      ],
      "execution_count": 13,
      "outputs": [
        {
          "output_type": "stream",
          "text": [
            "<function abc.<locals>.<lambda> at 0x7ff49a9bd378>\n",
            "9\n"
          ],
          "name": "stdout"
        }
      ]
    },
    {
      "cell_type": "code",
      "metadata": {
        "id": "aH7tAjBg_6Ul",
        "colab_type": "code",
        "colab": {
          "base_uri": "https://localhost:8080/",
          "height": 34
        },
        "outputId": "cac98d79-394b-4a5d-9345-5f0bc2b8a6f6"
      },
      "source": [
        "z = lambda x,y,z: (x+y)**2/z\n",
        "print(z(2,3,8))"
      ],
      "execution_count": 15,
      "outputs": [
        {
          "output_type": "stream",
          "text": [
            "3.125\n"
          ],
          "name": "stdout"
        }
      ]
    },
    {
      "cell_type": "code",
      "metadata": {
        "id": "T15O2-0U_6Ww",
        "colab_type": "code",
        "colab": {
          "base_uri": "https://localhost:8080/",
          "height": 34
        },
        "outputId": "54547969-88c7-4d1a-c311-af0aca264e2c"
      },
      "source": [
        "l = [1,2,3,4]\n",
        "x = map(lambda x: x+8,l)\n",
        "print(list(x))"
      ],
      "execution_count": 18,
      "outputs": [
        {
          "output_type": "stream",
          "text": [
            "[9, 10, 11, 12]\n"
          ],
          "name": "stdout"
        }
      ]
    },
    {
      "cell_type": "code",
      "metadata": {
        "id": "h-LuuqU5_6bJ",
        "colab_type": "code",
        "colab": {
          "base_uri": "https://localhost:8080/",
          "height": 67
        },
        "outputId": "5696f983-b75b-4af2-a290-8033fe94024b"
      },
      "source": [
        "def sqr(a):\n",
        "    if a%2==0:\n",
        "        return a\n",
        "# your code goes here1.2\n",
        "x = filter( sqr, [1,2,3,4,5] )\n",
        "print(x)\n",
        "print(type(x))\n",
        "print(list(x))"
      ],
      "execution_count": 20,
      "outputs": [
        {
          "output_type": "stream",
          "text": [
            "<filter object at 0x7ff49a8d8b70>\n",
            "<class 'filter'>\n",
            "[2, 4]\n"
          ],
          "name": "stdout"
        }
      ]
    },
    {
      "cell_type": "code",
      "metadata": {
        "id": "PgKNk67W_6d0",
        "colab_type": "code",
        "colab": {
          "base_uri": "https://localhost:8080/",
          "height": 34
        },
        "outputId": "f9d74187-d871-4208-e414-f4c67d8f3c7a"
      },
      "source": [
        "from functools import reduce # its required here\n",
        "def sqr(a,b):\n",
        "    return a*b\n",
        "# your code goes here1+5\n",
        "x = reduce(sqr, [1,2,3,4])\n",
        "print(x)"
      ],
      "execution_count": 23,
      "outputs": [
        {
          "output_type": "stream",
          "text": [
            "24\n"
          ],
          "name": "stdout"
        }
      ]
    },
    {
      "cell_type": "code",
      "metadata": {
        "id": "Hs09vJgk_6gE",
        "colab_type": "code",
        "colab": {
          "base_uri": "https://localhost:8080/",
          "height": 34
        },
        "outputId": "fe92ac6a-5c66-489f-a6d2-8bc292865077"
      },
      "source": [
        "reduce( lambda x,y: x-y , [0,1,2,3,4] )"
      ],
      "execution_count": 25,
      "outputs": [
        {
          "output_type": "execute_result",
          "data": {
            "text/plain": [
              "-10"
            ]
          },
          "metadata": {
            "tags": []
          },
          "execution_count": 25
        }
      ]
    },
    {
      "cell_type": "code",
      "metadata": {
        "id": "So9_Th6v_6jX",
        "colab_type": "code",
        "colab": {
          "base_uri": "https://localhost:8080/",
          "height": 50
        },
        "outputId": "04c4e1fe-5c3a-4247-9a79-841bbcf7cc45"
      },
      "source": [
        "x = map(lambda x: x+x,  filter(lambda x: x>=3., [1,2,3,4]))\n",
        "print(x)\n",
        "print(list(x))"
      ],
      "execution_count": 29,
      "outputs": [
        {
          "output_type": "stream",
          "text": [
            "<map object at 0x7ff49a8e3208>\n",
            "[6, 8]\n"
          ],
          "name": "stdout"
        }
      ]
    },
    {
      "cell_type": "code",
      "metadata": {
        "id": "8fZAfEC8A5hE",
        "colab_type": "code",
        "colab": {
          "base_uri": "https://localhost:8080/",
          "height": 50
        },
        "outputId": "e9fbcabb-7fad-47fb-eb24-b3a99697db43"
      },
      "source": [
        "x = filter(lambda x: x>4,  map(lambda x: x+3., [1,2,3,4]))\n",
        "# try this\n",
        "# x = filter(lambda x: x>=3,  map(lambda x: x+3., [1,2,3,4]))\n",
        "print(x)\n",
        "print(list(x))\n",
        "# print(tuple(x))"
      ],
      "execution_count": 30,
      "outputs": [
        {
          "output_type": "stream",
          "text": [
            "<filter object at 0x7ff49a8e32e8>\n",
            "[5.0, 6.0, 7.0]\n"
          ],
          "name": "stdout"
        }
      ]
    },
    {
      "cell_type": "code",
      "metadata": {
        "id": "dM1r2ZYeA9-r",
        "colab_type": "code",
        "colab": {
          "base_uri": "https://localhost:8080/",
          "height": 34
        },
        "outputId": "671a6b75-ee23-4ee8-9b17-b4d99d10ea7d"
      },
      "source": [
        "x = reduce(lambda x,y: x+y,  map(lambda x:x+x, filter(lambda x: x>=3, (1,2,3,4))))\n",
        "print(x)"
      ],
      "execution_count": 31,
      "outputs": [
        {
          "output_type": "stream",
          "text": [
            "14\n"
          ],
          "name": "stdout"
        }
      ]
    }
  ]
}