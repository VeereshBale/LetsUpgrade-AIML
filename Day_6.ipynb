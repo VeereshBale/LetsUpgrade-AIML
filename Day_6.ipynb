{
 "cells": [
  {
   "cell_type": "markdown",
   "metadata": {},
   "source": [
    "# Question 1"
   ]
  },
  {
   "cell_type": "code",
   "execution_count": 2,
   "metadata": {},
   "outputs": [
    {
     "name": "stdout",
     "output_type": "stream",
     "text": [
      "enter email addressjohnny@outlook.com\n"
     ]
    },
    {
     "data": {
      "text/plain": [
       "'outlook'"
      ]
     },
     "execution_count": 2,
     "metadata": {},
     "output_type": "execute_result"
    }
   ],
   "source": [
    "def company():\n",
    "    email=input('enter email address')\n",
    "    a=email.find('@')\n",
    "    b=email.find('.')\n",
    "    return email[a+1:b]\n",
    "company()"
   ]
  },
  {
   "cell_type": "markdown",
   "metadata": {},
   "source": [
    "# Question 2"
   ]
  },
  {
   "cell_type": "code",
   "execution_count": 18,
   "metadata": {},
   "outputs": [
    {
     "name": "stdout",
     "output_type": "stream",
     "text": [
      "Enter the sentencewithout,hello,bag,world\n"
     ]
    },
    {
     "data": {
      "text/plain": [
       "'bag,hello,without,world'"
      ]
     },
     "execution_count": 18,
     "metadata": {},
     "output_type": "execute_result"
    }
   ],
   "source": [
    "def sortwords():\n",
    "    sen=input('Enter the sentence')\n",
    "    sen=sen.split(',')\n",
    "    sen.sort()\n",
    "    sen=\",\".join(sen)\n",
    "    return sen\n",
    "sortwords()\n",
    "    "
   ]
  },
  {
   "cell_type": "markdown",
   "metadata": {},
   "source": [
    "# Question 4"
   ]
  },
  {
   "cell_type": "code",
   "execution_count": 4,
   "metadata": {},
   "outputs": [
    {
     "name": "stdout",
     "output_type": "stream",
     "text": [
      "give numbers 1 2 4 6 3 7 8\n"
     ]
    },
    {
     "data": {
      "text/plain": [
       "5"
      ]
     },
     "execution_count": 4,
     "metadata": {},
     "output_type": "execute_result"
    }
   ],
   "source": [
    "def missing():\n",
    "    numbers=input('give numbers ')\n",
    "    numbers=numbers.split(' ')\n",
    "    n=len(numbers)\n",
    "    real= [i for i in range(1,n+2)]\n",
    "    numbers=list(map(int,numbers))\n",
    "    miss=sum(real)-sum(numbers)\n",
    "    return miss\n",
    "missing()\n",
    "    "
   ]
  },
  {
   "cell_type": "markdown",
   "metadata": {},
   "source": [
    "# Question 5"
   ]
  },
  {
   "cell_type": "code",
   "execution_count": 7,
   "metadata": {},
   "outputs": [
    {
     "name": "stdout",
     "output_type": "stream",
     "text": [
      "give numbers 12 24 35 24 88 120 155 88 120 155\n"
     ]
    },
    {
     "data": {
      "text/plain": [
       "'12 24 35 88 120 155'"
      ]
     },
     "execution_count": 7,
     "metadata": {},
     "output_type": "execute_result"
    }
   ],
   "source": [
    "def duplicates():\n",
    "    numbers=input('give numbers ')\n",
    "    numbers=numbers.split(' ')\n",
    "    numbers=list(map(int,numbers))\n",
    "    i=[]\n",
    "    for n in numbers:\n",
    "        if n not in i:\n",
    "            i.append(n)\n",
    "    i = map(str,i)       \n",
    "    i=\" \".join(i)        \n",
    "    return i \n",
    "duplicates()\n",
    "    "
   ]
  }
 ],
 "metadata": {
  "kernelspec": {
   "display_name": "Python 3",
   "language": "python",
   "name": "python3"
  }
 },
 "nbformat": 4,
 "nbformat_minor": 4
}
