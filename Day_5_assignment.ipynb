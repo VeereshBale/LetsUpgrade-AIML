{
  "nbformat": 4,
  "nbformat_minor": 0,
  "metadata": {
    "colab": {
      "name": "Day-5 assignment.ipynb",
      "provenance": []
    },
    "kernelspec": {
      "name": "python3",
      "display_name": "Python 3"
    }
  },
  "cells": [
    {
      "cell_type": "markdown",
      "metadata": {
        "id": "n253JbQKWZ64",
        "colab_type": "text"
      },
      "source": [
        "<h1><b>Question 1</b></h1>"
      ]
    },
    {
      "cell_type": "code",
      "metadata": {
        "id": "mH_P1SXUWJMm",
        "colab_type": "code",
        "colab": {
          "base_uri": "https://localhost:8080/",
          "height": 353
        },
        "outputId": "f577cf65-e5ca-4029-9c3f-d50da9a8d7b8"
      },
      "source": [
        "j=0\n",
        "m=3\n",
        "i=3\n",
        "while j<20:\n",
        "  for k in range(2,i):\n",
        "    if i%k == 0:\n",
        "      m=1\n",
        "      break\n",
        "    else:\n",
        "      m=0\n",
        "  if m==0:\n",
        "    j=j+1\n",
        "    print(i) \n",
        "  i=i+1    \n"
      ],
      "execution_count": 4,
      "outputs": [
        {
          "output_type": "stream",
          "text": [
            "3\n",
            "5\n",
            "7\n",
            "11\n",
            "13\n",
            "17\n",
            "19\n",
            "23\n",
            "29\n",
            "31\n",
            "37\n",
            "41\n",
            "43\n",
            "47\n",
            "53\n",
            "59\n",
            "61\n",
            "67\n",
            "71\n",
            "73\n"
          ],
          "name": "stdout"
        }
      ]
    },
    {
      "cell_type": "markdown",
      "metadata": {
        "id": "A2rsTpQwXXGY",
        "colab_type": "text"
      },
      "source": [
        "<h1><b>Question 2</b></h1>\n"
      ]
    },
    {
      "cell_type": "code",
      "metadata": {
        "id": "Akaebsi7jpwA",
        "colab_type": "code",
        "colab": {
          "base_uri": "https://localhost:8080/",
          "height": 269
        },
        "outputId": "9f70b492-f2bb-4a19-e6cb-00a9540a32b9"
      },
      "source": [
        "c= 'hey,Hi i am learning AI'\n",
        "print('1',c.strip())\n",
        "print('2',c.split(' '))\n",
        "print('3',c.capitalize())\n",
        "print('4',c.casefold())\n",
        "print('5',c.count('i'))\n",
        "print('6',c.find('Hi'))\n",
        "print('7',c.index('am'))\n",
        "print('8',c.lower())\n",
        "print('9',c.replace('i','j'))\n",
        "print('10',c.split())\n",
        "print('11',c.title())\n",
        "print('12',c.upper())\n",
        "print('13',c.center(10))\n",
        "print('14',c.islower())\n",
        "print('15',c.isnumeric())"
      ],
      "execution_count": 8,
      "outputs": [
        {
          "output_type": "stream",
          "text": [
            "1 hey,Hi i am learning AI\n",
            "2 ['hey,Hi', 'i', 'am', 'learning', 'AI']\n",
            "3 Hey,hi i am learning ai\n",
            "4 hey,hi i am learning ai\n",
            "5 3\n",
            "6 4\n",
            "7 9\n",
            "8 hey,hi i am learning ai\n",
            "9 hey,Hj j am learnjng AI\n",
            "10 ['hey,Hi', 'i', 'am', 'learning', 'AI']\n",
            "11 Hey,Hi I Am Learning Ai\n",
            "12 HEY,HI I AM LEARNING AI\n",
            "13 hey,Hi i am learning AI\n",
            "14 False\n",
            "15 False\n"
          ],
          "name": "stdout"
        }
      ]
    }
  ]
}